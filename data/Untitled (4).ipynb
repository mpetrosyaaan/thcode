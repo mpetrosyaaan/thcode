{
 "cells": [
  {
   "cell_type": "code",
   "execution_count": 42,
   "id": "8c17ebd2",
   "metadata": {},
   "outputs": [],
   "source": [
    "import pandas as pd\n",
    "import plotly.express as px\n",
    "import warnings\n",
    "\n",
    "# Suppress all future warnings\n",
    "warnings.simplefilter(action='ignore', category=FutureWarning)"
   ]
  },
  {
   "cell_type": "code",
   "execution_count": 43,
   "id": "7503f10a",
   "metadata": {},
   "outputs": [],
   "source": [
    "url = \"https://en.wikipedia.org/wiki/List_of_cities_and_towns_in_Armenia\"\n",
    "tables = pd.read_html(url)"
   ]
  },
  {
   "cell_type": "code",
   "execution_count": 44,
   "id": "d013c8da",
   "metadata": {},
   "outputs": [
    {
     "data": {
      "text/plain": [
       "6"
      ]
     },
     "execution_count": 44,
     "metadata": {},
     "output_type": "execute_result"
    }
   ],
   "source": [
    "len(tables)"
   ]
  },
  {
   "cell_type": "code",
   "execution_count": 45,
   "id": "8aaa588e",
   "metadata": {},
   "outputs": [
    {
     "data": {
      "text/plain": [
       "[    Rank          City (Armenian name)     Province  Population (2001 census)  \\\n",
       " 0      1              Yerevan (Երեւան)            —                   1103488   \n",
       " 1      2              Gyumri (Գյումրի)       Shirak                    150917   \n",
       " 2      3            Vanadzor (Վանաձոր)         Lori                    107394   \n",
       " 3      4  Vagharshapat (Վաղարշապատ)[a]      Armavir                     56388   \n",
       " 4      5             Abovyan (Աբովյան)       Kotayk                     44569   \n",
       " 5      6                 Kapan (Կապան)       Syunik                     45711   \n",
       " 6      7             Hrazdan (Հրազդան)       Kotayk                     52808   \n",
       " 7      8             Armavir (Արմավիր)      Armavir                     32034   \n",
       " 8      9            Artashat (Արտաշատ)       Ararat                     25066   \n",
       " 9     10                Ijevan (Իջևան)       Tavush                     20223   \n",
       " 10    11                 Gavar (Գավառ)  Gegharkunik                     26621   \n",
       " 11    12                 Goris (Գորիս)       Syunik                     23261   \n",
       " 12    13     Charentsavan (Չարենցավան)       Kotayk                     25039   \n",
       " 13    14               Ararat (Արարատ)       Ararat                     20480   \n",
       " 14    15                 Masis (Մասիս)       Ararat                     21376   \n",
       " 15    16                 Artik (Արթիկ)       Shirak                     17561   \n",
       " 16    17                  Sevan (Սևան)  Gegharkunik                     21422   \n",
       " 17    18            Ashtarak (Աշտարակ)   Aragatsotn                     20636   \n",
       " 18    19             Dilijan (Դիլիջան)       Tavush                     16202   \n",
       " 19    20               Sisian (Սիսիան)       Syunik                     16843   \n",
       " 20    21           Alaverdi (Ալավերդի)         Lori                     16641   \n",
       " 21    22       Stepanavan (Ստեփանավան)         Lori                     16299   \n",
       " 22    23            Martuni (Մարտունի)  Gegharkunik                     11756   \n",
       " 23    24               Spitak (Սպիտակ)         Lori                     14984   \n",
       " 24    25           Vardenis (Վարդենիս)  Gegharkunik                     12753   \n",
       " 25    26             Yeghvard (Եղվարդ)       Kotayk                     11627   \n",
       " 26    27                   Vedi (Վեդի)       Ararat                     12963   \n",
       " 27    28     Byureghavan (Բյուրեղավան)       Kotayk                      8152   \n",
       " 28    29          Nor Hachn (Նոր Հաճն)       Kotayk                     10168   \n",
       " 29    30            Metsamor (Մեծամոր)      Armavir                      9870   \n",
       " 30    31                   Berd (Բերդ)       Tavush                      8810   \n",
       " 31    32      Yeghegnadzor (Եղեգնաձոր)  Vayots Dzor                      8187   \n",
       " 32    33                Tashir (Տաշիր)         Lori                      9538   \n",
       " 33    34             Kajaran (Քաջարան)       Syunik                      8439   \n",
       " 34    35               Aparan (Ապարան)   Aragatsotn                      6614   \n",
       " 35    36                   Vayk (Վայք)  Vayots Dzor                      6024   \n",
       " 36    37          Chambarak (Ճամբարակ)  Gegharkunik                      6405   \n",
       " 37    38             Maralik (Մարալիկ)       Shirak                      5782   \n",
       " 38    39     Noyemberyan (Նոյեմբերյան)       Tavush                      5486   \n",
       " 39    40                 Talin (Թալին)   Aragatsotn                      5614   \n",
       " 40    41              Jermuk (Ջերմուկ)  Vayots Dzor                      5394   \n",
       " 41    42                Meghri (Մեղրի)       Syunik                      4805   \n",
       " 42    43                Ayrum (Այրում)       Tavush                      2351   \n",
       " 43    44              Akhtala (Ախթալա)         Lori                      2435   \n",
       " 44    45          Tumanyan (Թումանյան)         Lori                      1909   \n",
       " 45    46        Tsaghkadzor (Ծաղկաձոր)       Kotayk                      1618   \n",
       " \n",
       "     Population (2011 census)  Population (2020 estimate) Change (2011–2020)  \n",
       " 0                    1060138                     1084000             +2.25%  \n",
       " 1                     121976                      112400             −7.85%  \n",
       " 2                      86199                       77200            −10.44%  \n",
       " 3                      46540                       46200             −0.73%  \n",
       " 4                      43495                       44900             +3.23%  \n",
       " 5                      43190                       42300             −2.06%  \n",
       " 6                      41875                       40000             −4.48%  \n",
       " 7                      29319                       27800             −5.18%  \n",
       " 8                      22269                       19300            −13.33%  \n",
       " 9                      21081                       20300             −3.70%  \n",
       " 10                     20765                       18100            −12.83%  \n",
       " 11                     20591                       20400             −0.93%  \n",
       " 12                     20363                       20400             +0.18%  \n",
       " 13                     20235                       20400             +0.82%  \n",
       " 14                     20215                       20600             +1.90%  \n",
       " 15                     19534                       17800             −8.88%  \n",
       " 16                     19229                       19000             −1.19%  \n",
       " 17                     18834                       16800            −10.80%  \n",
       " 18                     17712                       17300             −2.33%  \n",
       " 19                     14894                       14800             −0.63%  \n",
       " 20                     13343                       12500             −6.32%  \n",
       " 21                     13086                       12400             −5.24%  \n",
       " 22                     12894                       11500            −10.81%  \n",
       " 23                     12881                       12700             −1.41%  \n",
       " 24                     12685                       12400             −2.25%  \n",
       " 25                     11672                       11900             +1.95%  \n",
       " 26                     11384                       11800             +3.65%  \n",
       " 27                      9513                        9100             −4.34%  \n",
       " 28                      9307                        9300             −0.08%  \n",
       " 29                      9191                        8400             −8.61%  \n",
       " 30                      7957                        7500             −5.74%  \n",
       " 31                      7944                        7400             −6.85%  \n",
       " 32                      7773                        7200             −7.37%  \n",
       " 33                      7163                        6900             −3.67%  \n",
       " 34                      6451                        5900             −8.54%  \n",
       " 35                      5877                        5600             −4.71%  \n",
       " 36                      5850                        5600             −4.27%  \n",
       " 37                      5398                        5400             +0.04%  \n",
       " 38                      5310                        4500            −15.25%  \n",
       " 39                      5310                        4100            −22.79%  \n",
       " 40                      4628                        4100            −11.41%  \n",
       " 41                      4580                        4500             −1.75%  \n",
       " 42                      2126                        1800            −15.33%  \n",
       " 43                      2092                        2000             −4.40%  \n",
       " 44                      1710                        1500            −12.28%  \n",
       " 45                      1256                        1200             −4.46%  ,\n",
       "    .mw-parser-output .navbar{display:inline;font-size:88%;font-weight:normal}.mw-parser-output .navbar-collapse{float:left;text-align:left}.mw-parser-output .navbar-boxtext{word-spacing:0}.mw-parser-output .navbar ul{display:inline-block;white-space:nowrap;line-height:inherit}.mw-parser-output .navbar-brackets::before{margin-right:-0.125em;content:\"[ \"}.mw-parser-output .navbar-brackets::after{margin-left:-0.125em;content:\" ]\"}.mw-parser-output .navbar li{word-spacing:-0.125em}.mw-parser-output .navbar a>span,.mw-parser-output .navbar a>abbr{text-decoration:inherit}.mw-parser-output .navbar-mini abbr{font-variant:small-caps;border-bottom:none;text-decoration:none;cursor:inherit}.mw-parser-output .navbar-ct-full{font-size:114%;margin:0 7em}.mw-parser-output .navbar-ct-mini{font-size:114%;margin:0 4em}vteCities and towns in Armenia  \\\n",
       " 0                                          Aragatsotn                                                                                                                                                                                                                                                                                                                                                                                                                                                                                                                                                                                                                                                                                                                                                                                                                       \n",
       " 1                                              Ararat                                                                                                                                                                                                                                                                                                                                                                                                                                                                                                                                                                                                                                                                                                                                                                                                                       \n",
       " 2                                             Armavir                                                                                                                                                                                                                                                                                                                                                                                                                                                                                                                                                                                                                                                                                                                                                                                                                       \n",
       " 3                                         Gegharkunik                                                                                                                                                                                                                                                                                                                                                                                                                                                                                                                                                                                                                                                                                                                                                                                                                       \n",
       " 4                                              Kotayk                                                                                                                                                                                                                                                                                                                                                                                                                                                                                                                                                                                                                                                                                                                                                                                                                       \n",
       " 5                                                Lori                                                                                                                                                                                                                                                                                                                                                                                                                                                                                                                                                                                                                                                                                                                                                                                                                       \n",
       " 6                                              Shirak                                                                                                                                                                                                                                                                                                                                                                                                                                                                                                                                                                                                                                                                                                                                                                                                                       \n",
       " 7                                              Syunik                                                                                                                                                                                                                                                                                                                                                                                                                                                                                                                                                                                                                                                                                                                                                                                                                       \n",
       " 8                                              Tavush                                                                                                                                                                                                                                                                                                                                                                                                                                                                                                                                                                                                                                                                                                                                                                                                                       \n",
       " 9                                         Vayots Dzor                                                                                                                                                                                                                                                                                                                                                                                                                                                                                                                                                                                                                                                                                                                                                                                                                       \n",
       " 10                                       Capital city                                                                                                                                                                                                                                                                                                                                                                                                                                                                                                                                                                                                                                                                                                                                                                                                                       \n",
       " \n",
       "    .mw-parser-output .navbar{display:inline;font-size:88%;font-weight:normal}.mw-parser-output .navbar-collapse{float:left;text-align:left}.mw-parser-output .navbar-boxtext{word-spacing:0}.mw-parser-output .navbar ul{display:inline-block;white-space:nowrap;line-height:inherit}.mw-parser-output .navbar-brackets::before{margin-right:-0.125em;content:\"[ \"}.mw-parser-output .navbar-brackets::after{margin-left:-0.125em;content:\" ]\"}.mw-parser-output .navbar li{word-spacing:-0.125em}.mw-parser-output .navbar a>span,.mw-parser-output .navbar a>abbr{text-decoration:inherit}.mw-parser-output .navbar-mini abbr{font-variant:small-caps;border-bottom:none;text-decoration:none;cursor:inherit}.mw-parser-output .navbar-ct-full{font-size:114%;margin:0 7em}.mw-parser-output .navbar-ct-mini{font-size:114%;margin:0 4em}vteCities and towns in Armenia.1  \\\n",
       " 0                               Ashtarak Aparan Talin                                                                                                                                                                                                                                                                                                                                                                                                                                                                                                                                                                                                                                                                                                                                                                                                                         \n",
       " 1                          Artashat Ararat Masis Vedi                                                                                                                                                                                                                                                                                                                                                                                                                                                                                                                                                                                                                                                                                                                                                                                                                         \n",
       " 2                       Armavir Metsamor Vagharshapat                                                                                                                                                                                                                                                                                                                                                                                                                                                                                                                                                                                                                                                                                                                                                                                                                         \n",
       " 3              Gavar Chambarak Martuni Sevan Vardenis                                                                                                                                                                                                                                                                                                                                                                                                                                                                                                                                                                                                                                                                                                                                                                                                                         \n",
       " 4   Hrazdan Abovyan Byureghavan Charentsavan Nor H...                                                                                                                                                                                                                                                                                                                                                                                                                                                                                                                                                                                                                                                                                                                                                                                                                         \n",
       " 5   Vanadzor Akhtala Alaverdi Spitak Stepanavan Ta...                                                                                                                                                                                                                                                                                                                                                                                                                                                                                                                                                                                                                                                                                                                                                                                                                         \n",
       " 6                                Gyumri Artik Maralik                                                                                                                                                                                                                                                                                                                                                                                                                                                                                                                                                                                                                                                                                                                                                                                                                         \n",
       " 7                   Kapan Goris Kajaran Meghri Sisian                                                                                                                                                                                                                                                                                                                                                                                                                                                                                                                                                                                                                                                                                                                                                                                                                         \n",
       " 8               Ijevan Ayrum Berd Dilijan Noyemberyan                                                                                                                                                                                                                                                                                                                                                                                                                                                                                                                                                                                                                                                                                                                                                                                                                         \n",
       " 9                            Yeghegnadzor Jermuk Vayk                                                                                                                                                                                                                                                                                                                                                                                                                                                                                                                                                                                                                                                                                                                                                                                                                         \n",
       " 10                                            Yerevan                                                                                                                                                                                                                                                                                                                                                                                                                                                                                                                                                                                                                                                                                                                                                                                                                         \n",
       " \n",
       "     .mw-parser-output .navbar{display:inline;font-size:88%;font-weight:normal}.mw-parser-output .navbar-collapse{float:left;text-align:left}.mw-parser-output .navbar-boxtext{word-spacing:0}.mw-parser-output .navbar ul{display:inline-block;white-space:nowrap;line-height:inherit}.mw-parser-output .navbar-brackets::before{margin-right:-0.125em;content:\"[ \"}.mw-parser-output .navbar-brackets::after{margin-left:-0.125em;content:\" ]\"}.mw-parser-output .navbar li{word-spacing:-0.125em}.mw-parser-output .navbar a>span,.mw-parser-output .navbar a>abbr{text-decoration:inherit}.mw-parser-output .navbar-mini abbr{font-variant:small-caps;border-bottom:none;text-decoration:none;cursor:inherit}.mw-parser-output .navbar-ct-full{font-size:114%;margin:0 7em}.mw-parser-output .navbar-ct-mini{font-size:114%;margin:0 4em}vteCities and towns in Armenia.2  \n",
       " 0                                                 NaN                                                                                                                                                                                                                                                                                                                                                                                                                                                                                                                                                                                                                                                                                                                                                                                                                         \n",
       " 1                                                 NaN                                                                                                                                                                                                                                                                                                                                                                                                                                                                                                                                                                                                                                                                                                                                                                                                                         \n",
       " 2                                                 NaN                                                                                                                                                                                                                                                                                                                                                                                                                                                                                                                                                                                                                                                                                                                                                                                                                         \n",
       " 3                                                 NaN                                                                                                                                                                                                                                                                                                                                                                                                                                                                                                                                                                                                                                                                                                                                                                                                                         \n",
       " 4                                                 NaN                                                                                                                                                                                                                                                                                                                                                                                                                                                                                                                                                                                                                                                                                                                                                                                                                         \n",
       " 5                                                 NaN                                                                                                                                                                                                                                                                                                                                                                                                                                                                                                                                                                                                                                                                                                                                                                                                                         \n",
       " 6                                                 NaN                                                                                                                                                                                                                                                                                                                                                                                                                                                                                                                                                                                                                                                                                                                                                                                                                         \n",
       " 7                                                 NaN                                                                                                                                                                                                                                                                                                                                                                                                                                                                                                                                                                                                                                                                                                                                                                                                                         \n",
       " 8                                                 NaN                                                                                                                                                                                                                                                                                                                                                                                                                                                                                                                                                                                                                                                                                                                                                                                                                         \n",
       " 9                                                 NaN                                                                                                                                                                                                                                                                                                                                                                                                                                                                                                                                                                                                                                                                                                                                                                                                                         \n",
       " 10                                                NaN                                                                                                                                                                                                                                                                                                                                                                                                                                                                                                                                                                                                                                                                                                                                                                                                                         ,\n",
       "             vteList of cities in Asia  \\\n",
       " 0                    Sovereign states   \n",
       " 1     States with limited recognition   \n",
       " 2  Dependencies and other territories   \n",
       " 3               Category  Asia portal   \n",
       " \n",
       "                          vteList of cities in Asia.1  \n",
       " 0  Afghanistan Armenia Azerbaijan Bahrain Banglad...  \n",
       " 1  Abkhazia Northern Cyprus Palestine South Osset...  \n",
       " 2  British Indian Ocean Territory Christmas Islan...  \n",
       " 3                              Category  Asia portal  ,\n",
       "       vteLists of cities in Europe  \\\n",
       " 0                 Sovereign states   \n",
       " 1  States with limited recognition   \n",
       " 2  Dependencies and other entities   \n",
       " \n",
       "                       vteLists of cities in Europe.1  \n",
       " 0  Albania Andorra Armenia Austria Azerbaijan Bel...  \n",
       " 1  Abkhazia Kosovo Northern Cyprus South Ossetia ...  \n",
       " 2                                          Gibraltar  ,\n",
       "              vteList of towns in Asia  \\\n",
       " 0                    Sovereign states   \n",
       " 1     States with limited recognition   \n",
       " 2  Dependencies and other territories   \n",
       " 3               Category  Asia portal   \n",
       " \n",
       "                           vteList of towns in Asia.1  \n",
       " 0  Afghanistan Armenia Azerbaijan Bahrain Banglad...  \n",
       " 1  Abkhazia Northern Cyprus Palestine South Osset...  \n",
       " 2  British Indian Ocean Territory Christmas Islan...  \n",
       " 3                              Category  Asia portal  ,\n",
       "         vteList of towns in Europe  \\\n",
       " 0                 Sovereign states   \n",
       " 1  States with limited recognition   \n",
       " 2  Dependencies and other entities   \n",
       " \n",
       "                         vteList of towns in Europe.1  \n",
       " 0  Albania Andorra Armenia Austria Azerbaijan Bel...  \n",
       " 1  Abkhazia Kosovo Northern Cyprus South Ossetia ...  \n",
       " 2  Åland Faroe Islands Gibraltar Guernsey Isle of...  ]"
      ]
     },
     "execution_count": 45,
     "metadata": {},
     "output_type": "execute_result"
    }
   ],
   "source": [
    "tables"
   ]
  },
  {
   "cell_type": "code",
   "execution_count": 46,
   "id": "2fdd11c2",
   "metadata": {},
   "outputs": [
    {
     "data": {
      "text/html": [
       "<div>\n",
       "<style scoped>\n",
       "    .dataframe tbody tr th:only-of-type {\n",
       "        vertical-align: middle;\n",
       "    }\n",
       "\n",
       "    .dataframe tbody tr th {\n",
       "        vertical-align: top;\n",
       "    }\n",
       "\n",
       "    .dataframe thead th {\n",
       "        text-align: right;\n",
       "    }\n",
       "</style>\n",
       "<table border=\"1\" class=\"dataframe\">\n",
       "  <thead>\n",
       "    <tr style=\"text-align: right;\">\n",
       "      <th></th>\n",
       "      <th>Rank</th>\n",
       "      <th>City (Armenian name)</th>\n",
       "      <th>Province</th>\n",
       "      <th>Population (2001 census)</th>\n",
       "      <th>Population (2011 census)</th>\n",
       "      <th>Population (2020 estimate)</th>\n",
       "      <th>Change (2011–2020)</th>\n",
       "    </tr>\n",
       "  </thead>\n",
       "  <tbody>\n",
       "    <tr>\n",
       "      <th>0</th>\n",
       "      <td>1</td>\n",
       "      <td>Yerevan (Երեւան)</td>\n",
       "      <td>—</td>\n",
       "      <td>1103488</td>\n",
       "      <td>1060138</td>\n",
       "      <td>1084000</td>\n",
       "      <td>+2.25%</td>\n",
       "    </tr>\n",
       "    <tr>\n",
       "      <th>1</th>\n",
       "      <td>2</td>\n",
       "      <td>Gyumri (Գյումրի)</td>\n",
       "      <td>Shirak</td>\n",
       "      <td>150917</td>\n",
       "      <td>121976</td>\n",
       "      <td>112400</td>\n",
       "      <td>−7.85%</td>\n",
       "    </tr>\n",
       "    <tr>\n",
       "      <th>2</th>\n",
       "      <td>3</td>\n",
       "      <td>Vanadzor (Վանաձոր)</td>\n",
       "      <td>Lori</td>\n",
       "      <td>107394</td>\n",
       "      <td>86199</td>\n",
       "      <td>77200</td>\n",
       "      <td>−10.44%</td>\n",
       "    </tr>\n",
       "    <tr>\n",
       "      <th>3</th>\n",
       "      <td>4</td>\n",
       "      <td>Vagharshapat (Վաղարշապատ)[a]</td>\n",
       "      <td>Armavir</td>\n",
       "      <td>56388</td>\n",
       "      <td>46540</td>\n",
       "      <td>46200</td>\n",
       "      <td>−0.73%</td>\n",
       "    </tr>\n",
       "    <tr>\n",
       "      <th>4</th>\n",
       "      <td>5</td>\n",
       "      <td>Abovyan (Աբովյան)</td>\n",
       "      <td>Kotayk</td>\n",
       "      <td>44569</td>\n",
       "      <td>43495</td>\n",
       "      <td>44900</td>\n",
       "      <td>+3.23%</td>\n",
       "    </tr>\n",
       "  </tbody>\n",
       "</table>\n",
       "</div>"
      ],
      "text/plain": [
       "   Rank          City (Armenian name) Province  Population (2001 census)  \\\n",
       "0     1              Yerevan (Երեւան)        —                   1103488   \n",
       "1     2              Gyumri (Գյումրի)   Shirak                    150917   \n",
       "2     3            Vanadzor (Վանաձոր)     Lori                    107394   \n",
       "3     4  Vagharshapat (Վաղարշապատ)[a]  Armavir                     56388   \n",
       "4     5             Abovyan (Աբովյան)   Kotayk                     44569   \n",
       "\n",
       "   Population (2011 census)  Population (2020 estimate) Change (2011–2020)  \n",
       "0                   1060138                     1084000             +2.25%  \n",
       "1                    121976                      112400             −7.85%  \n",
       "2                     86199                       77200            −10.44%  \n",
       "3                     46540                       46200             −0.73%  \n",
       "4                     43495                       44900             +3.23%  "
      ]
     },
     "execution_count": 46,
     "metadata": {},
     "output_type": "execute_result"
    }
   ],
   "source": [
    "Arm_Population = tables[0]\n",
    "Arm_Population.head()"
   ]
  },
  {
   "cell_type": "code",
   "execution_count": 47,
   "id": "b9b5dd5b",
   "metadata": {},
   "outputs": [
    {
     "data": {
      "text/html": [
       "<div>\n",
       "<style scoped>\n",
       "    .dataframe tbody tr th:only-of-type {\n",
       "        vertical-align: middle;\n",
       "    }\n",
       "\n",
       "    .dataframe tbody tr th {\n",
       "        vertical-align: top;\n",
       "    }\n",
       "\n",
       "    .dataframe thead th {\n",
       "        text-align: right;\n",
       "    }\n",
       "</style>\n",
       "<table border=\"1\" class=\"dataframe\">\n",
       "  <thead>\n",
       "    <tr style=\"text-align: right;\">\n",
       "      <th></th>\n",
       "      <th>Rank</th>\n",
       "      <th>City (Armenian name)</th>\n",
       "      <th>Province</th>\n",
       "      <th>Population (2001 census)</th>\n",
       "      <th>Population (2011 census)</th>\n",
       "      <th>Population (2020 estimate)</th>\n",
       "      <th>Change (2011–2020)</th>\n",
       "    </tr>\n",
       "  </thead>\n",
       "  <tbody>\n",
       "    <tr>\n",
       "      <th>0</th>\n",
       "      <td>1</td>\n",
       "      <td>Yerevan (Երեւան)</td>\n",
       "      <td>—</td>\n",
       "      <td>1103488</td>\n",
       "      <td>1060138</td>\n",
       "      <td>1084000</td>\n",
       "      <td>+2.25%</td>\n",
       "    </tr>\n",
       "    <tr>\n",
       "      <th>1</th>\n",
       "      <td>2</td>\n",
       "      <td>Gyumri (Գյումրի)</td>\n",
       "      <td>Shirak</td>\n",
       "      <td>150917</td>\n",
       "      <td>121976</td>\n",
       "      <td>112400</td>\n",
       "      <td>−7.85%</td>\n",
       "    </tr>\n",
       "    <tr>\n",
       "      <th>2</th>\n",
       "      <td>3</td>\n",
       "      <td>Vanadzor (Վանաձոր)</td>\n",
       "      <td>Lori</td>\n",
       "      <td>107394</td>\n",
       "      <td>86199</td>\n",
       "      <td>77200</td>\n",
       "      <td>−10.44%</td>\n",
       "    </tr>\n",
       "    <tr>\n",
       "      <th>3</th>\n",
       "      <td>4</td>\n",
       "      <td>Vagharshapat (Վաղարշապատ)[a]</td>\n",
       "      <td>Armavir</td>\n",
       "      <td>56388</td>\n",
       "      <td>46540</td>\n",
       "      <td>46200</td>\n",
       "      <td>−0.73%</td>\n",
       "    </tr>\n",
       "    <tr>\n",
       "      <th>4</th>\n",
       "      <td>5</td>\n",
       "      <td>Abovyan (Աբովյան)</td>\n",
       "      <td>Kotayk</td>\n",
       "      <td>44569</td>\n",
       "      <td>43495</td>\n",
       "      <td>44900</td>\n",
       "      <td>+3.23%</td>\n",
       "    </tr>\n",
       "    <tr>\n",
       "      <th>5</th>\n",
       "      <td>6</td>\n",
       "      <td>Kapan (Կապան)</td>\n",
       "      <td>Syunik</td>\n",
       "      <td>45711</td>\n",
       "      <td>43190</td>\n",
       "      <td>42300</td>\n",
       "      <td>−2.06%</td>\n",
       "    </tr>\n",
       "    <tr>\n",
       "      <th>6</th>\n",
       "      <td>7</td>\n",
       "      <td>Hrazdan (Հրազդան)</td>\n",
       "      <td>Kotayk</td>\n",
       "      <td>52808</td>\n",
       "      <td>41875</td>\n",
       "      <td>40000</td>\n",
       "      <td>−4.48%</td>\n",
       "    </tr>\n",
       "    <tr>\n",
       "      <th>7</th>\n",
       "      <td>8</td>\n",
       "      <td>Armavir (Արմավիր)</td>\n",
       "      <td>Armavir</td>\n",
       "      <td>32034</td>\n",
       "      <td>29319</td>\n",
       "      <td>27800</td>\n",
       "      <td>−5.18%</td>\n",
       "    </tr>\n",
       "    <tr>\n",
       "      <th>8</th>\n",
       "      <td>9</td>\n",
       "      <td>Artashat (Արտաշատ)</td>\n",
       "      <td>Ararat</td>\n",
       "      <td>25066</td>\n",
       "      <td>22269</td>\n",
       "      <td>19300</td>\n",
       "      <td>−13.33%</td>\n",
       "    </tr>\n",
       "    <tr>\n",
       "      <th>9</th>\n",
       "      <td>10</td>\n",
       "      <td>Ijevan (Իջևան)</td>\n",
       "      <td>Tavush</td>\n",
       "      <td>20223</td>\n",
       "      <td>21081</td>\n",
       "      <td>20300</td>\n",
       "      <td>−3.70%</td>\n",
       "    </tr>\n",
       "    <tr>\n",
       "      <th>10</th>\n",
       "      <td>11</td>\n",
       "      <td>Gavar (Գավառ)</td>\n",
       "      <td>Gegharkunik</td>\n",
       "      <td>26621</td>\n",
       "      <td>20765</td>\n",
       "      <td>18100</td>\n",
       "      <td>−12.83%</td>\n",
       "    </tr>\n",
       "    <tr>\n",
       "      <th>11</th>\n",
       "      <td>12</td>\n",
       "      <td>Goris (Գորիս)</td>\n",
       "      <td>Syunik</td>\n",
       "      <td>23261</td>\n",
       "      <td>20591</td>\n",
       "      <td>20400</td>\n",
       "      <td>−0.93%</td>\n",
       "    </tr>\n",
       "    <tr>\n",
       "      <th>12</th>\n",
       "      <td>13</td>\n",
       "      <td>Charentsavan (Չարենցավան)</td>\n",
       "      <td>Kotayk</td>\n",
       "      <td>25039</td>\n",
       "      <td>20363</td>\n",
       "      <td>20400</td>\n",
       "      <td>+0.18%</td>\n",
       "    </tr>\n",
       "    <tr>\n",
       "      <th>13</th>\n",
       "      <td>14</td>\n",
       "      <td>Ararat (Արարատ)</td>\n",
       "      <td>Ararat</td>\n",
       "      <td>20480</td>\n",
       "      <td>20235</td>\n",
       "      <td>20400</td>\n",
       "      <td>+0.82%</td>\n",
       "    </tr>\n",
       "    <tr>\n",
       "      <th>14</th>\n",
       "      <td>15</td>\n",
       "      <td>Masis (Մասիս)</td>\n",
       "      <td>Ararat</td>\n",
       "      <td>21376</td>\n",
       "      <td>20215</td>\n",
       "      <td>20600</td>\n",
       "      <td>+1.90%</td>\n",
       "    </tr>\n",
       "    <tr>\n",
       "      <th>15</th>\n",
       "      <td>16</td>\n",
       "      <td>Artik (Արթիկ)</td>\n",
       "      <td>Shirak</td>\n",
       "      <td>17561</td>\n",
       "      <td>19534</td>\n",
       "      <td>17800</td>\n",
       "      <td>−8.88%</td>\n",
       "    </tr>\n",
       "    <tr>\n",
       "      <th>16</th>\n",
       "      <td>17</td>\n",
       "      <td>Sevan (Սևան)</td>\n",
       "      <td>Gegharkunik</td>\n",
       "      <td>21422</td>\n",
       "      <td>19229</td>\n",
       "      <td>19000</td>\n",
       "      <td>−1.19%</td>\n",
       "    </tr>\n",
       "    <tr>\n",
       "      <th>17</th>\n",
       "      <td>18</td>\n",
       "      <td>Ashtarak (Աշտարակ)</td>\n",
       "      <td>Aragatsotn</td>\n",
       "      <td>20636</td>\n",
       "      <td>18834</td>\n",
       "      <td>16800</td>\n",
       "      <td>−10.80%</td>\n",
       "    </tr>\n",
       "    <tr>\n",
       "      <th>18</th>\n",
       "      <td>19</td>\n",
       "      <td>Dilijan (Դիլիջան)</td>\n",
       "      <td>Tavush</td>\n",
       "      <td>16202</td>\n",
       "      <td>17712</td>\n",
       "      <td>17300</td>\n",
       "      <td>−2.33%</td>\n",
       "    </tr>\n",
       "    <tr>\n",
       "      <th>19</th>\n",
       "      <td>20</td>\n",
       "      <td>Sisian (Սիսիան)</td>\n",
       "      <td>Syunik</td>\n",
       "      <td>16843</td>\n",
       "      <td>14894</td>\n",
       "      <td>14800</td>\n",
       "      <td>−0.63%</td>\n",
       "    </tr>\n",
       "    <tr>\n",
       "      <th>20</th>\n",
       "      <td>21</td>\n",
       "      <td>Alaverdi (Ալավերդի)</td>\n",
       "      <td>Lori</td>\n",
       "      <td>16641</td>\n",
       "      <td>13343</td>\n",
       "      <td>12500</td>\n",
       "      <td>−6.32%</td>\n",
       "    </tr>\n",
       "    <tr>\n",
       "      <th>21</th>\n",
       "      <td>22</td>\n",
       "      <td>Stepanavan (Ստեփանավան)</td>\n",
       "      <td>Lori</td>\n",
       "      <td>16299</td>\n",
       "      <td>13086</td>\n",
       "      <td>12400</td>\n",
       "      <td>−5.24%</td>\n",
       "    </tr>\n",
       "    <tr>\n",
       "      <th>22</th>\n",
       "      <td>23</td>\n",
       "      <td>Martuni (Մարտունի)</td>\n",
       "      <td>Gegharkunik</td>\n",
       "      <td>11756</td>\n",
       "      <td>12894</td>\n",
       "      <td>11500</td>\n",
       "      <td>−10.81%</td>\n",
       "    </tr>\n",
       "    <tr>\n",
       "      <th>23</th>\n",
       "      <td>24</td>\n",
       "      <td>Spitak (Սպիտակ)</td>\n",
       "      <td>Lori</td>\n",
       "      <td>14984</td>\n",
       "      <td>12881</td>\n",
       "      <td>12700</td>\n",
       "      <td>−1.41%</td>\n",
       "    </tr>\n",
       "    <tr>\n",
       "      <th>24</th>\n",
       "      <td>25</td>\n",
       "      <td>Vardenis (Վարդենիս)</td>\n",
       "      <td>Gegharkunik</td>\n",
       "      <td>12753</td>\n",
       "      <td>12685</td>\n",
       "      <td>12400</td>\n",
       "      <td>−2.25%</td>\n",
       "    </tr>\n",
       "    <tr>\n",
       "      <th>25</th>\n",
       "      <td>26</td>\n",
       "      <td>Yeghvard (Եղվարդ)</td>\n",
       "      <td>Kotayk</td>\n",
       "      <td>11627</td>\n",
       "      <td>11672</td>\n",
       "      <td>11900</td>\n",
       "      <td>+1.95%</td>\n",
       "    </tr>\n",
       "    <tr>\n",
       "      <th>26</th>\n",
       "      <td>27</td>\n",
       "      <td>Vedi (Վեդի)</td>\n",
       "      <td>Ararat</td>\n",
       "      <td>12963</td>\n",
       "      <td>11384</td>\n",
       "      <td>11800</td>\n",
       "      <td>+3.65%</td>\n",
       "    </tr>\n",
       "    <tr>\n",
       "      <th>27</th>\n",
       "      <td>28</td>\n",
       "      <td>Byureghavan (Բյուրեղավան)</td>\n",
       "      <td>Kotayk</td>\n",
       "      <td>8152</td>\n",
       "      <td>9513</td>\n",
       "      <td>9100</td>\n",
       "      <td>−4.34%</td>\n",
       "    </tr>\n",
       "    <tr>\n",
       "      <th>28</th>\n",
       "      <td>29</td>\n",
       "      <td>Nor Hachn (Նոր Հաճն)</td>\n",
       "      <td>Kotayk</td>\n",
       "      <td>10168</td>\n",
       "      <td>9307</td>\n",
       "      <td>9300</td>\n",
       "      <td>−0.08%</td>\n",
       "    </tr>\n",
       "    <tr>\n",
       "      <th>29</th>\n",
       "      <td>30</td>\n",
       "      <td>Metsamor (Մեծամոր)</td>\n",
       "      <td>Armavir</td>\n",
       "      <td>9870</td>\n",
       "      <td>9191</td>\n",
       "      <td>8400</td>\n",
       "      <td>−8.61%</td>\n",
       "    </tr>\n",
       "    <tr>\n",
       "      <th>30</th>\n",
       "      <td>31</td>\n",
       "      <td>Berd (Բերդ)</td>\n",
       "      <td>Tavush</td>\n",
       "      <td>8810</td>\n",
       "      <td>7957</td>\n",
       "      <td>7500</td>\n",
       "      <td>−5.74%</td>\n",
       "    </tr>\n",
       "    <tr>\n",
       "      <th>31</th>\n",
       "      <td>32</td>\n",
       "      <td>Yeghegnadzor (Եղեգնաձոր)</td>\n",
       "      <td>Vayots Dzor</td>\n",
       "      <td>8187</td>\n",
       "      <td>7944</td>\n",
       "      <td>7400</td>\n",
       "      <td>−6.85%</td>\n",
       "    </tr>\n",
       "    <tr>\n",
       "      <th>32</th>\n",
       "      <td>33</td>\n",
       "      <td>Tashir (Տաշիր)</td>\n",
       "      <td>Lori</td>\n",
       "      <td>9538</td>\n",
       "      <td>7773</td>\n",
       "      <td>7200</td>\n",
       "      <td>−7.37%</td>\n",
       "    </tr>\n",
       "    <tr>\n",
       "      <th>33</th>\n",
       "      <td>34</td>\n",
       "      <td>Kajaran (Քաջարան)</td>\n",
       "      <td>Syunik</td>\n",
       "      <td>8439</td>\n",
       "      <td>7163</td>\n",
       "      <td>6900</td>\n",
       "      <td>−3.67%</td>\n",
       "    </tr>\n",
       "    <tr>\n",
       "      <th>34</th>\n",
       "      <td>35</td>\n",
       "      <td>Aparan (Ապարան)</td>\n",
       "      <td>Aragatsotn</td>\n",
       "      <td>6614</td>\n",
       "      <td>6451</td>\n",
       "      <td>5900</td>\n",
       "      <td>−8.54%</td>\n",
       "    </tr>\n",
       "    <tr>\n",
       "      <th>35</th>\n",
       "      <td>36</td>\n",
       "      <td>Vayk (Վայք)</td>\n",
       "      <td>Vayots Dzor</td>\n",
       "      <td>6024</td>\n",
       "      <td>5877</td>\n",
       "      <td>5600</td>\n",
       "      <td>−4.71%</td>\n",
       "    </tr>\n",
       "    <tr>\n",
       "      <th>36</th>\n",
       "      <td>37</td>\n",
       "      <td>Chambarak (Ճամբարակ)</td>\n",
       "      <td>Gegharkunik</td>\n",
       "      <td>6405</td>\n",
       "      <td>5850</td>\n",
       "      <td>5600</td>\n",
       "      <td>−4.27%</td>\n",
       "    </tr>\n",
       "    <tr>\n",
       "      <th>37</th>\n",
       "      <td>38</td>\n",
       "      <td>Maralik (Մարալիկ)</td>\n",
       "      <td>Shirak</td>\n",
       "      <td>5782</td>\n",
       "      <td>5398</td>\n",
       "      <td>5400</td>\n",
       "      <td>+0.04%</td>\n",
       "    </tr>\n",
       "    <tr>\n",
       "      <th>38</th>\n",
       "      <td>39</td>\n",
       "      <td>Noyemberyan (Նոյեմբերյան)</td>\n",
       "      <td>Tavush</td>\n",
       "      <td>5486</td>\n",
       "      <td>5310</td>\n",
       "      <td>4500</td>\n",
       "      <td>−15.25%</td>\n",
       "    </tr>\n",
       "    <tr>\n",
       "      <th>39</th>\n",
       "      <td>40</td>\n",
       "      <td>Talin (Թալին)</td>\n",
       "      <td>Aragatsotn</td>\n",
       "      <td>5614</td>\n",
       "      <td>5310</td>\n",
       "      <td>4100</td>\n",
       "      <td>−22.79%</td>\n",
       "    </tr>\n",
       "    <tr>\n",
       "      <th>40</th>\n",
       "      <td>41</td>\n",
       "      <td>Jermuk (Ջերմուկ)</td>\n",
       "      <td>Vayots Dzor</td>\n",
       "      <td>5394</td>\n",
       "      <td>4628</td>\n",
       "      <td>4100</td>\n",
       "      <td>−11.41%</td>\n",
       "    </tr>\n",
       "    <tr>\n",
       "      <th>41</th>\n",
       "      <td>42</td>\n",
       "      <td>Meghri (Մեղրի)</td>\n",
       "      <td>Syunik</td>\n",
       "      <td>4805</td>\n",
       "      <td>4580</td>\n",
       "      <td>4500</td>\n",
       "      <td>−1.75%</td>\n",
       "    </tr>\n",
       "    <tr>\n",
       "      <th>42</th>\n",
       "      <td>43</td>\n",
       "      <td>Ayrum (Այրում)</td>\n",
       "      <td>Tavush</td>\n",
       "      <td>2351</td>\n",
       "      <td>2126</td>\n",
       "      <td>1800</td>\n",
       "      <td>−15.33%</td>\n",
       "    </tr>\n",
       "    <tr>\n",
       "      <th>43</th>\n",
       "      <td>44</td>\n",
       "      <td>Akhtala (Ախթալա)</td>\n",
       "      <td>Lori</td>\n",
       "      <td>2435</td>\n",
       "      <td>2092</td>\n",
       "      <td>2000</td>\n",
       "      <td>−4.40%</td>\n",
       "    </tr>\n",
       "    <tr>\n",
       "      <th>44</th>\n",
       "      <td>45</td>\n",
       "      <td>Tumanyan (Թումանյան)</td>\n",
       "      <td>Lori</td>\n",
       "      <td>1909</td>\n",
       "      <td>1710</td>\n",
       "      <td>1500</td>\n",
       "      <td>−12.28%</td>\n",
       "    </tr>\n",
       "    <tr>\n",
       "      <th>45</th>\n",
       "      <td>46</td>\n",
       "      <td>Tsaghkadzor (Ծաղկաձոր)</td>\n",
       "      <td>Kotayk</td>\n",
       "      <td>1618</td>\n",
       "      <td>1256</td>\n",
       "      <td>1200</td>\n",
       "      <td>−4.46%</td>\n",
       "    </tr>\n",
       "  </tbody>\n",
       "</table>\n",
       "</div>"
      ],
      "text/plain": [
       "    Rank          City (Armenian name)     Province  Population (2001 census)  \\\n",
       "0      1              Yerevan (Երեւան)            —                   1103488   \n",
       "1      2              Gyumri (Գյումրի)       Shirak                    150917   \n",
       "2      3            Vanadzor (Վանաձոր)         Lori                    107394   \n",
       "3      4  Vagharshapat (Վաղարշապատ)[a]      Armavir                     56388   \n",
       "4      5             Abovyan (Աբովյան)       Kotayk                     44569   \n",
       "5      6                 Kapan (Կապան)       Syunik                     45711   \n",
       "6      7             Hrazdan (Հրազդան)       Kotayk                     52808   \n",
       "7      8             Armavir (Արմավիր)      Armavir                     32034   \n",
       "8      9            Artashat (Արտաշատ)       Ararat                     25066   \n",
       "9     10                Ijevan (Իջևան)       Tavush                     20223   \n",
       "10    11                 Gavar (Գավառ)  Gegharkunik                     26621   \n",
       "11    12                 Goris (Գորիս)       Syunik                     23261   \n",
       "12    13     Charentsavan (Չարենցավան)       Kotayk                     25039   \n",
       "13    14               Ararat (Արարատ)       Ararat                     20480   \n",
       "14    15                 Masis (Մասիս)       Ararat                     21376   \n",
       "15    16                 Artik (Արթիկ)       Shirak                     17561   \n",
       "16    17                  Sevan (Սևան)  Gegharkunik                     21422   \n",
       "17    18            Ashtarak (Աշտարակ)   Aragatsotn                     20636   \n",
       "18    19             Dilijan (Դիլիջան)       Tavush                     16202   \n",
       "19    20               Sisian (Սիսիան)       Syunik                     16843   \n",
       "20    21           Alaverdi (Ալավերդի)         Lori                     16641   \n",
       "21    22       Stepanavan (Ստեփանավան)         Lori                     16299   \n",
       "22    23            Martuni (Մարտունի)  Gegharkunik                     11756   \n",
       "23    24               Spitak (Սպիտակ)         Lori                     14984   \n",
       "24    25           Vardenis (Վարդենիս)  Gegharkunik                     12753   \n",
       "25    26             Yeghvard (Եղվարդ)       Kotayk                     11627   \n",
       "26    27                   Vedi (Վեդի)       Ararat                     12963   \n",
       "27    28     Byureghavan (Բյուրեղավան)       Kotayk                      8152   \n",
       "28    29          Nor Hachn (Նոր Հաճն)       Kotayk                     10168   \n",
       "29    30            Metsamor (Մեծամոր)      Armavir                      9870   \n",
       "30    31                   Berd (Բերդ)       Tavush                      8810   \n",
       "31    32      Yeghegnadzor (Եղեգնաձոր)  Vayots Dzor                      8187   \n",
       "32    33                Tashir (Տաշիր)         Lori                      9538   \n",
       "33    34             Kajaran (Քաջարան)       Syunik                      8439   \n",
       "34    35               Aparan (Ապարան)   Aragatsotn                      6614   \n",
       "35    36                   Vayk (Վայք)  Vayots Dzor                      6024   \n",
       "36    37          Chambarak (Ճամբարակ)  Gegharkunik                      6405   \n",
       "37    38             Maralik (Մարալիկ)       Shirak                      5782   \n",
       "38    39     Noyemberyan (Նոյեմբերյան)       Tavush                      5486   \n",
       "39    40                 Talin (Թալին)   Aragatsotn                      5614   \n",
       "40    41              Jermuk (Ջերմուկ)  Vayots Dzor                      5394   \n",
       "41    42                Meghri (Մեղրի)       Syunik                      4805   \n",
       "42    43                Ayrum (Այրում)       Tavush                      2351   \n",
       "43    44              Akhtala (Ախթալա)         Lori                      2435   \n",
       "44    45          Tumanyan (Թումանյան)         Lori                      1909   \n",
       "45    46        Tsaghkadzor (Ծաղկաձոր)       Kotayk                      1618   \n",
       "\n",
       "    Population (2011 census)  Population (2020 estimate) Change (2011–2020)  \n",
       "0                    1060138                     1084000             +2.25%  \n",
       "1                     121976                      112400             −7.85%  \n",
       "2                      86199                       77200            −10.44%  \n",
       "3                      46540                       46200             −0.73%  \n",
       "4                      43495                       44900             +3.23%  \n",
       "5                      43190                       42300             −2.06%  \n",
       "6                      41875                       40000             −4.48%  \n",
       "7                      29319                       27800             −5.18%  \n",
       "8                      22269                       19300            −13.33%  \n",
       "9                      21081                       20300             −3.70%  \n",
       "10                     20765                       18100            −12.83%  \n",
       "11                     20591                       20400             −0.93%  \n",
       "12                     20363                       20400             +0.18%  \n",
       "13                     20235                       20400             +0.82%  \n",
       "14                     20215                       20600             +1.90%  \n",
       "15                     19534                       17800             −8.88%  \n",
       "16                     19229                       19000             −1.19%  \n",
       "17                     18834                       16800            −10.80%  \n",
       "18                     17712                       17300             −2.33%  \n",
       "19                     14894                       14800             −0.63%  \n",
       "20                     13343                       12500             −6.32%  \n",
       "21                     13086                       12400             −5.24%  \n",
       "22                     12894                       11500            −10.81%  \n",
       "23                     12881                       12700             −1.41%  \n",
       "24                     12685                       12400             −2.25%  \n",
       "25                     11672                       11900             +1.95%  \n",
       "26                     11384                       11800             +3.65%  \n",
       "27                      9513                        9100             −4.34%  \n",
       "28                      9307                        9300             −0.08%  \n",
       "29                      9191                        8400             −8.61%  \n",
       "30                      7957                        7500             −5.74%  \n",
       "31                      7944                        7400             −6.85%  \n",
       "32                      7773                        7200             −7.37%  \n",
       "33                      7163                        6900             −3.67%  \n",
       "34                      6451                        5900             −8.54%  \n",
       "35                      5877                        5600             −4.71%  \n",
       "36                      5850                        5600             −4.27%  \n",
       "37                      5398                        5400             +0.04%  \n",
       "38                      5310                        4500            −15.25%  \n",
       "39                      5310                        4100            −22.79%  \n",
       "40                      4628                        4100            −11.41%  \n",
       "41                      4580                        4500             −1.75%  \n",
       "42                      2126                        1800            −15.33%  \n",
       "43                      2092                        2000             −4.40%  \n",
       "44                      1710                        1500            −12.28%  \n",
       "45                      1256                        1200             −4.46%  "
      ]
     },
     "execution_count": 47,
     "metadata": {},
     "output_type": "execute_result"
    }
   ],
   "source": [
    "Arm_Population"
   ]
  },
  {
   "cell_type": "code",
   "execution_count": 48,
   "id": "87e81a5b",
   "metadata": {},
   "outputs": [
    {
     "data": {
      "text/plain": [
       "(46, 7)"
      ]
     },
     "execution_count": 48,
     "metadata": {},
     "output_type": "execute_result"
    }
   ],
   "source": [
    "Arm_Population.shape"
   ]
  },
  {
   "cell_type": "code",
   "execution_count": 49,
   "id": "eb2b362d",
   "metadata": {},
   "outputs": [
    {
     "name": "stdout",
     "output_type": "stream",
     "text": [
      "<class 'pandas.core.frame.DataFrame'>\n",
      "RangeIndex: 46 entries, 0 to 45\n",
      "Data columns (total 7 columns):\n",
      " #   Column                      Non-Null Count  Dtype \n",
      "---  ------                      --------------  ----- \n",
      " 0   Rank                        46 non-null     int64 \n",
      " 1   City (Armenian name)        46 non-null     object\n",
      " 2   Province                    46 non-null     object\n",
      " 3   Population (2001 census)    46 non-null     int64 \n",
      " 4   Population (2011 census)    46 non-null     int64 \n",
      " 5   Population (2020 estimate)  46 non-null     int64 \n",
      " 6   Change (2011–2020)          46 non-null     object\n",
      "dtypes: int64(4), object(3)\n",
      "memory usage: 2.6+ KB\n"
     ]
    }
   ],
   "source": [
    "Arm_Population.info()"
   ]
  },
  {
   "cell_type": "code",
   "execution_count": 50,
   "id": "a07c199e",
   "metadata": {},
   "outputs": [
    {
     "data": {
      "text/html": [
       "<div>\n",
       "<style scoped>\n",
       "    .dataframe tbody tr th:only-of-type {\n",
       "        vertical-align: middle;\n",
       "    }\n",
       "\n",
       "    .dataframe tbody tr th {\n",
       "        vertical-align: top;\n",
       "    }\n",
       "\n",
       "    .dataframe thead th {\n",
       "        text-align: right;\n",
       "    }\n",
       "</style>\n",
       "<table border=\"1\" class=\"dataframe\">\n",
       "  <thead>\n",
       "    <tr style=\"text-align: right;\">\n",
       "      <th></th>\n",
       "      <th>Rank</th>\n",
       "      <th>City (Armenian name)</th>\n",
       "      <th>Province</th>\n",
       "      <th>Population (2001 census)</th>\n",
       "      <th>Population (2011 census)</th>\n",
       "      <th>Population (2020 estimate)</th>\n",
       "      <th>Change (2011–2020)</th>\n",
       "    </tr>\n",
       "  </thead>\n",
       "  <tbody>\n",
       "    <tr>\n",
       "      <th>0</th>\n",
       "      <td>1</td>\n",
       "      <td>Yerevan (Երեւան)</td>\n",
       "      <td>—</td>\n",
       "      <td>1103488</td>\n",
       "      <td>1060138</td>\n",
       "      <td>1084000</td>\n",
       "      <td>+2.25%</td>\n",
       "    </tr>\n",
       "    <tr>\n",
       "      <th>1</th>\n",
       "      <td>2</td>\n",
       "      <td>Gyumri (Գյումրի)</td>\n",
       "      <td>Shirak</td>\n",
       "      <td>150917</td>\n",
       "      <td>121976</td>\n",
       "      <td>112400</td>\n",
       "      <td>−7.85%</td>\n",
       "    </tr>\n",
       "    <tr>\n",
       "      <th>2</th>\n",
       "      <td>3</td>\n",
       "      <td>Vanadzor (Վանաձոր)</td>\n",
       "      <td>Lori</td>\n",
       "      <td>107394</td>\n",
       "      <td>86199</td>\n",
       "      <td>77200</td>\n",
       "      <td>−10.44%</td>\n",
       "    </tr>\n",
       "    <tr>\n",
       "      <th>3</th>\n",
       "      <td>4</td>\n",
       "      <td>Vagharshapat (Վաղարշապատ)[a]</td>\n",
       "      <td>Armavir</td>\n",
       "      <td>56388</td>\n",
       "      <td>46540</td>\n",
       "      <td>46200</td>\n",
       "      <td>−0.73%</td>\n",
       "    </tr>\n",
       "    <tr>\n",
       "      <th>4</th>\n",
       "      <td>5</td>\n",
       "      <td>Abovyan (Աբովյան)</td>\n",
       "      <td>Kotayk</td>\n",
       "      <td>44569</td>\n",
       "      <td>43495</td>\n",
       "      <td>44900</td>\n",
       "      <td>+3.23%</td>\n",
       "    </tr>\n",
       "  </tbody>\n",
       "</table>\n",
       "</div>"
      ],
      "text/plain": [
       "   Rank          City (Armenian name) Province  Population (2001 census)  \\\n",
       "0     1              Yerevan (Երեւան)        —                   1103488   \n",
       "1     2              Gyumri (Գյումրի)   Shirak                    150917   \n",
       "2     3            Vanadzor (Վանաձոր)     Lori                    107394   \n",
       "3     4  Vagharshapat (Վաղարշապատ)[a]  Armavir                     56388   \n",
       "4     5             Abovyan (Աբովյան)   Kotayk                     44569   \n",
       "\n",
       "   Population (2011 census)  Population (2020 estimate) Change (2011–2020)  \n",
       "0                   1060138                     1084000             +2.25%  \n",
       "1                    121976                      112400             −7.85%  \n",
       "2                     86199                       77200            −10.44%  \n",
       "3                     46540                       46200             −0.73%  \n",
       "4                     43495                       44900             +3.23%  "
      ]
     },
     "execution_count": 50,
     "metadata": {},
     "output_type": "execute_result"
    }
   ],
   "source": [
    "Arm_Population.head()"
   ]
  },
  {
   "cell_type": "code",
   "execution_count": 51,
   "id": "a2924513",
   "metadata": {},
   "outputs": [
    {
     "data": {
      "text/html": [
       "<div>\n",
       "<style scoped>\n",
       "    .dataframe tbody tr th:only-of-type {\n",
       "        vertical-align: middle;\n",
       "    }\n",
       "\n",
       "    .dataframe tbody tr th {\n",
       "        vertical-align: top;\n",
       "    }\n",
       "\n",
       "    .dataframe thead th {\n",
       "        text-align: right;\n",
       "    }\n",
       "</style>\n",
       "<table border=\"1\" class=\"dataframe\">\n",
       "  <thead>\n",
       "    <tr style=\"text-align: right;\">\n",
       "      <th></th>\n",
       "      <th>Rank</th>\n",
       "      <th>City (Armenian name)</th>\n",
       "      <th>Province</th>\n",
       "      <th>Population (2001 census)</th>\n",
       "      <th>Population (2011 census)</th>\n",
       "      <th>Population (2020 estimate)</th>\n",
       "      <th>Change (2011–2020)</th>\n",
       "    </tr>\n",
       "  </thead>\n",
       "  <tbody>\n",
       "    <tr>\n",
       "      <th>41</th>\n",
       "      <td>42</td>\n",
       "      <td>Meghri (Մեղրի)</td>\n",
       "      <td>Syunik</td>\n",
       "      <td>4805</td>\n",
       "      <td>4580</td>\n",
       "      <td>4500</td>\n",
       "      <td>−1.75%</td>\n",
       "    </tr>\n",
       "    <tr>\n",
       "      <th>42</th>\n",
       "      <td>43</td>\n",
       "      <td>Ayrum (Այրում)</td>\n",
       "      <td>Tavush</td>\n",
       "      <td>2351</td>\n",
       "      <td>2126</td>\n",
       "      <td>1800</td>\n",
       "      <td>−15.33%</td>\n",
       "    </tr>\n",
       "    <tr>\n",
       "      <th>43</th>\n",
       "      <td>44</td>\n",
       "      <td>Akhtala (Ախթալա)</td>\n",
       "      <td>Lori</td>\n",
       "      <td>2435</td>\n",
       "      <td>2092</td>\n",
       "      <td>2000</td>\n",
       "      <td>−4.40%</td>\n",
       "    </tr>\n",
       "    <tr>\n",
       "      <th>44</th>\n",
       "      <td>45</td>\n",
       "      <td>Tumanyan (Թումանյան)</td>\n",
       "      <td>Lori</td>\n",
       "      <td>1909</td>\n",
       "      <td>1710</td>\n",
       "      <td>1500</td>\n",
       "      <td>−12.28%</td>\n",
       "    </tr>\n",
       "    <tr>\n",
       "      <th>45</th>\n",
       "      <td>46</td>\n",
       "      <td>Tsaghkadzor (Ծաղկաձոր)</td>\n",
       "      <td>Kotayk</td>\n",
       "      <td>1618</td>\n",
       "      <td>1256</td>\n",
       "      <td>1200</td>\n",
       "      <td>−4.46%</td>\n",
       "    </tr>\n",
       "  </tbody>\n",
       "</table>\n",
       "</div>"
      ],
      "text/plain": [
       "    Rank    City (Armenian name) Province  Population (2001 census)  \\\n",
       "41    42          Meghri (Մեղրի)   Syunik                      4805   \n",
       "42    43          Ayrum (Այրում)   Tavush                      2351   \n",
       "43    44        Akhtala (Ախթալա)     Lori                      2435   \n",
       "44    45    Tumanyan (Թումանյան)     Lori                      1909   \n",
       "45    46  Tsaghkadzor (Ծաղկաձոր)   Kotayk                      1618   \n",
       "\n",
       "    Population (2011 census)  Population (2020 estimate) Change (2011–2020)  \n",
       "41                      4580                        4500             −1.75%  \n",
       "42                      2126                        1800            −15.33%  \n",
       "43                      2092                        2000             −4.40%  \n",
       "44                      1710                        1500            −12.28%  \n",
       "45                      1256                        1200             −4.46%  "
      ]
     },
     "execution_count": 51,
     "metadata": {},
     "output_type": "execute_result"
    }
   ],
   "source": [
    "Arm_Population.tail()"
   ]
  },
  {
   "cell_type": "code",
   "execution_count": 52,
   "id": "2b8fffcf",
   "metadata": {},
   "outputs": [],
   "source": [
    "Arm_Population = Arm_Population.drop(Arm_Population.index[-1])"
   ]
  },
  {
   "cell_type": "code",
   "execution_count": 53,
   "id": "41571ceb",
   "metadata": {},
   "outputs": [
    {
     "data": {
      "text/html": [
       "<div>\n",
       "<style scoped>\n",
       "    .dataframe tbody tr th:only-of-type {\n",
       "        vertical-align: middle;\n",
       "    }\n",
       "\n",
       "    .dataframe tbody tr th {\n",
       "        vertical-align: top;\n",
       "    }\n",
       "\n",
       "    .dataframe thead th {\n",
       "        text-align: right;\n",
       "    }\n",
       "</style>\n",
       "<table border=\"1\" class=\"dataframe\">\n",
       "  <thead>\n",
       "    <tr style=\"text-align: right;\">\n",
       "      <th></th>\n",
       "      <th>Rank</th>\n",
       "      <th>City (Armenian name)</th>\n",
       "      <th>Province</th>\n",
       "      <th>Population (2001 census)</th>\n",
       "      <th>Population (2011 census)</th>\n",
       "      <th>Population (2020 estimate)</th>\n",
       "      <th>Change (2011–2020)</th>\n",
       "    </tr>\n",
       "  </thead>\n",
       "  <tbody>\n",
       "    <tr>\n",
       "      <th>40</th>\n",
       "      <td>41</td>\n",
       "      <td>Jermuk (Ջերմուկ)</td>\n",
       "      <td>Vayots Dzor</td>\n",
       "      <td>5394</td>\n",
       "      <td>4628</td>\n",
       "      <td>4100</td>\n",
       "      <td>−11.41%</td>\n",
       "    </tr>\n",
       "    <tr>\n",
       "      <th>41</th>\n",
       "      <td>42</td>\n",
       "      <td>Meghri (Մեղրի)</td>\n",
       "      <td>Syunik</td>\n",
       "      <td>4805</td>\n",
       "      <td>4580</td>\n",
       "      <td>4500</td>\n",
       "      <td>−1.75%</td>\n",
       "    </tr>\n",
       "    <tr>\n",
       "      <th>42</th>\n",
       "      <td>43</td>\n",
       "      <td>Ayrum (Այրում)</td>\n",
       "      <td>Tavush</td>\n",
       "      <td>2351</td>\n",
       "      <td>2126</td>\n",
       "      <td>1800</td>\n",
       "      <td>−15.33%</td>\n",
       "    </tr>\n",
       "    <tr>\n",
       "      <th>43</th>\n",
       "      <td>44</td>\n",
       "      <td>Akhtala (Ախթալա)</td>\n",
       "      <td>Lori</td>\n",
       "      <td>2435</td>\n",
       "      <td>2092</td>\n",
       "      <td>2000</td>\n",
       "      <td>−4.40%</td>\n",
       "    </tr>\n",
       "    <tr>\n",
       "      <th>44</th>\n",
       "      <td>45</td>\n",
       "      <td>Tumanyan (Թումանյան)</td>\n",
       "      <td>Lori</td>\n",
       "      <td>1909</td>\n",
       "      <td>1710</td>\n",
       "      <td>1500</td>\n",
       "      <td>−12.28%</td>\n",
       "    </tr>\n",
       "  </tbody>\n",
       "</table>\n",
       "</div>"
      ],
      "text/plain": [
       "    Rank  City (Armenian name)     Province  Population (2001 census)  \\\n",
       "40    41      Jermuk (Ջերմուկ)  Vayots Dzor                      5394   \n",
       "41    42        Meghri (Մեղրի)       Syunik                      4805   \n",
       "42    43        Ayrum (Այրում)       Tavush                      2351   \n",
       "43    44      Akhtala (Ախթալա)         Lori                      2435   \n",
       "44    45  Tumanyan (Թումանյան)         Lori                      1909   \n",
       "\n",
       "    Population (2011 census)  Population (2020 estimate) Change (2011–2020)  \n",
       "40                      4628                        4100            −11.41%  \n",
       "41                      4580                        4500             −1.75%  \n",
       "42                      2126                        1800            −15.33%  \n",
       "43                      2092                        2000             −4.40%  \n",
       "44                      1710                        1500            −12.28%  "
      ]
     },
     "execution_count": 53,
     "metadata": {},
     "output_type": "execute_result"
    }
   ],
   "source": [
    "Arm_Population.tail()"
   ]
  },
  {
   "cell_type": "code",
   "execution_count": 54,
   "id": "7c1228b1",
   "metadata": {},
   "outputs": [
    {
     "data": {
      "text/plain": [
       "Rank                          0\n",
       "City (Armenian name)          0\n",
       "Province                      0\n",
       "Population (2001 census)      0\n",
       "Population (2011 census)      0\n",
       "Population (2020 estimate)    0\n",
       "Change (2011–2020)            0\n",
       "dtype: int64"
      ]
     },
     "execution_count": 54,
     "metadata": {},
     "output_type": "execute_result"
    }
   ],
   "source": [
    "Arm_Population.isnull().sum()"
   ]
  },
  {
   "cell_type": "code",
   "execution_count": 55,
   "id": "ba7f4614",
   "metadata": {},
   "outputs": [
    {
     "data": {
      "text/html": [
       "<div>\n",
       "<style scoped>\n",
       "    .dataframe tbody tr th:only-of-type {\n",
       "        vertical-align: middle;\n",
       "    }\n",
       "\n",
       "    .dataframe tbody tr th {\n",
       "        vertical-align: top;\n",
       "    }\n",
       "\n",
       "    .dataframe thead th {\n",
       "        text-align: right;\n",
       "    }\n",
       "</style>\n",
       "<table border=\"1\" class=\"dataframe\">\n",
       "  <thead>\n",
       "    <tr style=\"text-align: right;\">\n",
       "      <th></th>\n",
       "      <th>Rank</th>\n",
       "      <th>City (Armenian name)</th>\n",
       "      <th>Province</th>\n",
       "      <th>Population (2001 census)</th>\n",
       "      <th>Population (2011 census)</th>\n",
       "      <th>Population (2020 estimate)</th>\n",
       "      <th>Change (2011–2020)</th>\n",
       "    </tr>\n",
       "  </thead>\n",
       "  <tbody>\n",
       "    <tr>\n",
       "      <th>0</th>\n",
       "      <td>1</td>\n",
       "      <td>Yerevan (Երեւան)</td>\n",
       "      <td>—</td>\n",
       "      <td>1103488</td>\n",
       "      <td>1060138</td>\n",
       "      <td>1084000</td>\n",
       "      <td>+2.25%</td>\n",
       "    </tr>\n",
       "    <tr>\n",
       "      <th>1</th>\n",
       "      <td>2</td>\n",
       "      <td>Gyumri (Գյումրի)</td>\n",
       "      <td>Shirak</td>\n",
       "      <td>150917</td>\n",
       "      <td>121976</td>\n",
       "      <td>112400</td>\n",
       "      <td>−7.85%</td>\n",
       "    </tr>\n",
       "    <tr>\n",
       "      <th>2</th>\n",
       "      <td>3</td>\n",
       "      <td>Vanadzor (Վանաձոր)</td>\n",
       "      <td>Lori</td>\n",
       "      <td>107394</td>\n",
       "      <td>86199</td>\n",
       "      <td>77200</td>\n",
       "      <td>−10.44%</td>\n",
       "    </tr>\n",
       "    <tr>\n",
       "      <th>3</th>\n",
       "      <td>4</td>\n",
       "      <td>Vagharshapat (Վաղարշապատ)[a]</td>\n",
       "      <td>Armavir</td>\n",
       "      <td>56388</td>\n",
       "      <td>46540</td>\n",
       "      <td>46200</td>\n",
       "      <td>−0.73%</td>\n",
       "    </tr>\n",
       "    <tr>\n",
       "      <th>4</th>\n",
       "      <td>5</td>\n",
       "      <td>Abovyan (Աբովյան)</td>\n",
       "      <td>Kotayk</td>\n",
       "      <td>44569</td>\n",
       "      <td>43495</td>\n",
       "      <td>44900</td>\n",
       "      <td>+3.23%</td>\n",
       "    </tr>\n",
       "  </tbody>\n",
       "</table>\n",
       "</div>"
      ],
      "text/plain": [
       "   Rank          City (Armenian name) Province  Population (2001 census)  \\\n",
       "0     1              Yerevan (Երեւան)        —                   1103488   \n",
       "1     2              Gyumri (Գյումրի)   Shirak                    150917   \n",
       "2     3            Vanadzor (Վանաձոր)     Lori                    107394   \n",
       "3     4  Vagharshapat (Վաղարշապատ)[a]  Armavir                     56388   \n",
       "4     5             Abovyan (Աբովյան)   Kotayk                     44569   \n",
       "\n",
       "   Population (2011 census)  Population (2020 estimate) Change (2011–2020)  \n",
       "0                   1060138                     1084000             +2.25%  \n",
       "1                    121976                      112400             −7.85%  \n",
       "2                     86199                       77200            −10.44%  \n",
       "3                     46540                       46200             −0.73%  \n",
       "4                     43495                       44900             +3.23%  "
      ]
     },
     "execution_count": 55,
     "metadata": {},
     "output_type": "execute_result"
    }
   ],
   "source": [
    "Arm_Population.head()\n"
   ]
  },
  {
   "cell_type": "code",
   "execution_count": 56,
   "id": "2af3f84e",
   "metadata": {},
   "outputs": [],
   "source": [
    "Arm_Population.columns = Arm_Population.columns.str.replace(r'\\[\\d+\\]' + '.*', '', regex=True)"
   ]
  },
  {
   "cell_type": "code",
   "execution_count": 57,
   "id": "4110a26f",
   "metadata": {},
   "outputs": [
    {
     "data": {
      "text/html": [
       "<div>\n",
       "<style scoped>\n",
       "    .dataframe tbody tr th:only-of-type {\n",
       "        vertical-align: middle;\n",
       "    }\n",
       "\n",
       "    .dataframe tbody tr th {\n",
       "        vertical-align: top;\n",
       "    }\n",
       "\n",
       "    .dataframe thead th {\n",
       "        text-align: right;\n",
       "    }\n",
       "</style>\n",
       "<table border=\"1\" class=\"dataframe\">\n",
       "  <thead>\n",
       "    <tr style=\"text-align: right;\">\n",
       "      <th></th>\n",
       "      <th>Rank</th>\n",
       "      <th>City (Armenian name)</th>\n",
       "      <th>Province</th>\n",
       "      <th>Population (2001 census)</th>\n",
       "      <th>Population (2011 census)</th>\n",
       "      <th>Population (2020 estimate)</th>\n",
       "      <th>Change (2011–2020)</th>\n",
       "    </tr>\n",
       "  </thead>\n",
       "  <tbody>\n",
       "    <tr>\n",
       "      <th>0</th>\n",
       "      <td>1</td>\n",
       "      <td>Yerevan (Երեւան)</td>\n",
       "      <td>—</td>\n",
       "      <td>1103488</td>\n",
       "      <td>1060138</td>\n",
       "      <td>1084000</td>\n",
       "      <td>+2.25%</td>\n",
       "    </tr>\n",
       "    <tr>\n",
       "      <th>1</th>\n",
       "      <td>2</td>\n",
       "      <td>Gyumri (Գյումրի)</td>\n",
       "      <td>Shirak</td>\n",
       "      <td>150917</td>\n",
       "      <td>121976</td>\n",
       "      <td>112400</td>\n",
       "      <td>−7.85%</td>\n",
       "    </tr>\n",
       "    <tr>\n",
       "      <th>2</th>\n",
       "      <td>3</td>\n",
       "      <td>Vanadzor (Վանաձոր)</td>\n",
       "      <td>Lori</td>\n",
       "      <td>107394</td>\n",
       "      <td>86199</td>\n",
       "      <td>77200</td>\n",
       "      <td>−10.44%</td>\n",
       "    </tr>\n",
       "    <tr>\n",
       "      <th>3</th>\n",
       "      <td>4</td>\n",
       "      <td>Vagharshapat (Վաղարշապատ)[a]</td>\n",
       "      <td>Armavir</td>\n",
       "      <td>56388</td>\n",
       "      <td>46540</td>\n",
       "      <td>46200</td>\n",
       "      <td>−0.73%</td>\n",
       "    </tr>\n",
       "    <tr>\n",
       "      <th>4</th>\n",
       "      <td>5</td>\n",
       "      <td>Abovyan (Աբովյան)</td>\n",
       "      <td>Kotayk</td>\n",
       "      <td>44569</td>\n",
       "      <td>43495</td>\n",
       "      <td>44900</td>\n",
       "      <td>+3.23%</td>\n",
       "    </tr>\n",
       "    <tr>\n",
       "      <th>5</th>\n",
       "      <td>6</td>\n",
       "      <td>Kapan (Կապան)</td>\n",
       "      <td>Syunik</td>\n",
       "      <td>45711</td>\n",
       "      <td>43190</td>\n",
       "      <td>42300</td>\n",
       "      <td>−2.06%</td>\n",
       "    </tr>\n",
       "    <tr>\n",
       "      <th>6</th>\n",
       "      <td>7</td>\n",
       "      <td>Hrazdan (Հրազդան)</td>\n",
       "      <td>Kotayk</td>\n",
       "      <td>52808</td>\n",
       "      <td>41875</td>\n",
       "      <td>40000</td>\n",
       "      <td>−4.48%</td>\n",
       "    </tr>\n",
       "    <tr>\n",
       "      <th>7</th>\n",
       "      <td>8</td>\n",
       "      <td>Armavir (Արմավիր)</td>\n",
       "      <td>Armavir</td>\n",
       "      <td>32034</td>\n",
       "      <td>29319</td>\n",
       "      <td>27800</td>\n",
       "      <td>−5.18%</td>\n",
       "    </tr>\n",
       "    <tr>\n",
       "      <th>8</th>\n",
       "      <td>9</td>\n",
       "      <td>Artashat (Արտաշատ)</td>\n",
       "      <td>Ararat</td>\n",
       "      <td>25066</td>\n",
       "      <td>22269</td>\n",
       "      <td>19300</td>\n",
       "      <td>−13.33%</td>\n",
       "    </tr>\n",
       "    <tr>\n",
       "      <th>9</th>\n",
       "      <td>10</td>\n",
       "      <td>Ijevan (Իջևան)</td>\n",
       "      <td>Tavush</td>\n",
       "      <td>20223</td>\n",
       "      <td>21081</td>\n",
       "      <td>20300</td>\n",
       "      <td>−3.70%</td>\n",
       "    </tr>\n",
       "    <tr>\n",
       "      <th>10</th>\n",
       "      <td>11</td>\n",
       "      <td>Gavar (Գավառ)</td>\n",
       "      <td>Gegharkunik</td>\n",
       "      <td>26621</td>\n",
       "      <td>20765</td>\n",
       "      <td>18100</td>\n",
       "      <td>−12.83%</td>\n",
       "    </tr>\n",
       "    <tr>\n",
       "      <th>11</th>\n",
       "      <td>12</td>\n",
       "      <td>Goris (Գորիս)</td>\n",
       "      <td>Syunik</td>\n",
       "      <td>23261</td>\n",
       "      <td>20591</td>\n",
       "      <td>20400</td>\n",
       "      <td>−0.93%</td>\n",
       "    </tr>\n",
       "    <tr>\n",
       "      <th>12</th>\n",
       "      <td>13</td>\n",
       "      <td>Charentsavan (Չարենցավան)</td>\n",
       "      <td>Kotayk</td>\n",
       "      <td>25039</td>\n",
       "      <td>20363</td>\n",
       "      <td>20400</td>\n",
       "      <td>+0.18%</td>\n",
       "    </tr>\n",
       "    <tr>\n",
       "      <th>13</th>\n",
       "      <td>14</td>\n",
       "      <td>Ararat (Արարատ)</td>\n",
       "      <td>Ararat</td>\n",
       "      <td>20480</td>\n",
       "      <td>20235</td>\n",
       "      <td>20400</td>\n",
       "      <td>+0.82%</td>\n",
       "    </tr>\n",
       "    <tr>\n",
       "      <th>14</th>\n",
       "      <td>15</td>\n",
       "      <td>Masis (Մասիս)</td>\n",
       "      <td>Ararat</td>\n",
       "      <td>21376</td>\n",
       "      <td>20215</td>\n",
       "      <td>20600</td>\n",
       "      <td>+1.90%</td>\n",
       "    </tr>\n",
       "    <tr>\n",
       "      <th>15</th>\n",
       "      <td>16</td>\n",
       "      <td>Artik (Արթիկ)</td>\n",
       "      <td>Shirak</td>\n",
       "      <td>17561</td>\n",
       "      <td>19534</td>\n",
       "      <td>17800</td>\n",
       "      <td>−8.88%</td>\n",
       "    </tr>\n",
       "    <tr>\n",
       "      <th>16</th>\n",
       "      <td>17</td>\n",
       "      <td>Sevan (Սևան)</td>\n",
       "      <td>Gegharkunik</td>\n",
       "      <td>21422</td>\n",
       "      <td>19229</td>\n",
       "      <td>19000</td>\n",
       "      <td>−1.19%</td>\n",
       "    </tr>\n",
       "    <tr>\n",
       "      <th>17</th>\n",
       "      <td>18</td>\n",
       "      <td>Ashtarak (Աշտարակ)</td>\n",
       "      <td>Aragatsotn</td>\n",
       "      <td>20636</td>\n",
       "      <td>18834</td>\n",
       "      <td>16800</td>\n",
       "      <td>−10.80%</td>\n",
       "    </tr>\n",
       "    <tr>\n",
       "      <th>18</th>\n",
       "      <td>19</td>\n",
       "      <td>Dilijan (Դիլիջան)</td>\n",
       "      <td>Tavush</td>\n",
       "      <td>16202</td>\n",
       "      <td>17712</td>\n",
       "      <td>17300</td>\n",
       "      <td>−2.33%</td>\n",
       "    </tr>\n",
       "    <tr>\n",
       "      <th>19</th>\n",
       "      <td>20</td>\n",
       "      <td>Sisian (Սիսիան)</td>\n",
       "      <td>Syunik</td>\n",
       "      <td>16843</td>\n",
       "      <td>14894</td>\n",
       "      <td>14800</td>\n",
       "      <td>−0.63%</td>\n",
       "    </tr>\n",
       "    <tr>\n",
       "      <th>20</th>\n",
       "      <td>21</td>\n",
       "      <td>Alaverdi (Ալավերդի)</td>\n",
       "      <td>Lori</td>\n",
       "      <td>16641</td>\n",
       "      <td>13343</td>\n",
       "      <td>12500</td>\n",
       "      <td>−6.32%</td>\n",
       "    </tr>\n",
       "    <tr>\n",
       "      <th>21</th>\n",
       "      <td>22</td>\n",
       "      <td>Stepanavan (Ստեփանավան)</td>\n",
       "      <td>Lori</td>\n",
       "      <td>16299</td>\n",
       "      <td>13086</td>\n",
       "      <td>12400</td>\n",
       "      <td>−5.24%</td>\n",
       "    </tr>\n",
       "    <tr>\n",
       "      <th>22</th>\n",
       "      <td>23</td>\n",
       "      <td>Martuni (Մարտունի)</td>\n",
       "      <td>Gegharkunik</td>\n",
       "      <td>11756</td>\n",
       "      <td>12894</td>\n",
       "      <td>11500</td>\n",
       "      <td>−10.81%</td>\n",
       "    </tr>\n",
       "    <tr>\n",
       "      <th>23</th>\n",
       "      <td>24</td>\n",
       "      <td>Spitak (Սպիտակ)</td>\n",
       "      <td>Lori</td>\n",
       "      <td>14984</td>\n",
       "      <td>12881</td>\n",
       "      <td>12700</td>\n",
       "      <td>−1.41%</td>\n",
       "    </tr>\n",
       "    <tr>\n",
       "      <th>24</th>\n",
       "      <td>25</td>\n",
       "      <td>Vardenis (Վարդենիս)</td>\n",
       "      <td>Gegharkunik</td>\n",
       "      <td>12753</td>\n",
       "      <td>12685</td>\n",
       "      <td>12400</td>\n",
       "      <td>−2.25%</td>\n",
       "    </tr>\n",
       "    <tr>\n",
       "      <th>25</th>\n",
       "      <td>26</td>\n",
       "      <td>Yeghvard (Եղվարդ)</td>\n",
       "      <td>Kotayk</td>\n",
       "      <td>11627</td>\n",
       "      <td>11672</td>\n",
       "      <td>11900</td>\n",
       "      <td>+1.95%</td>\n",
       "    </tr>\n",
       "    <tr>\n",
       "      <th>26</th>\n",
       "      <td>27</td>\n",
       "      <td>Vedi (Վեդի)</td>\n",
       "      <td>Ararat</td>\n",
       "      <td>12963</td>\n",
       "      <td>11384</td>\n",
       "      <td>11800</td>\n",
       "      <td>+3.65%</td>\n",
       "    </tr>\n",
       "    <tr>\n",
       "      <th>27</th>\n",
       "      <td>28</td>\n",
       "      <td>Byureghavan (Բյուրեղավան)</td>\n",
       "      <td>Kotayk</td>\n",
       "      <td>8152</td>\n",
       "      <td>9513</td>\n",
       "      <td>9100</td>\n",
       "      <td>−4.34%</td>\n",
       "    </tr>\n",
       "    <tr>\n",
       "      <th>28</th>\n",
       "      <td>29</td>\n",
       "      <td>Nor Hachn (Նոր Հաճն)</td>\n",
       "      <td>Kotayk</td>\n",
       "      <td>10168</td>\n",
       "      <td>9307</td>\n",
       "      <td>9300</td>\n",
       "      <td>−0.08%</td>\n",
       "    </tr>\n",
       "    <tr>\n",
       "      <th>29</th>\n",
       "      <td>30</td>\n",
       "      <td>Metsamor (Մեծամոր)</td>\n",
       "      <td>Armavir</td>\n",
       "      <td>9870</td>\n",
       "      <td>9191</td>\n",
       "      <td>8400</td>\n",
       "      <td>−8.61%</td>\n",
       "    </tr>\n",
       "    <tr>\n",
       "      <th>30</th>\n",
       "      <td>31</td>\n",
       "      <td>Berd (Բերդ)</td>\n",
       "      <td>Tavush</td>\n",
       "      <td>8810</td>\n",
       "      <td>7957</td>\n",
       "      <td>7500</td>\n",
       "      <td>−5.74%</td>\n",
       "    </tr>\n",
       "    <tr>\n",
       "      <th>31</th>\n",
       "      <td>32</td>\n",
       "      <td>Yeghegnadzor (Եղեգնաձոր)</td>\n",
       "      <td>Vayots Dzor</td>\n",
       "      <td>8187</td>\n",
       "      <td>7944</td>\n",
       "      <td>7400</td>\n",
       "      <td>−6.85%</td>\n",
       "    </tr>\n",
       "    <tr>\n",
       "      <th>32</th>\n",
       "      <td>33</td>\n",
       "      <td>Tashir (Տաշիր)</td>\n",
       "      <td>Lori</td>\n",
       "      <td>9538</td>\n",
       "      <td>7773</td>\n",
       "      <td>7200</td>\n",
       "      <td>−7.37%</td>\n",
       "    </tr>\n",
       "    <tr>\n",
       "      <th>33</th>\n",
       "      <td>34</td>\n",
       "      <td>Kajaran (Քաջարան)</td>\n",
       "      <td>Syunik</td>\n",
       "      <td>8439</td>\n",
       "      <td>7163</td>\n",
       "      <td>6900</td>\n",
       "      <td>−3.67%</td>\n",
       "    </tr>\n",
       "    <tr>\n",
       "      <th>34</th>\n",
       "      <td>35</td>\n",
       "      <td>Aparan (Ապարան)</td>\n",
       "      <td>Aragatsotn</td>\n",
       "      <td>6614</td>\n",
       "      <td>6451</td>\n",
       "      <td>5900</td>\n",
       "      <td>−8.54%</td>\n",
       "    </tr>\n",
       "    <tr>\n",
       "      <th>35</th>\n",
       "      <td>36</td>\n",
       "      <td>Vayk (Վայք)</td>\n",
       "      <td>Vayots Dzor</td>\n",
       "      <td>6024</td>\n",
       "      <td>5877</td>\n",
       "      <td>5600</td>\n",
       "      <td>−4.71%</td>\n",
       "    </tr>\n",
       "    <tr>\n",
       "      <th>36</th>\n",
       "      <td>37</td>\n",
       "      <td>Chambarak (Ճամբարակ)</td>\n",
       "      <td>Gegharkunik</td>\n",
       "      <td>6405</td>\n",
       "      <td>5850</td>\n",
       "      <td>5600</td>\n",
       "      <td>−4.27%</td>\n",
       "    </tr>\n",
       "    <tr>\n",
       "      <th>37</th>\n",
       "      <td>38</td>\n",
       "      <td>Maralik (Մարալիկ)</td>\n",
       "      <td>Shirak</td>\n",
       "      <td>5782</td>\n",
       "      <td>5398</td>\n",
       "      <td>5400</td>\n",
       "      <td>+0.04%</td>\n",
       "    </tr>\n",
       "    <tr>\n",
       "      <th>38</th>\n",
       "      <td>39</td>\n",
       "      <td>Noyemberyan (Նոյեմբերյան)</td>\n",
       "      <td>Tavush</td>\n",
       "      <td>5486</td>\n",
       "      <td>5310</td>\n",
       "      <td>4500</td>\n",
       "      <td>−15.25%</td>\n",
       "    </tr>\n",
       "    <tr>\n",
       "      <th>39</th>\n",
       "      <td>40</td>\n",
       "      <td>Talin (Թալին)</td>\n",
       "      <td>Aragatsotn</td>\n",
       "      <td>5614</td>\n",
       "      <td>5310</td>\n",
       "      <td>4100</td>\n",
       "      <td>−22.79%</td>\n",
       "    </tr>\n",
       "    <tr>\n",
       "      <th>40</th>\n",
       "      <td>41</td>\n",
       "      <td>Jermuk (Ջերմուկ)</td>\n",
       "      <td>Vayots Dzor</td>\n",
       "      <td>5394</td>\n",
       "      <td>4628</td>\n",
       "      <td>4100</td>\n",
       "      <td>−11.41%</td>\n",
       "    </tr>\n",
       "    <tr>\n",
       "      <th>41</th>\n",
       "      <td>42</td>\n",
       "      <td>Meghri (Մեղրի)</td>\n",
       "      <td>Syunik</td>\n",
       "      <td>4805</td>\n",
       "      <td>4580</td>\n",
       "      <td>4500</td>\n",
       "      <td>−1.75%</td>\n",
       "    </tr>\n",
       "    <tr>\n",
       "      <th>42</th>\n",
       "      <td>43</td>\n",
       "      <td>Ayrum (Այրում)</td>\n",
       "      <td>Tavush</td>\n",
       "      <td>2351</td>\n",
       "      <td>2126</td>\n",
       "      <td>1800</td>\n",
       "      <td>−15.33%</td>\n",
       "    </tr>\n",
       "    <tr>\n",
       "      <th>43</th>\n",
       "      <td>44</td>\n",
       "      <td>Akhtala (Ախթալա)</td>\n",
       "      <td>Lori</td>\n",
       "      <td>2435</td>\n",
       "      <td>2092</td>\n",
       "      <td>2000</td>\n",
       "      <td>−4.40%</td>\n",
       "    </tr>\n",
       "    <tr>\n",
       "      <th>44</th>\n",
       "      <td>45</td>\n",
       "      <td>Tumanyan (Թումանյան)</td>\n",
       "      <td>Lori</td>\n",
       "      <td>1909</td>\n",
       "      <td>1710</td>\n",
       "      <td>1500</td>\n",
       "      <td>−12.28%</td>\n",
       "    </tr>\n",
       "  </tbody>\n",
       "</table>\n",
       "</div>"
      ],
      "text/plain": [
       "    Rank          City (Armenian name)     Province  Population (2001 census)  \\\n",
       "0      1              Yerevan (Երեւան)            —                   1103488   \n",
       "1      2              Gyumri (Գյումրի)       Shirak                    150917   \n",
       "2      3            Vanadzor (Վանաձոր)         Lori                    107394   \n",
       "3      4  Vagharshapat (Վաղարշապատ)[a]      Armavir                     56388   \n",
       "4      5             Abovyan (Աբովյան)       Kotayk                     44569   \n",
       "5      6                 Kapan (Կապան)       Syunik                     45711   \n",
       "6      7             Hrazdan (Հրազդան)       Kotayk                     52808   \n",
       "7      8             Armavir (Արմավիր)      Armavir                     32034   \n",
       "8      9            Artashat (Արտաշատ)       Ararat                     25066   \n",
       "9     10                Ijevan (Իջևան)       Tavush                     20223   \n",
       "10    11                 Gavar (Գավառ)  Gegharkunik                     26621   \n",
       "11    12                 Goris (Գորիս)       Syunik                     23261   \n",
       "12    13     Charentsavan (Չարենցավան)       Kotayk                     25039   \n",
       "13    14               Ararat (Արարատ)       Ararat                     20480   \n",
       "14    15                 Masis (Մասիս)       Ararat                     21376   \n",
       "15    16                 Artik (Արթիկ)       Shirak                     17561   \n",
       "16    17                  Sevan (Սևան)  Gegharkunik                     21422   \n",
       "17    18            Ashtarak (Աշտարակ)   Aragatsotn                     20636   \n",
       "18    19             Dilijan (Դիլիջան)       Tavush                     16202   \n",
       "19    20               Sisian (Սիսիան)       Syunik                     16843   \n",
       "20    21           Alaverdi (Ալավերդի)         Lori                     16641   \n",
       "21    22       Stepanavan (Ստեփանավան)         Lori                     16299   \n",
       "22    23            Martuni (Մարտունի)  Gegharkunik                     11756   \n",
       "23    24               Spitak (Սպիտակ)         Lori                     14984   \n",
       "24    25           Vardenis (Վարդենիս)  Gegharkunik                     12753   \n",
       "25    26             Yeghvard (Եղվարդ)       Kotayk                     11627   \n",
       "26    27                   Vedi (Վեդի)       Ararat                     12963   \n",
       "27    28     Byureghavan (Բյուրեղավան)       Kotayk                      8152   \n",
       "28    29          Nor Hachn (Նոր Հաճն)       Kotayk                     10168   \n",
       "29    30            Metsamor (Մեծամոր)      Armavir                      9870   \n",
       "30    31                   Berd (Բերդ)       Tavush                      8810   \n",
       "31    32      Yeghegnadzor (Եղեգնաձոր)  Vayots Dzor                      8187   \n",
       "32    33                Tashir (Տաշիր)         Lori                      9538   \n",
       "33    34             Kajaran (Քաջարան)       Syunik                      8439   \n",
       "34    35               Aparan (Ապարան)   Aragatsotn                      6614   \n",
       "35    36                   Vayk (Վայք)  Vayots Dzor                      6024   \n",
       "36    37          Chambarak (Ճամբարակ)  Gegharkunik                      6405   \n",
       "37    38             Maralik (Մարալիկ)       Shirak                      5782   \n",
       "38    39     Noyemberyan (Նոյեմբերյան)       Tavush                      5486   \n",
       "39    40                 Talin (Թալին)   Aragatsotn                      5614   \n",
       "40    41              Jermuk (Ջերմուկ)  Vayots Dzor                      5394   \n",
       "41    42                Meghri (Մեղրի)       Syunik                      4805   \n",
       "42    43                Ayrum (Այրում)       Tavush                      2351   \n",
       "43    44              Akhtala (Ախթալա)         Lori                      2435   \n",
       "44    45          Tumanyan (Թումանյան)         Lori                      1909   \n",
       "\n",
       "    Population (2011 census)  Population (2020 estimate) Change (2011–2020)  \n",
       "0                    1060138                     1084000             +2.25%  \n",
       "1                     121976                      112400             −7.85%  \n",
       "2                      86199                       77200            −10.44%  \n",
       "3                      46540                       46200             −0.73%  \n",
       "4                      43495                       44900             +3.23%  \n",
       "5                      43190                       42300             −2.06%  \n",
       "6                      41875                       40000             −4.48%  \n",
       "7                      29319                       27800             −5.18%  \n",
       "8                      22269                       19300            −13.33%  \n",
       "9                      21081                       20300             −3.70%  \n",
       "10                     20765                       18100            −12.83%  \n",
       "11                     20591                       20400             −0.93%  \n",
       "12                     20363                       20400             +0.18%  \n",
       "13                     20235                       20400             +0.82%  \n",
       "14                     20215                       20600             +1.90%  \n",
       "15                     19534                       17800             −8.88%  \n",
       "16                     19229                       19000             −1.19%  \n",
       "17                     18834                       16800            −10.80%  \n",
       "18                     17712                       17300             −2.33%  \n",
       "19                     14894                       14800             −0.63%  \n",
       "20                     13343                       12500             −6.32%  \n",
       "21                     13086                       12400             −5.24%  \n",
       "22                     12894                       11500            −10.81%  \n",
       "23                     12881                       12700             −1.41%  \n",
       "24                     12685                       12400             −2.25%  \n",
       "25                     11672                       11900             +1.95%  \n",
       "26                     11384                       11800             +3.65%  \n",
       "27                      9513                        9100             −4.34%  \n",
       "28                      9307                        9300             −0.08%  \n",
       "29                      9191                        8400             −8.61%  \n",
       "30                      7957                        7500             −5.74%  \n",
       "31                      7944                        7400             −6.85%  \n",
       "32                      7773                        7200             −7.37%  \n",
       "33                      7163                        6900             −3.67%  \n",
       "34                      6451                        5900             −8.54%  \n",
       "35                      5877                        5600             −4.71%  \n",
       "36                      5850                        5600             −4.27%  \n",
       "37                      5398                        5400             +0.04%  \n",
       "38                      5310                        4500            −15.25%  \n",
       "39                      5310                        4100            −22.79%  \n",
       "40                      4628                        4100            −11.41%  \n",
       "41                      4580                        4500             −1.75%  \n",
       "42                      2126                        1800            −15.33%  \n",
       "43                      2092                        2000             −4.40%  \n",
       "44                      1710                        1500            −12.28%  "
      ]
     },
     "execution_count": 57,
     "metadata": {},
     "output_type": "execute_result"
    }
   ],
   "source": [
    "Arm_Population"
   ]
  },
  {
   "cell_type": "code",
   "execution_count": 58,
   "id": "912c0f09",
   "metadata": {},
   "outputs": [
    {
     "data": {
      "text/html": [
       "<div>\n",
       "<style scoped>\n",
       "    .dataframe tbody tr th:only-of-type {\n",
       "        vertical-align: middle;\n",
       "    }\n",
       "\n",
       "    .dataframe tbody tr th {\n",
       "        vertical-align: top;\n",
       "    }\n",
       "\n",
       "    .dataframe thead th {\n",
       "        text-align: right;\n",
       "    }\n",
       "</style>\n",
       "<table border=\"1\" class=\"dataframe\">\n",
       "  <thead>\n",
       "    <tr style=\"text-align: right;\">\n",
       "      <th></th>\n",
       "      <th>Rank</th>\n",
       "      <th>City (Armenian name)</th>\n",
       "      <th>Province</th>\n",
       "      <th>Population (2001 census)</th>\n",
       "      <th>Population (2011 census)</th>\n",
       "      <th>Population (2020 estimate)</th>\n",
       "      <th>Change (2011–2020)</th>\n",
       "    </tr>\n",
       "  </thead>\n",
       "  <tbody>\n",
       "    <tr>\n",
       "      <th>0</th>\n",
       "      <td>1</td>\n",
       "      <td>Yerevan (Երեւան)</td>\n",
       "      <td>—</td>\n",
       "      <td>1103488</td>\n",
       "      <td>1060138</td>\n",
       "      <td>1084000</td>\n",
       "      <td>2.25</td>\n",
       "    </tr>\n",
       "    <tr>\n",
       "      <th>1</th>\n",
       "      <td>2</td>\n",
       "      <td>Gyumri (Գյումրի)</td>\n",
       "      <td>Shirak</td>\n",
       "      <td>150917</td>\n",
       "      <td>121976</td>\n",
       "      <td>112400</td>\n",
       "      <td>NaN</td>\n",
       "    </tr>\n",
       "    <tr>\n",
       "      <th>2</th>\n",
       "      <td>3</td>\n",
       "      <td>Vanadzor (Վանաձոր)</td>\n",
       "      <td>Lori</td>\n",
       "      <td>107394</td>\n",
       "      <td>86199</td>\n",
       "      <td>77200</td>\n",
       "      <td>NaN</td>\n",
       "    </tr>\n",
       "    <tr>\n",
       "      <th>3</th>\n",
       "      <td>4</td>\n",
       "      <td>Vagharshapat (Վաղարշապատ)[a]</td>\n",
       "      <td>Armavir</td>\n",
       "      <td>56388</td>\n",
       "      <td>46540</td>\n",
       "      <td>46200</td>\n",
       "      <td>NaN</td>\n",
       "    </tr>\n",
       "    <tr>\n",
       "      <th>4</th>\n",
       "      <td>5</td>\n",
       "      <td>Abovyan (Աբովյան)</td>\n",
       "      <td>Kotayk</td>\n",
       "      <td>44569</td>\n",
       "      <td>43495</td>\n",
       "      <td>44900</td>\n",
       "      <td>3.23</td>\n",
       "    </tr>\n",
       "  </tbody>\n",
       "</table>\n",
       "</div>"
      ],
      "text/plain": [
       "   Rank          City (Armenian name) Province  Population (2001 census)  \\\n",
       "0     1              Yerevan (Երեւան)        —                   1103488   \n",
       "1     2              Gyumri (Գյումրի)   Shirak                    150917   \n",
       "2     3            Vanadzor (Վանաձոր)     Lori                    107394   \n",
       "3     4  Vagharshapat (Վաղարշապատ)[a]  Armavir                     56388   \n",
       "4     5             Abovyan (Աբովյան)   Kotayk                     44569   \n",
       "\n",
       "   Population (2011 census)  Population (2020 estimate)  Change (2011–2020)  \n",
       "0                   1060138                     1084000                2.25  \n",
       "1                    121976                      112400                 NaN  \n",
       "2                     86199                       77200                 NaN  \n",
       "3                     46540                       46200                 NaN  \n",
       "4                     43495                       44900                3.23  "
      ]
     },
     "execution_count": 58,
     "metadata": {},
     "output_type": "execute_result"
    }
   ],
   "source": [
    "# Remove the '+' and '%' signs from the 'Change' column\n",
    "Arm_Population['Change (2011–2020)'] = Arm_Population['Change (2011–2020)'].str.replace('+', '').str.replace('-', '').str.replace('%', '')\n",
    "\n",
    "# Convert the 'Change' column to numeric\n",
    "Arm_Population['Change (2011–2020)'] = pd.to_numeric(Arm_Population['Change (2011–2020)'],errors='coerce')\n",
    "\n",
    "Arm_Population.head()"
   ]
  },
  {
   "cell_type": "code",
   "execution_count": 59,
   "id": "ce25762c",
   "metadata": {},
   "outputs": [
    {
     "data": {
      "text/html": [
       "<div>\n",
       "<style scoped>\n",
       "    .dataframe tbody tr th:only-of-type {\n",
       "        vertical-align: middle;\n",
       "    }\n",
       "\n",
       "    .dataframe tbody tr th {\n",
       "        vertical-align: top;\n",
       "    }\n",
       "\n",
       "    .dataframe thead th {\n",
       "        text-align: right;\n",
       "    }\n",
       "</style>\n",
       "<table border=\"1\" class=\"dataframe\">\n",
       "  <thead>\n",
       "    <tr style=\"text-align: right;\">\n",
       "      <th></th>\n",
       "      <th>Rank</th>\n",
       "      <th>Population (2001 census)</th>\n",
       "      <th>Population (2011 census)</th>\n",
       "      <th>Population (2020 estimate)</th>\n",
       "      <th>Change (2011–2020)</th>\n",
       "    </tr>\n",
       "  </thead>\n",
       "  <tbody>\n",
       "    <tr>\n",
       "      <th>count</th>\n",
       "      <td>45.000000</td>\n",
       "      <td>4.500000e+01</td>\n",
       "      <td>4.500000e+01</td>\n",
       "      <td>4.500000e+01</td>\n",
       "      <td>8.000000</td>\n",
       "    </tr>\n",
       "    <tr>\n",
       "      <th>mean</th>\n",
       "      <td>23.000000</td>\n",
       "      <td>4.580100e+04</td>\n",
       "      <td>4.232398e+04</td>\n",
       "      <td>4.191111e+04</td>\n",
       "      <td>1.752500</td>\n",
       "    </tr>\n",
       "    <tr>\n",
       "      <th>std</th>\n",
       "      <td>13.133926</td>\n",
       "      <td>1.635144e+05</td>\n",
       "      <td>1.567175e+05</td>\n",
       "      <td>1.601760e+05</td>\n",
       "      <td>1.329165</td>\n",
       "    </tr>\n",
       "    <tr>\n",
       "      <th>min</th>\n",
       "      <td>1.000000</td>\n",
       "      <td>1.909000e+03</td>\n",
       "      <td>1.710000e+03</td>\n",
       "      <td>1.500000e+03</td>\n",
       "      <td>0.040000</td>\n",
       "    </tr>\n",
       "    <tr>\n",
       "      <th>25%</th>\n",
       "      <td>12.000000</td>\n",
       "      <td>8.152000e+03</td>\n",
       "      <td>7.163000e+03</td>\n",
       "      <td>6.900000e+03</td>\n",
       "      <td>0.660000</td>\n",
       "    </tr>\n",
       "    <tr>\n",
       "      <th>50%</th>\n",
       "      <td>23.000000</td>\n",
       "      <td>1.498400e+04</td>\n",
       "      <td>1.289400e+04</td>\n",
       "      <td>1.240000e+04</td>\n",
       "      <td>1.925000</td>\n",
       "    </tr>\n",
       "    <tr>\n",
       "      <th>75%</th>\n",
       "      <td>34.000000</td>\n",
       "      <td>2.326100e+04</td>\n",
       "      <td>2.059100e+04</td>\n",
       "      <td>2.040000e+04</td>\n",
       "      <td>2.495000</td>\n",
       "    </tr>\n",
       "    <tr>\n",
       "      <th>max</th>\n",
       "      <td>45.000000</td>\n",
       "      <td>1.103488e+06</td>\n",
       "      <td>1.060138e+06</td>\n",
       "      <td>1.084000e+06</td>\n",
       "      <td>3.650000</td>\n",
       "    </tr>\n",
       "  </tbody>\n",
       "</table>\n",
       "</div>"
      ],
      "text/plain": [
       "            Rank  Population (2001 census)  Population (2011 census)  \\\n",
       "count  45.000000              4.500000e+01              4.500000e+01   \n",
       "mean   23.000000              4.580100e+04              4.232398e+04   \n",
       "std    13.133926              1.635144e+05              1.567175e+05   \n",
       "min     1.000000              1.909000e+03              1.710000e+03   \n",
       "25%    12.000000              8.152000e+03              7.163000e+03   \n",
       "50%    23.000000              1.498400e+04              1.289400e+04   \n",
       "75%    34.000000              2.326100e+04              2.059100e+04   \n",
       "max    45.000000              1.103488e+06              1.060138e+06   \n",
       "\n",
       "       Population (2020 estimate)  Change (2011–2020)  \n",
       "count                4.500000e+01            8.000000  \n",
       "mean                 4.191111e+04            1.752500  \n",
       "std                  1.601760e+05            1.329165  \n",
       "min                  1.500000e+03            0.040000  \n",
       "25%                  6.900000e+03            0.660000  \n",
       "50%                  1.240000e+04            1.925000  \n",
       "75%                  2.040000e+04            2.495000  \n",
       "max                  1.084000e+06            3.650000  "
      ]
     },
     "execution_count": 59,
     "metadata": {},
     "output_type": "execute_result"
    }
   ],
   "source": [
    "Arm_Population.describe()"
   ]
  },
  {
   "cell_type": "code",
   "execution_count": null,
   "id": "6d961bac",
   "metadata": {},
   "outputs": [],
   "source": []
  },
  {
   "cell_type": "code",
   "execution_count": 60,
   "id": "3857f2c5",
   "metadata": {},
   "outputs": [
    {
     "data": {
      "text/plain": [
       "Index(['Rank', 'City (Armenian name)', 'Province', 'Population (2001 census)',\n",
       "       'Population (2011 census)', 'Population (2020 estimate)',\n",
       "       'Change (2011–2020)'],\n",
       "      dtype='object')"
      ]
     },
     "execution_count": 60,
     "metadata": {},
     "output_type": "execute_result"
    }
   ],
   "source": [
    "Arm_Population.columns"
   ]
  },
  {
   "cell_type": "code",
   "execution_count": 61,
   "id": "76696bc3",
   "metadata": {},
   "outputs": [
    {
     "data": {
      "text/html": [
       "<div>\n",
       "<style scoped>\n",
       "    .dataframe tbody tr th:only-of-type {\n",
       "        vertical-align: middle;\n",
       "    }\n",
       "\n",
       "    .dataframe tbody tr th {\n",
       "        vertical-align: top;\n",
       "    }\n",
       "\n",
       "    .dataframe thead th {\n",
       "        text-align: right;\n",
       "    }\n",
       "</style>\n",
       "<table border=\"1\" class=\"dataframe\">\n",
       "  <thead>\n",
       "    <tr style=\"text-align: right;\">\n",
       "      <th></th>\n",
       "      <th>City (Armenian name)</th>\n",
       "      <th>Population (2001 census)</th>\n",
       "    </tr>\n",
       "  </thead>\n",
       "  <tbody>\n",
       "    <tr>\n",
       "      <th>0</th>\n",
       "      <td>Yerevan (Երեւան)</td>\n",
       "      <td>1103488</td>\n",
       "    </tr>\n",
       "    <tr>\n",
       "      <th>1</th>\n",
       "      <td>Gyumri (Գյումրի)</td>\n",
       "      <td>150917</td>\n",
       "    </tr>\n",
       "    <tr>\n",
       "      <th>2</th>\n",
       "      <td>Vanadzor (Վանաձոր)</td>\n",
       "      <td>107394</td>\n",
       "    </tr>\n",
       "    <tr>\n",
       "      <th>3</th>\n",
       "      <td>Vagharshapat (Վաղարշապատ)[a]</td>\n",
       "      <td>56388</td>\n",
       "    </tr>\n",
       "    <tr>\n",
       "      <th>6</th>\n",
       "      <td>Hrazdan (Հրազդան)</td>\n",
       "      <td>52808</td>\n",
       "    </tr>\n",
       "    <tr>\n",
       "      <th>5</th>\n",
       "      <td>Kapan (Կապան)</td>\n",
       "      <td>45711</td>\n",
       "    </tr>\n",
       "    <tr>\n",
       "      <th>4</th>\n",
       "      <td>Abovyan (Աբովյան)</td>\n",
       "      <td>44569</td>\n",
       "    </tr>\n",
       "    <tr>\n",
       "      <th>7</th>\n",
       "      <td>Armavir (Արմավիր)</td>\n",
       "      <td>32034</td>\n",
       "    </tr>\n",
       "    <tr>\n",
       "      <th>10</th>\n",
       "      <td>Gavar (Գավառ)</td>\n",
       "      <td>26621</td>\n",
       "    </tr>\n",
       "    <tr>\n",
       "      <th>8</th>\n",
       "      <td>Artashat (Արտաշատ)</td>\n",
       "      <td>25066</td>\n",
       "    </tr>\n",
       "  </tbody>\n",
       "</table>\n",
       "</div>"
      ],
      "text/plain": [
       "            City (Armenian name)  Population (2001 census)\n",
       "0               Yerevan (Երեւան)                   1103488\n",
       "1               Gyumri (Գյումրի)                    150917\n",
       "2             Vanadzor (Վանաձոր)                    107394\n",
       "3   Vagharshapat (Վաղարշապատ)[a]                     56388\n",
       "6              Hrazdan (Հրազդան)                     52808\n",
       "5                  Kapan (Կապան)                     45711\n",
       "4              Abovyan (Աբովյան)                     44569\n",
       "7              Armavir (Արմավիր)                     32034\n",
       "10                 Gavar (Գավառ)                     26621\n",
       "8             Artashat (Արտաշատ)                     25066"
      ]
     },
     "execution_count": 61,
     "metadata": {},
     "output_type": "execute_result"
    }
   ],
   "source": [
    "most_populous_cities = Arm_Population.nlargest(10, 'Population (2001 census)')\n",
    "most_populous_cities[['City (Armenian name)', 'Population (2001 census)']]"
   ]
  },
  {
   "cell_type": "code",
   "execution_count": 62,
   "id": "958e005e",
   "metadata": {},
   "outputs": [
    {
     "data": {
      "text/html": [
       "<div>\n",
       "<style scoped>\n",
       "    .dataframe tbody tr th:only-of-type {\n",
       "        vertical-align: middle;\n",
       "    }\n",
       "\n",
       "    .dataframe tbody tr th {\n",
       "        vertical-align: top;\n",
       "    }\n",
       "\n",
       "    .dataframe thead th {\n",
       "        text-align: right;\n",
       "    }\n",
       "</style>\n",
       "<table border=\"1\" class=\"dataframe\">\n",
       "  <thead>\n",
       "    <tr style=\"text-align: right;\">\n",
       "      <th></th>\n",
       "      <th>Rank</th>\n",
       "      <th>City (Armenian name)</th>\n",
       "      <th>Province</th>\n",
       "      <th>Population (2001 census)</th>\n",
       "      <th>Population (2011 census)</th>\n",
       "      <th>Population (2020 estimate)</th>\n",
       "      <th>Change (2011–2020)</th>\n",
       "    </tr>\n",
       "  </thead>\n",
       "  <tbody>\n",
       "    <tr>\n",
       "      <th>0</th>\n",
       "      <td>1</td>\n",
       "      <td>Yerevan (Երեւան)</td>\n",
       "      <td>—</td>\n",
       "      <td>1103488</td>\n",
       "      <td>1060138</td>\n",
       "      <td>1084000</td>\n",
       "      <td>2.25</td>\n",
       "    </tr>\n",
       "    <tr>\n",
       "      <th>1</th>\n",
       "      <td>2</td>\n",
       "      <td>Gyumri (Գյումրի)</td>\n",
       "      <td>Shirak</td>\n",
       "      <td>150917</td>\n",
       "      <td>121976</td>\n",
       "      <td>112400</td>\n",
       "      <td>NaN</td>\n",
       "    </tr>\n",
       "    <tr>\n",
       "      <th>2</th>\n",
       "      <td>3</td>\n",
       "      <td>Vanadzor (Վանաձոր)</td>\n",
       "      <td>Lori</td>\n",
       "      <td>107394</td>\n",
       "      <td>86199</td>\n",
       "      <td>77200</td>\n",
       "      <td>NaN</td>\n",
       "    </tr>\n",
       "    <tr>\n",
       "      <th>3</th>\n",
       "      <td>4</td>\n",
       "      <td>Vagharshapat (Վաղարշապատ)[a]</td>\n",
       "      <td>Armavir</td>\n",
       "      <td>56388</td>\n",
       "      <td>46540</td>\n",
       "      <td>46200</td>\n",
       "      <td>NaN</td>\n",
       "    </tr>\n",
       "    <tr>\n",
       "      <th>6</th>\n",
       "      <td>7</td>\n",
       "      <td>Hrazdan (Հրազդան)</td>\n",
       "      <td>Kotayk</td>\n",
       "      <td>52808</td>\n",
       "      <td>41875</td>\n",
       "      <td>40000</td>\n",
       "      <td>NaN</td>\n",
       "    </tr>\n",
       "    <tr>\n",
       "      <th>5</th>\n",
       "      <td>6</td>\n",
       "      <td>Kapan (Կապան)</td>\n",
       "      <td>Syunik</td>\n",
       "      <td>45711</td>\n",
       "      <td>43190</td>\n",
       "      <td>42300</td>\n",
       "      <td>NaN</td>\n",
       "    </tr>\n",
       "    <tr>\n",
       "      <th>4</th>\n",
       "      <td>5</td>\n",
       "      <td>Abovyan (Աբովյան)</td>\n",
       "      <td>Kotayk</td>\n",
       "      <td>44569</td>\n",
       "      <td>43495</td>\n",
       "      <td>44900</td>\n",
       "      <td>3.23</td>\n",
       "    </tr>\n",
       "    <tr>\n",
       "      <th>7</th>\n",
       "      <td>8</td>\n",
       "      <td>Armavir (Արմավիր)</td>\n",
       "      <td>Armavir</td>\n",
       "      <td>32034</td>\n",
       "      <td>29319</td>\n",
       "      <td>27800</td>\n",
       "      <td>NaN</td>\n",
       "    </tr>\n",
       "    <tr>\n",
       "      <th>10</th>\n",
       "      <td>11</td>\n",
       "      <td>Gavar (Գավառ)</td>\n",
       "      <td>Gegharkunik</td>\n",
       "      <td>26621</td>\n",
       "      <td>20765</td>\n",
       "      <td>18100</td>\n",
       "      <td>NaN</td>\n",
       "    </tr>\n",
       "    <tr>\n",
       "      <th>8</th>\n",
       "      <td>9</td>\n",
       "      <td>Artashat (Արտաշատ)</td>\n",
       "      <td>Ararat</td>\n",
       "      <td>25066</td>\n",
       "      <td>22269</td>\n",
       "      <td>19300</td>\n",
       "      <td>NaN</td>\n",
       "    </tr>\n",
       "  </tbody>\n",
       "</table>\n",
       "</div>"
      ],
      "text/plain": [
       "    Rank          City (Armenian name)     Province  Population (2001 census)  \\\n",
       "0      1              Yerevan (Երեւան)            —                   1103488   \n",
       "1      2              Gyumri (Գյումրի)       Shirak                    150917   \n",
       "2      3            Vanadzor (Վանաձոր)         Lori                    107394   \n",
       "3      4  Vagharshapat (Վաղարշապատ)[a]      Armavir                     56388   \n",
       "6      7             Hrazdan (Հրազդան)       Kotayk                     52808   \n",
       "5      6                 Kapan (Կապան)       Syunik                     45711   \n",
       "4      5             Abovyan (Աբովյան)       Kotayk                     44569   \n",
       "7      8             Armavir (Արմավիր)      Armavir                     32034   \n",
       "10    11                 Gavar (Գավառ)  Gegharkunik                     26621   \n",
       "8      9            Artashat (Արտաշատ)       Ararat                     25066   \n",
       "\n",
       "    Population (2011 census)  Population (2020 estimate)  Change (2011–2020)  \n",
       "0                    1060138                     1084000                2.25  \n",
       "1                     121976                      112400                 NaN  \n",
       "2                      86199                       77200                 NaN  \n",
       "3                      46540                       46200                 NaN  \n",
       "6                      41875                       40000                 NaN  \n",
       "5                      43190                       42300                 NaN  \n",
       "4                      43495                       44900                3.23  \n",
       "7                      29319                       27800                 NaN  \n",
       "10                     20765                       18100                 NaN  \n",
       "8                      22269                       19300                 NaN  "
      ]
     },
     "execution_count": 62,
     "metadata": {},
     "output_type": "execute_result"
    }
   ],
   "source": [
    "most_populous_cities"
   ]
  },
  {
   "cell_type": "code",
   "execution_count": 63,
   "id": "fc231dcb",
   "metadata": {
    "scrolled": true
   },
   "outputs": [
    {
     "data": {
      "application/vnd.plotly.v1+json": {
       "config": {
        "plotlyServerURL": "https://plot.ly"
       },
       "data": [
        {
         "hovertemplate": "Census Year=Population (2020 estimate)<br>City (Armenian name)=%{x}<br>Population=%{y}<extra></extra>",
         "legendgroup": "Population (2020 estimate)",
         "line": {
          "color": "#636efa",
          "dash": "solid"
         },
         "marker": {
          "symbol": "circle"
         },
         "mode": "lines",
         "name": "Population (2020 estimate)",
         "orientation": "v",
         "showlegend": true,
         "type": "scatter",
         "x": [
          "Yerevan (Երեւան)",
          "Gyumri (Գյումրի)",
          "Vanadzor (Վանաձոր)",
          "Vagharshapat (Վաղարշապատ)[a]",
          "Hrazdan (Հրազդան)",
          "Kapan (Կապան)",
          "Abovyan (Աբովյան)",
          "Armavir (Արմավիր)",
          "Gavar (Գավառ)",
          "Artashat (Արտաշատ)"
         ],
         "xaxis": "x",
         "y": [
          1084000,
          112400,
          77200,
          46200,
          40000,
          42300,
          44900,
          27800,
          18100,
          19300
         ],
         "yaxis": "y"
        },
        {
         "hovertemplate": "Census Year=Population (2001 census)<br>City (Armenian name)=%{x}<br>Population=%{y}<extra></extra>",
         "legendgroup": "Population (2001 census)",
         "line": {
          "color": "#EF553B",
          "dash": "solid"
         },
         "marker": {
          "symbol": "circle"
         },
         "mode": "lines",
         "name": "Population (2001 census)",
         "orientation": "v",
         "showlegend": true,
         "type": "scatter",
         "x": [
          "Yerevan (Երեւան)",
          "Gyumri (Գյումրի)",
          "Vanadzor (Վանաձոր)",
          "Vagharshapat (Վաղարշապատ)[a]",
          "Hrazdan (Հրազդան)",
          "Kapan (Կապան)",
          "Abovyan (Աբովյան)",
          "Armavir (Արմավիր)",
          "Gavar (Գավառ)",
          "Artashat (Արտաշատ)"
         ],
         "xaxis": "x",
         "y": [
          1103488,
          150917,
          107394,
          56388,
          52808,
          45711,
          44569,
          32034,
          26621,
          25066
         ],
         "yaxis": "y"
        }
       ],
       "layout": {
        "legend": {
         "title": {
          "text": "Census Year"
         },
         "tracegroupgap": 0
        },
        "template": {
         "data": {
          "bar": [
           {
            "error_x": {
             "color": "#2a3f5f"
            },
            "error_y": {
             "color": "#2a3f5f"
            },
            "marker": {
             "line": {
              "color": "#E5ECF6",
              "width": 0.5
             },
             "pattern": {
              "fillmode": "overlay",
              "size": 10,
              "solidity": 0.2
             }
            },
            "type": "bar"
           }
          ],
          "barpolar": [
           {
            "marker": {
             "line": {
              "color": "#E5ECF6",
              "width": 0.5
             },
             "pattern": {
              "fillmode": "overlay",
              "size": 10,
              "solidity": 0.2
             }
            },
            "type": "barpolar"
           }
          ],
          "carpet": [
           {
            "aaxis": {
             "endlinecolor": "#2a3f5f",
             "gridcolor": "white",
             "linecolor": "white",
             "minorgridcolor": "white",
             "startlinecolor": "#2a3f5f"
            },
            "baxis": {
             "endlinecolor": "#2a3f5f",
             "gridcolor": "white",
             "linecolor": "white",
             "minorgridcolor": "white",
             "startlinecolor": "#2a3f5f"
            },
            "type": "carpet"
           }
          ],
          "choropleth": [
           {
            "colorbar": {
             "outlinewidth": 0,
             "ticks": ""
            },
            "type": "choropleth"
           }
          ],
          "contour": [
           {
            "colorbar": {
             "outlinewidth": 0,
             "ticks": ""
            },
            "colorscale": [
             [
              0,
              "#0d0887"
             ],
             [
              0.1111111111111111,
              "#46039f"
             ],
             [
              0.2222222222222222,
              "#7201a8"
             ],
             [
              0.3333333333333333,
              "#9c179e"
             ],
             [
              0.4444444444444444,
              "#bd3786"
             ],
             [
              0.5555555555555556,
              "#d8576b"
             ],
             [
              0.6666666666666666,
              "#ed7953"
             ],
             [
              0.7777777777777778,
              "#fb9f3a"
             ],
             [
              0.8888888888888888,
              "#fdca26"
             ],
             [
              1,
              "#f0f921"
             ]
            ],
            "type": "contour"
           }
          ],
          "contourcarpet": [
           {
            "colorbar": {
             "outlinewidth": 0,
             "ticks": ""
            },
            "type": "contourcarpet"
           }
          ],
          "heatmap": [
           {
            "colorbar": {
             "outlinewidth": 0,
             "ticks": ""
            },
            "colorscale": [
             [
              0,
              "#0d0887"
             ],
             [
              0.1111111111111111,
              "#46039f"
             ],
             [
              0.2222222222222222,
              "#7201a8"
             ],
             [
              0.3333333333333333,
              "#9c179e"
             ],
             [
              0.4444444444444444,
              "#bd3786"
             ],
             [
              0.5555555555555556,
              "#d8576b"
             ],
             [
              0.6666666666666666,
              "#ed7953"
             ],
             [
              0.7777777777777778,
              "#fb9f3a"
             ],
             [
              0.8888888888888888,
              "#fdca26"
             ],
             [
              1,
              "#f0f921"
             ]
            ],
            "type": "heatmap"
           }
          ],
          "heatmapgl": [
           {
            "colorbar": {
             "outlinewidth": 0,
             "ticks": ""
            },
            "colorscale": [
             [
              0,
              "#0d0887"
             ],
             [
              0.1111111111111111,
              "#46039f"
             ],
             [
              0.2222222222222222,
              "#7201a8"
             ],
             [
              0.3333333333333333,
              "#9c179e"
             ],
             [
              0.4444444444444444,
              "#bd3786"
             ],
             [
              0.5555555555555556,
              "#d8576b"
             ],
             [
              0.6666666666666666,
              "#ed7953"
             ],
             [
              0.7777777777777778,
              "#fb9f3a"
             ],
             [
              0.8888888888888888,
              "#fdca26"
             ],
             [
              1,
              "#f0f921"
             ]
            ],
            "type": "heatmapgl"
           }
          ],
          "histogram": [
           {
            "marker": {
             "pattern": {
              "fillmode": "overlay",
              "size": 10,
              "solidity": 0.2
             }
            },
            "type": "histogram"
           }
          ],
          "histogram2d": [
           {
            "colorbar": {
             "outlinewidth": 0,
             "ticks": ""
            },
            "colorscale": [
             [
              0,
              "#0d0887"
             ],
             [
              0.1111111111111111,
              "#46039f"
             ],
             [
              0.2222222222222222,
              "#7201a8"
             ],
             [
              0.3333333333333333,
              "#9c179e"
             ],
             [
              0.4444444444444444,
              "#bd3786"
             ],
             [
              0.5555555555555556,
              "#d8576b"
             ],
             [
              0.6666666666666666,
              "#ed7953"
             ],
             [
              0.7777777777777778,
              "#fb9f3a"
             ],
             [
              0.8888888888888888,
              "#fdca26"
             ],
             [
              1,
              "#f0f921"
             ]
            ],
            "type": "histogram2d"
           }
          ],
          "histogram2dcontour": [
           {
            "colorbar": {
             "outlinewidth": 0,
             "ticks": ""
            },
            "colorscale": [
             [
              0,
              "#0d0887"
             ],
             [
              0.1111111111111111,
              "#46039f"
             ],
             [
              0.2222222222222222,
              "#7201a8"
             ],
             [
              0.3333333333333333,
              "#9c179e"
             ],
             [
              0.4444444444444444,
              "#bd3786"
             ],
             [
              0.5555555555555556,
              "#d8576b"
             ],
             [
              0.6666666666666666,
              "#ed7953"
             ],
             [
              0.7777777777777778,
              "#fb9f3a"
             ],
             [
              0.8888888888888888,
              "#fdca26"
             ],
             [
              1,
              "#f0f921"
             ]
            ],
            "type": "histogram2dcontour"
           }
          ],
          "mesh3d": [
           {
            "colorbar": {
             "outlinewidth": 0,
             "ticks": ""
            },
            "type": "mesh3d"
           }
          ],
          "parcoords": [
           {
            "line": {
             "colorbar": {
              "outlinewidth": 0,
              "ticks": ""
             }
            },
            "type": "parcoords"
           }
          ],
          "pie": [
           {
            "automargin": true,
            "type": "pie"
           }
          ],
          "scatter": [
           {
            "fillpattern": {
             "fillmode": "overlay",
             "size": 10,
             "solidity": 0.2
            },
            "type": "scatter"
           }
          ],
          "scatter3d": [
           {
            "line": {
             "colorbar": {
              "outlinewidth": 0,
              "ticks": ""
             }
            },
            "marker": {
             "colorbar": {
              "outlinewidth": 0,
              "ticks": ""
             }
            },
            "type": "scatter3d"
           }
          ],
          "scattercarpet": [
           {
            "marker": {
             "colorbar": {
              "outlinewidth": 0,
              "ticks": ""
             }
            },
            "type": "scattercarpet"
           }
          ],
          "scattergeo": [
           {
            "marker": {
             "colorbar": {
              "outlinewidth": 0,
              "ticks": ""
             }
            },
            "type": "scattergeo"
           }
          ],
          "scattergl": [
           {
            "marker": {
             "colorbar": {
              "outlinewidth": 0,
              "ticks": ""
             }
            },
            "type": "scattergl"
           }
          ],
          "scattermapbox": [
           {
            "marker": {
             "colorbar": {
              "outlinewidth": 0,
              "ticks": ""
             }
            },
            "type": "scattermapbox"
           }
          ],
          "scatterpolar": [
           {
            "marker": {
             "colorbar": {
              "outlinewidth": 0,
              "ticks": ""
             }
            },
            "type": "scatterpolar"
           }
          ],
          "scatterpolargl": [
           {
            "marker": {
             "colorbar": {
              "outlinewidth": 0,
              "ticks": ""
             }
            },
            "type": "scatterpolargl"
           }
          ],
          "scatterternary": [
           {
            "marker": {
             "colorbar": {
              "outlinewidth": 0,
              "ticks": ""
             }
            },
            "type": "scatterternary"
           }
          ],
          "surface": [
           {
            "colorbar": {
             "outlinewidth": 0,
             "ticks": ""
            },
            "colorscale": [
             [
              0,
              "#0d0887"
             ],
             [
              0.1111111111111111,
              "#46039f"
             ],
             [
              0.2222222222222222,
              "#7201a8"
             ],
             [
              0.3333333333333333,
              "#9c179e"
             ],
             [
              0.4444444444444444,
              "#bd3786"
             ],
             [
              0.5555555555555556,
              "#d8576b"
             ],
             [
              0.6666666666666666,
              "#ed7953"
             ],
             [
              0.7777777777777778,
              "#fb9f3a"
             ],
             [
              0.8888888888888888,
              "#fdca26"
             ],
             [
              1,
              "#f0f921"
             ]
            ],
            "type": "surface"
           }
          ],
          "table": [
           {
            "cells": {
             "fill": {
              "color": "#EBF0F8"
             },
             "line": {
              "color": "white"
             }
            },
            "header": {
             "fill": {
              "color": "#C8D4E3"
             },
             "line": {
              "color": "white"
             }
            },
            "type": "table"
           }
          ]
         },
         "layout": {
          "annotationdefaults": {
           "arrowcolor": "#2a3f5f",
           "arrowhead": 0,
           "arrowwidth": 1
          },
          "autotypenumbers": "strict",
          "coloraxis": {
           "colorbar": {
            "outlinewidth": 0,
            "ticks": ""
           }
          },
          "colorscale": {
           "diverging": [
            [
             0,
             "#8e0152"
            ],
            [
             0.1,
             "#c51b7d"
            ],
            [
             0.2,
             "#de77ae"
            ],
            [
             0.3,
             "#f1b6da"
            ],
            [
             0.4,
             "#fde0ef"
            ],
            [
             0.5,
             "#f7f7f7"
            ],
            [
             0.6,
             "#e6f5d0"
            ],
            [
             0.7,
             "#b8e186"
            ],
            [
             0.8,
             "#7fbc41"
            ],
            [
             0.9,
             "#4d9221"
            ],
            [
             1,
             "#276419"
            ]
           ],
           "sequential": [
            [
             0,
             "#0d0887"
            ],
            [
             0.1111111111111111,
             "#46039f"
            ],
            [
             0.2222222222222222,
             "#7201a8"
            ],
            [
             0.3333333333333333,
             "#9c179e"
            ],
            [
             0.4444444444444444,
             "#bd3786"
            ],
            [
             0.5555555555555556,
             "#d8576b"
            ],
            [
             0.6666666666666666,
             "#ed7953"
            ],
            [
             0.7777777777777778,
             "#fb9f3a"
            ],
            [
             0.8888888888888888,
             "#fdca26"
            ],
            [
             1,
             "#f0f921"
            ]
           ],
           "sequentialminus": [
            [
             0,
             "#0d0887"
            ],
            [
             0.1111111111111111,
             "#46039f"
            ],
            [
             0.2222222222222222,
             "#7201a8"
            ],
            [
             0.3333333333333333,
             "#9c179e"
            ],
            [
             0.4444444444444444,
             "#bd3786"
            ],
            [
             0.5555555555555556,
             "#d8576b"
            ],
            [
             0.6666666666666666,
             "#ed7953"
            ],
            [
             0.7777777777777778,
             "#fb9f3a"
            ],
            [
             0.8888888888888888,
             "#fdca26"
            ],
            [
             1,
             "#f0f921"
            ]
           ]
          },
          "colorway": [
           "#636efa",
           "#EF553B",
           "#00cc96",
           "#ab63fa",
           "#FFA15A",
           "#19d3f3",
           "#FF6692",
           "#B6E880",
           "#FF97FF",
           "#FECB52"
          ],
          "font": {
           "color": "#2a3f5f"
          },
          "geo": {
           "bgcolor": "white",
           "lakecolor": "white",
           "landcolor": "#E5ECF6",
           "showlakes": true,
           "showland": true,
           "subunitcolor": "white"
          },
          "hoverlabel": {
           "align": "left"
          },
          "hovermode": "closest",
          "mapbox": {
           "style": "light"
          },
          "paper_bgcolor": "white",
          "plot_bgcolor": "#E5ECF6",
          "polar": {
           "angularaxis": {
            "gridcolor": "white",
            "linecolor": "white",
            "ticks": ""
           },
           "bgcolor": "#E5ECF6",
           "radialaxis": {
            "gridcolor": "white",
            "linecolor": "white",
            "ticks": ""
           }
          },
          "scene": {
           "xaxis": {
            "backgroundcolor": "#E5ECF6",
            "gridcolor": "white",
            "gridwidth": 2,
            "linecolor": "white",
            "showbackground": true,
            "ticks": "",
            "zerolinecolor": "white"
           },
           "yaxis": {
            "backgroundcolor": "#E5ECF6",
            "gridcolor": "white",
            "gridwidth": 2,
            "linecolor": "white",
            "showbackground": true,
            "ticks": "",
            "zerolinecolor": "white"
           },
           "zaxis": {
            "backgroundcolor": "#E5ECF6",
            "gridcolor": "white",
            "gridwidth": 2,
            "linecolor": "white",
            "showbackground": true,
            "ticks": "",
            "zerolinecolor": "white"
           }
          },
          "shapedefaults": {
           "line": {
            "color": "#2a3f5f"
           }
          },
          "ternary": {
           "aaxis": {
            "gridcolor": "white",
            "linecolor": "white",
            "ticks": ""
           },
           "baxis": {
            "gridcolor": "white",
            "linecolor": "white",
            "ticks": ""
           },
           "bgcolor": "#E5ECF6",
           "caxis": {
            "gridcolor": "white",
            "linecolor": "white",
            "ticks": ""
           }
          },
          "title": {
           "x": 0.05
          },
          "xaxis": {
           "automargin": true,
           "gridcolor": "white",
           "linecolor": "white",
           "ticks": "",
           "title": {
            "standoff": 15
           },
           "zerolinecolor": "white",
           "zerolinewidth": 2
          },
          "yaxis": {
           "automargin": true,
           "gridcolor": "white",
           "linecolor": "white",
           "ticks": "",
           "title": {
            "standoff": 15
           },
           "zerolinecolor": "white",
           "zerolinewidth": 2
          }
         }
        },
        "title": {
         "text": "Population Change of Arm Cities (2001 vs 2020 Census)"
        },
        "xaxis": {
         "anchor": "y",
         "domain": [
          0,
          1
         ],
         "title": {
          "text": "City (Armenian name)"
         }
        },
        "yaxis": {
         "anchor": "x",
         "domain": [
          0,
          1
         ],
         "title": {
          "text": "Population"
         }
        }
       }
      },
      "text/html": [
       "<div>                            <div id=\"160f3faa-3506-4029-8528-e26e28dbe1be\" class=\"plotly-graph-div\" style=\"height:525px; width:100%;\"></div>            <script type=\"text/javascript\">                require([\"plotly\"], function(Plotly) {                    window.PLOTLYENV=window.PLOTLYENV || {};                                    if (document.getElementById(\"160f3faa-3506-4029-8528-e26e28dbe1be\")) {                    Plotly.newPlot(                        \"160f3faa-3506-4029-8528-e26e28dbe1be\",                        [{\"hovertemplate\":\"Census Year=Population (2020 estimate)<br>City (Armenian name)=%{x}<br>Population=%{y}<extra></extra>\",\"legendgroup\":\"Population (2020 estimate)\",\"line\":{\"color\":\"#636efa\",\"dash\":\"solid\"},\"marker\":{\"symbol\":\"circle\"},\"mode\":\"lines\",\"name\":\"Population (2020 estimate)\",\"orientation\":\"v\",\"showlegend\":true,\"x\":[\"Yerevan (\\u0535\\u0580\\u0565\\u0582\\u0561\\u0576)\",\"Gyumri (\\u0533\\u0575\\u0578\\u0582\\u0574\\u0580\\u056b)\",\"Vanadzor (\\u054e\\u0561\\u0576\\u0561\\u0571\\u0578\\u0580)\",\"Vagharshapat (\\u054e\\u0561\\u0572\\u0561\\u0580\\u0577\\u0561\\u057a\\u0561\\u057f)[a]\",\"Hrazdan (\\u0540\\u0580\\u0561\\u0566\\u0564\\u0561\\u0576)\",\"Kapan (\\u053f\\u0561\\u057a\\u0561\\u0576)\",\"Abovyan (\\u0531\\u0562\\u0578\\u057e\\u0575\\u0561\\u0576)\",\"Armavir (\\u0531\\u0580\\u0574\\u0561\\u057e\\u056b\\u0580)\",\"Gavar (\\u0533\\u0561\\u057e\\u0561\\u057c)\",\"Artashat (\\u0531\\u0580\\u057f\\u0561\\u0577\\u0561\\u057f)\"],\"xaxis\":\"x\",\"y\":[1084000,112400,77200,46200,40000,42300,44900,27800,18100,19300],\"yaxis\":\"y\",\"type\":\"scatter\"},{\"hovertemplate\":\"Census Year=Population (2001 census)<br>City (Armenian name)=%{x}<br>Population=%{y}<extra></extra>\",\"legendgroup\":\"Population (2001 census)\",\"line\":{\"color\":\"#EF553B\",\"dash\":\"solid\"},\"marker\":{\"symbol\":\"circle\"},\"mode\":\"lines\",\"name\":\"Population (2001 census)\",\"orientation\":\"v\",\"showlegend\":true,\"x\":[\"Yerevan (\\u0535\\u0580\\u0565\\u0582\\u0561\\u0576)\",\"Gyumri (\\u0533\\u0575\\u0578\\u0582\\u0574\\u0580\\u056b)\",\"Vanadzor (\\u054e\\u0561\\u0576\\u0561\\u0571\\u0578\\u0580)\",\"Vagharshapat (\\u054e\\u0561\\u0572\\u0561\\u0580\\u0577\\u0561\\u057a\\u0561\\u057f)[a]\",\"Hrazdan (\\u0540\\u0580\\u0561\\u0566\\u0564\\u0561\\u0576)\",\"Kapan (\\u053f\\u0561\\u057a\\u0561\\u0576)\",\"Abovyan (\\u0531\\u0562\\u0578\\u057e\\u0575\\u0561\\u0576)\",\"Armavir (\\u0531\\u0580\\u0574\\u0561\\u057e\\u056b\\u0580)\",\"Gavar (\\u0533\\u0561\\u057e\\u0561\\u057c)\",\"Artashat (\\u0531\\u0580\\u057f\\u0561\\u0577\\u0561\\u057f)\"],\"xaxis\":\"x\",\"y\":[1103488,150917,107394,56388,52808,45711,44569,32034,26621,25066],\"yaxis\":\"y\",\"type\":\"scatter\"}],                        {\"template\":{\"data\":{\"histogram2dcontour\":[{\"type\":\"histogram2dcontour\",\"colorbar\":{\"outlinewidth\":0,\"ticks\":\"\"},\"colorscale\":[[0.0,\"#0d0887\"],[0.1111111111111111,\"#46039f\"],[0.2222222222222222,\"#7201a8\"],[0.3333333333333333,\"#9c179e\"],[0.4444444444444444,\"#bd3786\"],[0.5555555555555556,\"#d8576b\"],[0.6666666666666666,\"#ed7953\"],[0.7777777777777778,\"#fb9f3a\"],[0.8888888888888888,\"#fdca26\"],[1.0,\"#f0f921\"]]}],\"choropleth\":[{\"type\":\"choropleth\",\"colorbar\":{\"outlinewidth\":0,\"ticks\":\"\"}}],\"histogram2d\":[{\"type\":\"histogram2d\",\"colorbar\":{\"outlinewidth\":0,\"ticks\":\"\"},\"colorscale\":[[0.0,\"#0d0887\"],[0.1111111111111111,\"#46039f\"],[0.2222222222222222,\"#7201a8\"],[0.3333333333333333,\"#9c179e\"],[0.4444444444444444,\"#bd3786\"],[0.5555555555555556,\"#d8576b\"],[0.6666666666666666,\"#ed7953\"],[0.7777777777777778,\"#fb9f3a\"],[0.8888888888888888,\"#fdca26\"],[1.0,\"#f0f921\"]]}],\"heatmap\":[{\"type\":\"heatmap\",\"colorbar\":{\"outlinewidth\":0,\"ticks\":\"\"},\"colorscale\":[[0.0,\"#0d0887\"],[0.1111111111111111,\"#46039f\"],[0.2222222222222222,\"#7201a8\"],[0.3333333333333333,\"#9c179e\"],[0.4444444444444444,\"#bd3786\"],[0.5555555555555556,\"#d8576b\"],[0.6666666666666666,\"#ed7953\"],[0.7777777777777778,\"#fb9f3a\"],[0.8888888888888888,\"#fdca26\"],[1.0,\"#f0f921\"]]}],\"heatmapgl\":[{\"type\":\"heatmapgl\",\"colorbar\":{\"outlinewidth\":0,\"ticks\":\"\"},\"colorscale\":[[0.0,\"#0d0887\"],[0.1111111111111111,\"#46039f\"],[0.2222222222222222,\"#7201a8\"],[0.3333333333333333,\"#9c179e\"],[0.4444444444444444,\"#bd3786\"],[0.5555555555555556,\"#d8576b\"],[0.6666666666666666,\"#ed7953\"],[0.7777777777777778,\"#fb9f3a\"],[0.8888888888888888,\"#fdca26\"],[1.0,\"#f0f921\"]]}],\"contourcarpet\":[{\"type\":\"contourcarpet\",\"colorbar\":{\"outlinewidth\":0,\"ticks\":\"\"}}],\"contour\":[{\"type\":\"contour\",\"colorbar\":{\"outlinewidth\":0,\"ticks\":\"\"},\"colorscale\":[[0.0,\"#0d0887\"],[0.1111111111111111,\"#46039f\"],[0.2222222222222222,\"#7201a8\"],[0.3333333333333333,\"#9c179e\"],[0.4444444444444444,\"#bd3786\"],[0.5555555555555556,\"#d8576b\"],[0.6666666666666666,\"#ed7953\"],[0.7777777777777778,\"#fb9f3a\"],[0.8888888888888888,\"#fdca26\"],[1.0,\"#f0f921\"]]}],\"surface\":[{\"type\":\"surface\",\"colorbar\":{\"outlinewidth\":0,\"ticks\":\"\"},\"colorscale\":[[0.0,\"#0d0887\"],[0.1111111111111111,\"#46039f\"],[0.2222222222222222,\"#7201a8\"],[0.3333333333333333,\"#9c179e\"],[0.4444444444444444,\"#bd3786\"],[0.5555555555555556,\"#d8576b\"],[0.6666666666666666,\"#ed7953\"],[0.7777777777777778,\"#fb9f3a\"],[0.8888888888888888,\"#fdca26\"],[1.0,\"#f0f921\"]]}],\"mesh3d\":[{\"type\":\"mesh3d\",\"colorbar\":{\"outlinewidth\":0,\"ticks\":\"\"}}],\"scatter\":[{\"fillpattern\":{\"fillmode\":\"overlay\",\"size\":10,\"solidity\":0.2},\"type\":\"scatter\"}],\"parcoords\":[{\"type\":\"parcoords\",\"line\":{\"colorbar\":{\"outlinewidth\":0,\"ticks\":\"\"}}}],\"scatterpolargl\":[{\"type\":\"scatterpolargl\",\"marker\":{\"colorbar\":{\"outlinewidth\":0,\"ticks\":\"\"}}}],\"bar\":[{\"error_x\":{\"color\":\"#2a3f5f\"},\"error_y\":{\"color\":\"#2a3f5f\"},\"marker\":{\"line\":{\"color\":\"#E5ECF6\",\"width\":0.5},\"pattern\":{\"fillmode\":\"overlay\",\"size\":10,\"solidity\":0.2}},\"type\":\"bar\"}],\"scattergeo\":[{\"type\":\"scattergeo\",\"marker\":{\"colorbar\":{\"outlinewidth\":0,\"ticks\":\"\"}}}],\"scatterpolar\":[{\"type\":\"scatterpolar\",\"marker\":{\"colorbar\":{\"outlinewidth\":0,\"ticks\":\"\"}}}],\"histogram\":[{\"marker\":{\"pattern\":{\"fillmode\":\"overlay\",\"size\":10,\"solidity\":0.2}},\"type\":\"histogram\"}],\"scattergl\":[{\"type\":\"scattergl\",\"marker\":{\"colorbar\":{\"outlinewidth\":0,\"ticks\":\"\"}}}],\"scatter3d\":[{\"type\":\"scatter3d\",\"line\":{\"colorbar\":{\"outlinewidth\":0,\"ticks\":\"\"}},\"marker\":{\"colorbar\":{\"outlinewidth\":0,\"ticks\":\"\"}}}],\"scattermapbox\":[{\"type\":\"scattermapbox\",\"marker\":{\"colorbar\":{\"outlinewidth\":0,\"ticks\":\"\"}}}],\"scatterternary\":[{\"type\":\"scatterternary\",\"marker\":{\"colorbar\":{\"outlinewidth\":0,\"ticks\":\"\"}}}],\"scattercarpet\":[{\"type\":\"scattercarpet\",\"marker\":{\"colorbar\":{\"outlinewidth\":0,\"ticks\":\"\"}}}],\"carpet\":[{\"aaxis\":{\"endlinecolor\":\"#2a3f5f\",\"gridcolor\":\"white\",\"linecolor\":\"white\",\"minorgridcolor\":\"white\",\"startlinecolor\":\"#2a3f5f\"},\"baxis\":{\"endlinecolor\":\"#2a3f5f\",\"gridcolor\":\"white\",\"linecolor\":\"white\",\"minorgridcolor\":\"white\",\"startlinecolor\":\"#2a3f5f\"},\"type\":\"carpet\"}],\"table\":[{\"cells\":{\"fill\":{\"color\":\"#EBF0F8\"},\"line\":{\"color\":\"white\"}},\"header\":{\"fill\":{\"color\":\"#C8D4E3\"},\"line\":{\"color\":\"white\"}},\"type\":\"table\"}],\"barpolar\":[{\"marker\":{\"line\":{\"color\":\"#E5ECF6\",\"width\":0.5},\"pattern\":{\"fillmode\":\"overlay\",\"size\":10,\"solidity\":0.2}},\"type\":\"barpolar\"}],\"pie\":[{\"automargin\":true,\"type\":\"pie\"}]},\"layout\":{\"autotypenumbers\":\"strict\",\"colorway\":[\"#636efa\",\"#EF553B\",\"#00cc96\",\"#ab63fa\",\"#FFA15A\",\"#19d3f3\",\"#FF6692\",\"#B6E880\",\"#FF97FF\",\"#FECB52\"],\"font\":{\"color\":\"#2a3f5f\"},\"hovermode\":\"closest\",\"hoverlabel\":{\"align\":\"left\"},\"paper_bgcolor\":\"white\",\"plot_bgcolor\":\"#E5ECF6\",\"polar\":{\"bgcolor\":\"#E5ECF6\",\"angularaxis\":{\"gridcolor\":\"white\",\"linecolor\":\"white\",\"ticks\":\"\"},\"radialaxis\":{\"gridcolor\":\"white\",\"linecolor\":\"white\",\"ticks\":\"\"}},\"ternary\":{\"bgcolor\":\"#E5ECF6\",\"aaxis\":{\"gridcolor\":\"white\",\"linecolor\":\"white\",\"ticks\":\"\"},\"baxis\":{\"gridcolor\":\"white\",\"linecolor\":\"white\",\"ticks\":\"\"},\"caxis\":{\"gridcolor\":\"white\",\"linecolor\":\"white\",\"ticks\":\"\"}},\"coloraxis\":{\"colorbar\":{\"outlinewidth\":0,\"ticks\":\"\"}},\"colorscale\":{\"sequential\":[[0.0,\"#0d0887\"],[0.1111111111111111,\"#46039f\"],[0.2222222222222222,\"#7201a8\"],[0.3333333333333333,\"#9c179e\"],[0.4444444444444444,\"#bd3786\"],[0.5555555555555556,\"#d8576b\"],[0.6666666666666666,\"#ed7953\"],[0.7777777777777778,\"#fb9f3a\"],[0.8888888888888888,\"#fdca26\"],[1.0,\"#f0f921\"]],\"sequentialminus\":[[0.0,\"#0d0887\"],[0.1111111111111111,\"#46039f\"],[0.2222222222222222,\"#7201a8\"],[0.3333333333333333,\"#9c179e\"],[0.4444444444444444,\"#bd3786\"],[0.5555555555555556,\"#d8576b\"],[0.6666666666666666,\"#ed7953\"],[0.7777777777777778,\"#fb9f3a\"],[0.8888888888888888,\"#fdca26\"],[1.0,\"#f0f921\"]],\"diverging\":[[0,\"#8e0152\"],[0.1,\"#c51b7d\"],[0.2,\"#de77ae\"],[0.3,\"#f1b6da\"],[0.4,\"#fde0ef\"],[0.5,\"#f7f7f7\"],[0.6,\"#e6f5d0\"],[0.7,\"#b8e186\"],[0.8,\"#7fbc41\"],[0.9,\"#4d9221\"],[1,\"#276419\"]]},\"xaxis\":{\"gridcolor\":\"white\",\"linecolor\":\"white\",\"ticks\":\"\",\"title\":{\"standoff\":15},\"zerolinecolor\":\"white\",\"automargin\":true,\"zerolinewidth\":2},\"yaxis\":{\"gridcolor\":\"white\",\"linecolor\":\"white\",\"ticks\":\"\",\"title\":{\"standoff\":15},\"zerolinecolor\":\"white\",\"automargin\":true,\"zerolinewidth\":2},\"scene\":{\"xaxis\":{\"backgroundcolor\":\"#E5ECF6\",\"gridcolor\":\"white\",\"linecolor\":\"white\",\"showbackground\":true,\"ticks\":\"\",\"zerolinecolor\":\"white\",\"gridwidth\":2},\"yaxis\":{\"backgroundcolor\":\"#E5ECF6\",\"gridcolor\":\"white\",\"linecolor\":\"white\",\"showbackground\":true,\"ticks\":\"\",\"zerolinecolor\":\"white\",\"gridwidth\":2},\"zaxis\":{\"backgroundcolor\":\"#E5ECF6\",\"gridcolor\":\"white\",\"linecolor\":\"white\",\"showbackground\":true,\"ticks\":\"\",\"zerolinecolor\":\"white\",\"gridwidth\":2}},\"shapedefaults\":{\"line\":{\"color\":\"#2a3f5f\"}},\"annotationdefaults\":{\"arrowcolor\":\"#2a3f5f\",\"arrowhead\":0,\"arrowwidth\":1},\"geo\":{\"bgcolor\":\"white\",\"landcolor\":\"#E5ECF6\",\"subunitcolor\":\"white\",\"showland\":true,\"showlakes\":true,\"lakecolor\":\"white\"},\"title\":{\"x\":0.05},\"mapbox\":{\"style\":\"light\"}}},\"xaxis\":{\"anchor\":\"y\",\"domain\":[0.0,1.0],\"title\":{\"text\":\"City (Armenian name)\"}},\"yaxis\":{\"anchor\":\"x\",\"domain\":[0.0,1.0],\"title\":{\"text\":\"Population\"}},\"legend\":{\"title\":{\"text\":\"Census Year\"},\"tracegroupgap\":0},\"title\":{\"text\":\"Population Change of Arm Cities (2001 vs 2020 Census)\"}},                        {\"responsive\": true}                    ).then(function(){\n",
       "                            \n",
       "var gd = document.getElementById('160f3faa-3506-4029-8528-e26e28dbe1be');\n",
       "var x = new MutationObserver(function (mutations, observer) {{\n",
       "        var display = window.getComputedStyle(gd).display;\n",
       "        if (!display || display === 'none') {{\n",
       "            console.log([gd, 'removed!']);\n",
       "            Plotly.purge(gd);\n",
       "            observer.disconnect();\n",
       "        }}\n",
       "}});\n",
       "\n",
       "// Listen for the removal of the full notebook cells\n",
       "var notebookContainer = gd.closest('#notebook-container');\n",
       "if (notebookContainer) {{\n",
       "    x.observe(notebookContainer, {childList: true});\n",
       "}}\n",
       "\n",
       "// Listen for the clearing of the current output cell\n",
       "var outputEl = gd.closest('.output');\n",
       "if (outputEl) {{\n",
       "    x.observe(outputEl, {childList: true});\n",
       "}}\n",
       "\n",
       "                        })                };                });            </script>        </div>"
      ]
     },
     "metadata": {},
     "output_type": "display_data"
    }
   ],
   "source": [
    "fig = px.line(most_populous_cities, x='City (Armenian name)', y=['Population (2020 estimate)', 'Population (2001 census)'],\n",
    "              title='Population Change of Arm Cities (2001 vs 2020 Census)',\n",
    "              labels={'City (Armenian name)': 'City (Armenian name)', 'value': 'Population', 'variable': 'Census Year'})\n",
    "\n",
    "fig.show()"
   ]
  },
  {
   "cell_type": "code",
   "execution_count": 64,
   "id": "78dcd270",
   "metadata": {},
   "outputs": [
    {
     "data": {
      "application/vnd.plotly.v1+json": {
       "config": {
        "plotlyServerURL": "https://plot.ly"
       },
       "data": [
        {
         "alignmentgroup": "True",
         "hovertemplate": "Census Year=Population (2020 estimate)<br>City (Armenian name)=%{x}<br>Population=%{y}<extra></extra>",
         "legendgroup": "Population (2020 estimate)",
         "marker": {
          "color": "#636efa",
          "pattern": {
           "shape": ""
          }
         },
         "name": "Population (2020 estimate)",
         "offsetgroup": "Population (2020 estimate)",
         "orientation": "v",
         "showlegend": true,
         "textposition": "auto",
         "type": "bar",
         "x": [
          "Yerevan (Երեւան)",
          "Gyumri (Գյումրի)",
          "Vanadzor (Վանաձոր)",
          "Vagharshapat (Վաղարշապատ)[a]",
          "Hrazdan (Հրազդան)",
          "Kapan (Կապան)",
          "Abovyan (Աբովյան)",
          "Armavir (Արմավիր)",
          "Gavar (Գավառ)",
          "Artashat (Արտաշատ)"
         ],
         "xaxis": "x",
         "y": [
          1084000,
          112400,
          77200,
          46200,
          40000,
          42300,
          44900,
          27800,
          18100,
          19300
         ],
         "yaxis": "y"
        },
        {
         "alignmentgroup": "True",
         "hovertemplate": "Census Year=Population (2001 census)<br>City (Armenian name)=%{x}<br>Population=%{y}<extra></extra>",
         "legendgroup": "Population (2001 census)",
         "marker": {
          "color": "#EF553B",
          "pattern": {
           "shape": ""
          }
         },
         "name": "Population (2001 census)",
         "offsetgroup": "Population (2001 census)",
         "orientation": "v",
         "showlegend": true,
         "textposition": "auto",
         "type": "bar",
         "x": [
          "Yerevan (Երեւան)",
          "Gyumri (Գյումրի)",
          "Vanadzor (Վանաձոր)",
          "Vagharshapat (Վաղարշապատ)[a]",
          "Hrazdan (Հրազդան)",
          "Kapan (Կապան)",
          "Abovyan (Աբովյան)",
          "Armavir (Արմավիր)",
          "Gavar (Գավառ)",
          "Artashat (Արտաշատ)"
         ],
         "xaxis": "x",
         "y": [
          1103488,
          150917,
          107394,
          56388,
          52808,
          45711,
          44569,
          32034,
          26621,
          25066
         ],
         "yaxis": "y"
        }
       ],
       "layout": {
        "barmode": "group",
        "legend": {
         "title": {
          "text": "Census Year"
         },
         "tracegroupgap": 0
        },
        "template": {
         "data": {
          "bar": [
           {
            "error_x": {
             "color": "#2a3f5f"
            },
            "error_y": {
             "color": "#2a3f5f"
            },
            "marker": {
             "line": {
              "color": "#E5ECF6",
              "width": 0.5
             },
             "pattern": {
              "fillmode": "overlay",
              "size": 10,
              "solidity": 0.2
             }
            },
            "type": "bar"
           }
          ],
          "barpolar": [
           {
            "marker": {
             "line": {
              "color": "#E5ECF6",
              "width": 0.5
             },
             "pattern": {
              "fillmode": "overlay",
              "size": 10,
              "solidity": 0.2
             }
            },
            "type": "barpolar"
           }
          ],
          "carpet": [
           {
            "aaxis": {
             "endlinecolor": "#2a3f5f",
             "gridcolor": "white",
             "linecolor": "white",
             "minorgridcolor": "white",
             "startlinecolor": "#2a3f5f"
            },
            "baxis": {
             "endlinecolor": "#2a3f5f",
             "gridcolor": "white",
             "linecolor": "white",
             "minorgridcolor": "white",
             "startlinecolor": "#2a3f5f"
            },
            "type": "carpet"
           }
          ],
          "choropleth": [
           {
            "colorbar": {
             "outlinewidth": 0,
             "ticks": ""
            },
            "type": "choropleth"
           }
          ],
          "contour": [
           {
            "colorbar": {
             "outlinewidth": 0,
             "ticks": ""
            },
            "colorscale": [
             [
              0,
              "#0d0887"
             ],
             [
              0.1111111111111111,
              "#46039f"
             ],
             [
              0.2222222222222222,
              "#7201a8"
             ],
             [
              0.3333333333333333,
              "#9c179e"
             ],
             [
              0.4444444444444444,
              "#bd3786"
             ],
             [
              0.5555555555555556,
              "#d8576b"
             ],
             [
              0.6666666666666666,
              "#ed7953"
             ],
             [
              0.7777777777777778,
              "#fb9f3a"
             ],
             [
              0.8888888888888888,
              "#fdca26"
             ],
             [
              1,
              "#f0f921"
             ]
            ],
            "type": "contour"
           }
          ],
          "contourcarpet": [
           {
            "colorbar": {
             "outlinewidth": 0,
             "ticks": ""
            },
            "type": "contourcarpet"
           }
          ],
          "heatmap": [
           {
            "colorbar": {
             "outlinewidth": 0,
             "ticks": ""
            },
            "colorscale": [
             [
              0,
              "#0d0887"
             ],
             [
              0.1111111111111111,
              "#46039f"
             ],
             [
              0.2222222222222222,
              "#7201a8"
             ],
             [
              0.3333333333333333,
              "#9c179e"
             ],
             [
              0.4444444444444444,
              "#bd3786"
             ],
             [
              0.5555555555555556,
              "#d8576b"
             ],
             [
              0.6666666666666666,
              "#ed7953"
             ],
             [
              0.7777777777777778,
              "#fb9f3a"
             ],
             [
              0.8888888888888888,
              "#fdca26"
             ],
             [
              1,
              "#f0f921"
             ]
            ],
            "type": "heatmap"
           }
          ],
          "heatmapgl": [
           {
            "colorbar": {
             "outlinewidth": 0,
             "ticks": ""
            },
            "colorscale": [
             [
              0,
              "#0d0887"
             ],
             [
              0.1111111111111111,
              "#46039f"
             ],
             [
              0.2222222222222222,
              "#7201a8"
             ],
             [
              0.3333333333333333,
              "#9c179e"
             ],
             [
              0.4444444444444444,
              "#bd3786"
             ],
             [
              0.5555555555555556,
              "#d8576b"
             ],
             [
              0.6666666666666666,
              "#ed7953"
             ],
             [
              0.7777777777777778,
              "#fb9f3a"
             ],
             [
              0.8888888888888888,
              "#fdca26"
             ],
             [
              1,
              "#f0f921"
             ]
            ],
            "type": "heatmapgl"
           }
          ],
          "histogram": [
           {
            "marker": {
             "pattern": {
              "fillmode": "overlay",
              "size": 10,
              "solidity": 0.2
             }
            },
            "type": "histogram"
           }
          ],
          "histogram2d": [
           {
            "colorbar": {
             "outlinewidth": 0,
             "ticks": ""
            },
            "colorscale": [
             [
              0,
              "#0d0887"
             ],
             [
              0.1111111111111111,
              "#46039f"
             ],
             [
              0.2222222222222222,
              "#7201a8"
             ],
             [
              0.3333333333333333,
              "#9c179e"
             ],
             [
              0.4444444444444444,
              "#bd3786"
             ],
             [
              0.5555555555555556,
              "#d8576b"
             ],
             [
              0.6666666666666666,
              "#ed7953"
             ],
             [
              0.7777777777777778,
              "#fb9f3a"
             ],
             [
              0.8888888888888888,
              "#fdca26"
             ],
             [
              1,
              "#f0f921"
             ]
            ],
            "type": "histogram2d"
           }
          ],
          "histogram2dcontour": [
           {
            "colorbar": {
             "outlinewidth": 0,
             "ticks": ""
            },
            "colorscale": [
             [
              0,
              "#0d0887"
             ],
             [
              0.1111111111111111,
              "#46039f"
             ],
             [
              0.2222222222222222,
              "#7201a8"
             ],
             [
              0.3333333333333333,
              "#9c179e"
             ],
             [
              0.4444444444444444,
              "#bd3786"
             ],
             [
              0.5555555555555556,
              "#d8576b"
             ],
             [
              0.6666666666666666,
              "#ed7953"
             ],
             [
              0.7777777777777778,
              "#fb9f3a"
             ],
             [
              0.8888888888888888,
              "#fdca26"
             ],
             [
              1,
              "#f0f921"
             ]
            ],
            "type": "histogram2dcontour"
           }
          ],
          "mesh3d": [
           {
            "colorbar": {
             "outlinewidth": 0,
             "ticks": ""
            },
            "type": "mesh3d"
           }
          ],
          "parcoords": [
           {
            "line": {
             "colorbar": {
              "outlinewidth": 0,
              "ticks": ""
             }
            },
            "type": "parcoords"
           }
          ],
          "pie": [
           {
            "automargin": true,
            "type": "pie"
           }
          ],
          "scatter": [
           {
            "fillpattern": {
             "fillmode": "overlay",
             "size": 10,
             "solidity": 0.2
            },
            "type": "scatter"
           }
          ],
          "scatter3d": [
           {
            "line": {
             "colorbar": {
              "outlinewidth": 0,
              "ticks": ""
             }
            },
            "marker": {
             "colorbar": {
              "outlinewidth": 0,
              "ticks": ""
             }
            },
            "type": "scatter3d"
           }
          ],
          "scattercarpet": [
           {
            "marker": {
             "colorbar": {
              "outlinewidth": 0,
              "ticks": ""
             }
            },
            "type": "scattercarpet"
           }
          ],
          "scattergeo": [
           {
            "marker": {
             "colorbar": {
              "outlinewidth": 0,
              "ticks": ""
             }
            },
            "type": "scattergeo"
           }
          ],
          "scattergl": [
           {
            "marker": {
             "colorbar": {
              "outlinewidth": 0,
              "ticks": ""
             }
            },
            "type": "scattergl"
           }
          ],
          "scattermapbox": [
           {
            "marker": {
             "colorbar": {
              "outlinewidth": 0,
              "ticks": ""
             }
            },
            "type": "scattermapbox"
           }
          ],
          "scatterpolar": [
           {
            "marker": {
             "colorbar": {
              "outlinewidth": 0,
              "ticks": ""
             }
            },
            "type": "scatterpolar"
           }
          ],
          "scatterpolargl": [
           {
            "marker": {
             "colorbar": {
              "outlinewidth": 0,
              "ticks": ""
             }
            },
            "type": "scatterpolargl"
           }
          ],
          "scatterternary": [
           {
            "marker": {
             "colorbar": {
              "outlinewidth": 0,
              "ticks": ""
             }
            },
            "type": "scatterternary"
           }
          ],
          "surface": [
           {
            "colorbar": {
             "outlinewidth": 0,
             "ticks": ""
            },
            "colorscale": [
             [
              0,
              "#0d0887"
             ],
             [
              0.1111111111111111,
              "#46039f"
             ],
             [
              0.2222222222222222,
              "#7201a8"
             ],
             [
              0.3333333333333333,
              "#9c179e"
             ],
             [
              0.4444444444444444,
              "#bd3786"
             ],
             [
              0.5555555555555556,
              "#d8576b"
             ],
             [
              0.6666666666666666,
              "#ed7953"
             ],
             [
              0.7777777777777778,
              "#fb9f3a"
             ],
             [
              0.8888888888888888,
              "#fdca26"
             ],
             [
              1,
              "#f0f921"
             ]
            ],
            "type": "surface"
           }
          ],
          "table": [
           {
            "cells": {
             "fill": {
              "color": "#EBF0F8"
             },
             "line": {
              "color": "white"
             }
            },
            "header": {
             "fill": {
              "color": "#C8D4E3"
             },
             "line": {
              "color": "white"
             }
            },
            "type": "table"
           }
          ]
         },
         "layout": {
          "annotationdefaults": {
           "arrowcolor": "#2a3f5f",
           "arrowhead": 0,
           "arrowwidth": 1
          },
          "autotypenumbers": "strict",
          "coloraxis": {
           "colorbar": {
            "outlinewidth": 0,
            "ticks": ""
           }
          },
          "colorscale": {
           "diverging": [
            [
             0,
             "#8e0152"
            ],
            [
             0.1,
             "#c51b7d"
            ],
            [
             0.2,
             "#de77ae"
            ],
            [
             0.3,
             "#f1b6da"
            ],
            [
             0.4,
             "#fde0ef"
            ],
            [
             0.5,
             "#f7f7f7"
            ],
            [
             0.6,
             "#e6f5d0"
            ],
            [
             0.7,
             "#b8e186"
            ],
            [
             0.8,
             "#7fbc41"
            ],
            [
             0.9,
             "#4d9221"
            ],
            [
             1,
             "#276419"
            ]
           ],
           "sequential": [
            [
             0,
             "#0d0887"
            ],
            [
             0.1111111111111111,
             "#46039f"
            ],
            [
             0.2222222222222222,
             "#7201a8"
            ],
            [
             0.3333333333333333,
             "#9c179e"
            ],
            [
             0.4444444444444444,
             "#bd3786"
            ],
            [
             0.5555555555555556,
             "#d8576b"
            ],
            [
             0.6666666666666666,
             "#ed7953"
            ],
            [
             0.7777777777777778,
             "#fb9f3a"
            ],
            [
             0.8888888888888888,
             "#fdca26"
            ],
            [
             1,
             "#f0f921"
            ]
           ],
           "sequentialminus": [
            [
             0,
             "#0d0887"
            ],
            [
             0.1111111111111111,
             "#46039f"
            ],
            [
             0.2222222222222222,
             "#7201a8"
            ],
            [
             0.3333333333333333,
             "#9c179e"
            ],
            [
             0.4444444444444444,
             "#bd3786"
            ],
            [
             0.5555555555555556,
             "#d8576b"
            ],
            [
             0.6666666666666666,
             "#ed7953"
            ],
            [
             0.7777777777777778,
             "#fb9f3a"
            ],
            [
             0.8888888888888888,
             "#fdca26"
            ],
            [
             1,
             "#f0f921"
            ]
           ]
          },
          "colorway": [
           "#636efa",
           "#EF553B",
           "#00cc96",
           "#ab63fa",
           "#FFA15A",
           "#19d3f3",
           "#FF6692",
           "#B6E880",
           "#FF97FF",
           "#FECB52"
          ],
          "font": {
           "color": "#2a3f5f"
          },
          "geo": {
           "bgcolor": "white",
           "lakecolor": "white",
           "landcolor": "#E5ECF6",
           "showlakes": true,
           "showland": true,
           "subunitcolor": "white"
          },
          "hoverlabel": {
           "align": "left"
          },
          "hovermode": "closest",
          "mapbox": {
           "style": "light"
          },
          "paper_bgcolor": "white",
          "plot_bgcolor": "#E5ECF6",
          "polar": {
           "angularaxis": {
            "gridcolor": "white",
            "linecolor": "white",
            "ticks": ""
           },
           "bgcolor": "#E5ECF6",
           "radialaxis": {
            "gridcolor": "white",
            "linecolor": "white",
            "ticks": ""
           }
          },
          "scene": {
           "xaxis": {
            "backgroundcolor": "#E5ECF6",
            "gridcolor": "white",
            "gridwidth": 2,
            "linecolor": "white",
            "showbackground": true,
            "ticks": "",
            "zerolinecolor": "white"
           },
           "yaxis": {
            "backgroundcolor": "#E5ECF6",
            "gridcolor": "white",
            "gridwidth": 2,
            "linecolor": "white",
            "showbackground": true,
            "ticks": "",
            "zerolinecolor": "white"
           },
           "zaxis": {
            "backgroundcolor": "#E5ECF6",
            "gridcolor": "white",
            "gridwidth": 2,
            "linecolor": "white",
            "showbackground": true,
            "ticks": "",
            "zerolinecolor": "white"
           }
          },
          "shapedefaults": {
           "line": {
            "color": "#2a3f5f"
           }
          },
          "ternary": {
           "aaxis": {
            "gridcolor": "white",
            "linecolor": "white",
            "ticks": ""
           },
           "baxis": {
            "gridcolor": "white",
            "linecolor": "white",
            "ticks": ""
           },
           "bgcolor": "#E5ECF6",
           "caxis": {
            "gridcolor": "white",
            "linecolor": "white",
            "ticks": ""
           }
          },
          "title": {
           "x": 0.05
          },
          "xaxis": {
           "automargin": true,
           "gridcolor": "white",
           "linecolor": "white",
           "ticks": "",
           "title": {
            "standoff": 15
           },
           "zerolinecolor": "white",
           "zerolinewidth": 2
          },
          "yaxis": {
           "automargin": true,
           "gridcolor": "white",
           "linecolor": "white",
           "ticks": "",
           "title": {
            "standoff": 15
           },
           "zerolinecolor": "white",
           "zerolinewidth": 2
          }
         }
        },
        "title": {
         "text": "Population Change of Armenian Cities (2001 vs 2020 Census)"
        },
        "xaxis": {
         "anchor": "y",
         "domain": [
          0,
          1
         ],
         "title": {
          "text": "City (Armenian name)"
         }
        },
        "yaxis": {
         "anchor": "x",
         "domain": [
          0,
          1
         ],
         "title": {
          "text": "Population"
         }
        }
       }
      },
      "text/html": [
       "<div>                            <div id=\"e8085772-58b1-4af9-a2be-a10050de1b93\" class=\"plotly-graph-div\" style=\"height:525px; width:100%;\"></div>            <script type=\"text/javascript\">                require([\"plotly\"], function(Plotly) {                    window.PLOTLYENV=window.PLOTLYENV || {};                                    if (document.getElementById(\"e8085772-58b1-4af9-a2be-a10050de1b93\")) {                    Plotly.newPlot(                        \"e8085772-58b1-4af9-a2be-a10050de1b93\",                        [{\"alignmentgroup\":\"True\",\"hovertemplate\":\"Census Year=Population (2020 estimate)<br>City (Armenian name)=%{x}<br>Population=%{y}<extra></extra>\",\"legendgroup\":\"Population (2020 estimate)\",\"marker\":{\"color\":\"#636efa\",\"pattern\":{\"shape\":\"\"}},\"name\":\"Population (2020 estimate)\",\"offsetgroup\":\"Population (2020 estimate)\",\"orientation\":\"v\",\"showlegend\":true,\"textposition\":\"auto\",\"x\":[\"Yerevan (\\u0535\\u0580\\u0565\\u0582\\u0561\\u0576)\",\"Gyumri (\\u0533\\u0575\\u0578\\u0582\\u0574\\u0580\\u056b)\",\"Vanadzor (\\u054e\\u0561\\u0576\\u0561\\u0571\\u0578\\u0580)\",\"Vagharshapat (\\u054e\\u0561\\u0572\\u0561\\u0580\\u0577\\u0561\\u057a\\u0561\\u057f)[a]\",\"Hrazdan (\\u0540\\u0580\\u0561\\u0566\\u0564\\u0561\\u0576)\",\"Kapan (\\u053f\\u0561\\u057a\\u0561\\u0576)\",\"Abovyan (\\u0531\\u0562\\u0578\\u057e\\u0575\\u0561\\u0576)\",\"Armavir (\\u0531\\u0580\\u0574\\u0561\\u057e\\u056b\\u0580)\",\"Gavar (\\u0533\\u0561\\u057e\\u0561\\u057c)\",\"Artashat (\\u0531\\u0580\\u057f\\u0561\\u0577\\u0561\\u057f)\"],\"xaxis\":\"x\",\"y\":[1084000,112400,77200,46200,40000,42300,44900,27800,18100,19300],\"yaxis\":\"y\",\"type\":\"bar\"},{\"alignmentgroup\":\"True\",\"hovertemplate\":\"Census Year=Population (2001 census)<br>City (Armenian name)=%{x}<br>Population=%{y}<extra></extra>\",\"legendgroup\":\"Population (2001 census)\",\"marker\":{\"color\":\"#EF553B\",\"pattern\":{\"shape\":\"\"}},\"name\":\"Population (2001 census)\",\"offsetgroup\":\"Population (2001 census)\",\"orientation\":\"v\",\"showlegend\":true,\"textposition\":\"auto\",\"x\":[\"Yerevan (\\u0535\\u0580\\u0565\\u0582\\u0561\\u0576)\",\"Gyumri (\\u0533\\u0575\\u0578\\u0582\\u0574\\u0580\\u056b)\",\"Vanadzor (\\u054e\\u0561\\u0576\\u0561\\u0571\\u0578\\u0580)\",\"Vagharshapat (\\u054e\\u0561\\u0572\\u0561\\u0580\\u0577\\u0561\\u057a\\u0561\\u057f)[a]\",\"Hrazdan (\\u0540\\u0580\\u0561\\u0566\\u0564\\u0561\\u0576)\",\"Kapan (\\u053f\\u0561\\u057a\\u0561\\u0576)\",\"Abovyan (\\u0531\\u0562\\u0578\\u057e\\u0575\\u0561\\u0576)\",\"Armavir (\\u0531\\u0580\\u0574\\u0561\\u057e\\u056b\\u0580)\",\"Gavar (\\u0533\\u0561\\u057e\\u0561\\u057c)\",\"Artashat (\\u0531\\u0580\\u057f\\u0561\\u0577\\u0561\\u057f)\"],\"xaxis\":\"x\",\"y\":[1103488,150917,107394,56388,52808,45711,44569,32034,26621,25066],\"yaxis\":\"y\",\"type\":\"bar\"}],                        {\"template\":{\"data\":{\"histogram2dcontour\":[{\"type\":\"histogram2dcontour\",\"colorbar\":{\"outlinewidth\":0,\"ticks\":\"\"},\"colorscale\":[[0.0,\"#0d0887\"],[0.1111111111111111,\"#46039f\"],[0.2222222222222222,\"#7201a8\"],[0.3333333333333333,\"#9c179e\"],[0.4444444444444444,\"#bd3786\"],[0.5555555555555556,\"#d8576b\"],[0.6666666666666666,\"#ed7953\"],[0.7777777777777778,\"#fb9f3a\"],[0.8888888888888888,\"#fdca26\"],[1.0,\"#f0f921\"]]}],\"choropleth\":[{\"type\":\"choropleth\",\"colorbar\":{\"outlinewidth\":0,\"ticks\":\"\"}}],\"histogram2d\":[{\"type\":\"histogram2d\",\"colorbar\":{\"outlinewidth\":0,\"ticks\":\"\"},\"colorscale\":[[0.0,\"#0d0887\"],[0.1111111111111111,\"#46039f\"],[0.2222222222222222,\"#7201a8\"],[0.3333333333333333,\"#9c179e\"],[0.4444444444444444,\"#bd3786\"],[0.5555555555555556,\"#d8576b\"],[0.6666666666666666,\"#ed7953\"],[0.7777777777777778,\"#fb9f3a\"],[0.8888888888888888,\"#fdca26\"],[1.0,\"#f0f921\"]]}],\"heatmap\":[{\"type\":\"heatmap\",\"colorbar\":{\"outlinewidth\":0,\"ticks\":\"\"},\"colorscale\":[[0.0,\"#0d0887\"],[0.1111111111111111,\"#46039f\"],[0.2222222222222222,\"#7201a8\"],[0.3333333333333333,\"#9c179e\"],[0.4444444444444444,\"#bd3786\"],[0.5555555555555556,\"#d8576b\"],[0.6666666666666666,\"#ed7953\"],[0.7777777777777778,\"#fb9f3a\"],[0.8888888888888888,\"#fdca26\"],[1.0,\"#f0f921\"]]}],\"heatmapgl\":[{\"type\":\"heatmapgl\",\"colorbar\":{\"outlinewidth\":0,\"ticks\":\"\"},\"colorscale\":[[0.0,\"#0d0887\"],[0.1111111111111111,\"#46039f\"],[0.2222222222222222,\"#7201a8\"],[0.3333333333333333,\"#9c179e\"],[0.4444444444444444,\"#bd3786\"],[0.5555555555555556,\"#d8576b\"],[0.6666666666666666,\"#ed7953\"],[0.7777777777777778,\"#fb9f3a\"],[0.8888888888888888,\"#fdca26\"],[1.0,\"#f0f921\"]]}],\"contourcarpet\":[{\"type\":\"contourcarpet\",\"colorbar\":{\"outlinewidth\":0,\"ticks\":\"\"}}],\"contour\":[{\"type\":\"contour\",\"colorbar\":{\"outlinewidth\":0,\"ticks\":\"\"},\"colorscale\":[[0.0,\"#0d0887\"],[0.1111111111111111,\"#46039f\"],[0.2222222222222222,\"#7201a8\"],[0.3333333333333333,\"#9c179e\"],[0.4444444444444444,\"#bd3786\"],[0.5555555555555556,\"#d8576b\"],[0.6666666666666666,\"#ed7953\"],[0.7777777777777778,\"#fb9f3a\"],[0.8888888888888888,\"#fdca26\"],[1.0,\"#f0f921\"]]}],\"surface\":[{\"type\":\"surface\",\"colorbar\":{\"outlinewidth\":0,\"ticks\":\"\"},\"colorscale\":[[0.0,\"#0d0887\"],[0.1111111111111111,\"#46039f\"],[0.2222222222222222,\"#7201a8\"],[0.3333333333333333,\"#9c179e\"],[0.4444444444444444,\"#bd3786\"],[0.5555555555555556,\"#d8576b\"],[0.6666666666666666,\"#ed7953\"],[0.7777777777777778,\"#fb9f3a\"],[0.8888888888888888,\"#fdca26\"],[1.0,\"#f0f921\"]]}],\"mesh3d\":[{\"type\":\"mesh3d\",\"colorbar\":{\"outlinewidth\":0,\"ticks\":\"\"}}],\"scatter\":[{\"fillpattern\":{\"fillmode\":\"overlay\",\"size\":10,\"solidity\":0.2},\"type\":\"scatter\"}],\"parcoords\":[{\"type\":\"parcoords\",\"line\":{\"colorbar\":{\"outlinewidth\":0,\"ticks\":\"\"}}}],\"scatterpolargl\":[{\"type\":\"scatterpolargl\",\"marker\":{\"colorbar\":{\"outlinewidth\":0,\"ticks\":\"\"}}}],\"bar\":[{\"error_x\":{\"color\":\"#2a3f5f\"},\"error_y\":{\"color\":\"#2a3f5f\"},\"marker\":{\"line\":{\"color\":\"#E5ECF6\",\"width\":0.5},\"pattern\":{\"fillmode\":\"overlay\",\"size\":10,\"solidity\":0.2}},\"type\":\"bar\"}],\"scattergeo\":[{\"type\":\"scattergeo\",\"marker\":{\"colorbar\":{\"outlinewidth\":0,\"ticks\":\"\"}}}],\"scatterpolar\":[{\"type\":\"scatterpolar\",\"marker\":{\"colorbar\":{\"outlinewidth\":0,\"ticks\":\"\"}}}],\"histogram\":[{\"marker\":{\"pattern\":{\"fillmode\":\"overlay\",\"size\":10,\"solidity\":0.2}},\"type\":\"histogram\"}],\"scattergl\":[{\"type\":\"scattergl\",\"marker\":{\"colorbar\":{\"outlinewidth\":0,\"ticks\":\"\"}}}],\"scatter3d\":[{\"type\":\"scatter3d\",\"line\":{\"colorbar\":{\"outlinewidth\":0,\"ticks\":\"\"}},\"marker\":{\"colorbar\":{\"outlinewidth\":0,\"ticks\":\"\"}}}],\"scattermapbox\":[{\"type\":\"scattermapbox\",\"marker\":{\"colorbar\":{\"outlinewidth\":0,\"ticks\":\"\"}}}],\"scatterternary\":[{\"type\":\"scatterternary\",\"marker\":{\"colorbar\":{\"outlinewidth\":0,\"ticks\":\"\"}}}],\"scattercarpet\":[{\"type\":\"scattercarpet\",\"marker\":{\"colorbar\":{\"outlinewidth\":0,\"ticks\":\"\"}}}],\"carpet\":[{\"aaxis\":{\"endlinecolor\":\"#2a3f5f\",\"gridcolor\":\"white\",\"linecolor\":\"white\",\"minorgridcolor\":\"white\",\"startlinecolor\":\"#2a3f5f\"},\"baxis\":{\"endlinecolor\":\"#2a3f5f\",\"gridcolor\":\"white\",\"linecolor\":\"white\",\"minorgridcolor\":\"white\",\"startlinecolor\":\"#2a3f5f\"},\"type\":\"carpet\"}],\"table\":[{\"cells\":{\"fill\":{\"color\":\"#EBF0F8\"},\"line\":{\"color\":\"white\"}},\"header\":{\"fill\":{\"color\":\"#C8D4E3\"},\"line\":{\"color\":\"white\"}},\"type\":\"table\"}],\"barpolar\":[{\"marker\":{\"line\":{\"color\":\"#E5ECF6\",\"width\":0.5},\"pattern\":{\"fillmode\":\"overlay\",\"size\":10,\"solidity\":0.2}},\"type\":\"barpolar\"}],\"pie\":[{\"automargin\":true,\"type\":\"pie\"}]},\"layout\":{\"autotypenumbers\":\"strict\",\"colorway\":[\"#636efa\",\"#EF553B\",\"#00cc96\",\"#ab63fa\",\"#FFA15A\",\"#19d3f3\",\"#FF6692\",\"#B6E880\",\"#FF97FF\",\"#FECB52\"],\"font\":{\"color\":\"#2a3f5f\"},\"hovermode\":\"closest\",\"hoverlabel\":{\"align\":\"left\"},\"paper_bgcolor\":\"white\",\"plot_bgcolor\":\"#E5ECF6\",\"polar\":{\"bgcolor\":\"#E5ECF6\",\"angularaxis\":{\"gridcolor\":\"white\",\"linecolor\":\"white\",\"ticks\":\"\"},\"radialaxis\":{\"gridcolor\":\"white\",\"linecolor\":\"white\",\"ticks\":\"\"}},\"ternary\":{\"bgcolor\":\"#E5ECF6\",\"aaxis\":{\"gridcolor\":\"white\",\"linecolor\":\"white\",\"ticks\":\"\"},\"baxis\":{\"gridcolor\":\"white\",\"linecolor\":\"white\",\"ticks\":\"\"},\"caxis\":{\"gridcolor\":\"white\",\"linecolor\":\"white\",\"ticks\":\"\"}},\"coloraxis\":{\"colorbar\":{\"outlinewidth\":0,\"ticks\":\"\"}},\"colorscale\":{\"sequential\":[[0.0,\"#0d0887\"],[0.1111111111111111,\"#46039f\"],[0.2222222222222222,\"#7201a8\"],[0.3333333333333333,\"#9c179e\"],[0.4444444444444444,\"#bd3786\"],[0.5555555555555556,\"#d8576b\"],[0.6666666666666666,\"#ed7953\"],[0.7777777777777778,\"#fb9f3a\"],[0.8888888888888888,\"#fdca26\"],[1.0,\"#f0f921\"]],\"sequentialminus\":[[0.0,\"#0d0887\"],[0.1111111111111111,\"#46039f\"],[0.2222222222222222,\"#7201a8\"],[0.3333333333333333,\"#9c179e\"],[0.4444444444444444,\"#bd3786\"],[0.5555555555555556,\"#d8576b\"],[0.6666666666666666,\"#ed7953\"],[0.7777777777777778,\"#fb9f3a\"],[0.8888888888888888,\"#fdca26\"],[1.0,\"#f0f921\"]],\"diverging\":[[0,\"#8e0152\"],[0.1,\"#c51b7d\"],[0.2,\"#de77ae\"],[0.3,\"#f1b6da\"],[0.4,\"#fde0ef\"],[0.5,\"#f7f7f7\"],[0.6,\"#e6f5d0\"],[0.7,\"#b8e186\"],[0.8,\"#7fbc41\"],[0.9,\"#4d9221\"],[1,\"#276419\"]]},\"xaxis\":{\"gridcolor\":\"white\",\"linecolor\":\"white\",\"ticks\":\"\",\"title\":{\"standoff\":15},\"zerolinecolor\":\"white\",\"automargin\":true,\"zerolinewidth\":2},\"yaxis\":{\"gridcolor\":\"white\",\"linecolor\":\"white\",\"ticks\":\"\",\"title\":{\"standoff\":15},\"zerolinecolor\":\"white\",\"automargin\":true,\"zerolinewidth\":2},\"scene\":{\"xaxis\":{\"backgroundcolor\":\"#E5ECF6\",\"gridcolor\":\"white\",\"linecolor\":\"white\",\"showbackground\":true,\"ticks\":\"\",\"zerolinecolor\":\"white\",\"gridwidth\":2},\"yaxis\":{\"backgroundcolor\":\"#E5ECF6\",\"gridcolor\":\"white\",\"linecolor\":\"white\",\"showbackground\":true,\"ticks\":\"\",\"zerolinecolor\":\"white\",\"gridwidth\":2},\"zaxis\":{\"backgroundcolor\":\"#E5ECF6\",\"gridcolor\":\"white\",\"linecolor\":\"white\",\"showbackground\":true,\"ticks\":\"\",\"zerolinecolor\":\"white\",\"gridwidth\":2}},\"shapedefaults\":{\"line\":{\"color\":\"#2a3f5f\"}},\"annotationdefaults\":{\"arrowcolor\":\"#2a3f5f\",\"arrowhead\":0,\"arrowwidth\":1},\"geo\":{\"bgcolor\":\"white\",\"landcolor\":\"#E5ECF6\",\"subunitcolor\":\"white\",\"showland\":true,\"showlakes\":true,\"lakecolor\":\"white\"},\"title\":{\"x\":0.05},\"mapbox\":{\"style\":\"light\"}}},\"xaxis\":{\"anchor\":\"y\",\"domain\":[0.0,1.0],\"title\":{\"text\":\"City (Armenian name)\"}},\"yaxis\":{\"anchor\":\"x\",\"domain\":[0.0,1.0],\"title\":{\"text\":\"Population\"}},\"legend\":{\"title\":{\"text\":\"Census Year\"},\"tracegroupgap\":0},\"title\":{\"text\":\"Population Change of Armenian Cities (2001 vs 2020 Census)\"},\"barmode\":\"group\"},                        {\"responsive\": true}                    ).then(function(){\n",
       "                            \n",
       "var gd = document.getElementById('e8085772-58b1-4af9-a2be-a10050de1b93');\n",
       "var x = new MutationObserver(function (mutations, observer) {{\n",
       "        var display = window.getComputedStyle(gd).display;\n",
       "        if (!display || display === 'none') {{\n",
       "            console.log([gd, 'removed!']);\n",
       "            Plotly.purge(gd);\n",
       "            observer.disconnect();\n",
       "        }}\n",
       "}});\n",
       "\n",
       "// Listen for the removal of the full notebook cells\n",
       "var notebookContainer = gd.closest('#notebook-container');\n",
       "if (notebookContainer) {{\n",
       "    x.observe(notebookContainer, {childList: true});\n",
       "}}\n",
       "\n",
       "// Listen for the clearing of the current output cell\n",
       "var outputEl = gd.closest('.output');\n",
       "if (outputEl) {{\n",
       "    x.observe(outputEl, {childList: true});\n",
       "}}\n",
       "\n",
       "                        })                };                });            </script>        </div>"
      ]
     },
     "metadata": {},
     "output_type": "display_data"
    }
   ],
   "source": [
    "fig = px.bar(most_populous_cities, x='City (Armenian name)', y=['Population (2020 estimate)', 'Population (2001 census)'],\n",
    "              title='Population Change of Armenian Cities (2001 vs 2020 Census)',\n",
    "              labels={'City (Armenian name)': 'City (Armenian name)', 'value': 'Population', 'variable': 'Census Year'},barmode=\"group\")\n",
    "\n",
    "fig.show()"
   ]
  },
  {
   "cell_type": "code",
   "execution_count": 65,
   "id": "9964307f",
   "metadata": {},
   "outputs": [],
   "source": [
    "province_population = Arm_Population.groupby('Province')['Population (2011 census)'].sum()\n",
    "province_population = province_population.sort_values(ascending=False).reset_index()"
   ]
  },
  {
   "cell_type": "code",
   "execution_count": 66,
   "id": "9a057e0d",
   "metadata": {},
   "outputs": [
    {
     "data": {
      "text/html": [
       "<div>\n",
       "<style scoped>\n",
       "    .dataframe tbody tr th:only-of-type {\n",
       "        vertical-align: middle;\n",
       "    }\n",
       "\n",
       "    .dataframe tbody tr th {\n",
       "        vertical-align: top;\n",
       "    }\n",
       "\n",
       "    .dataframe thead th {\n",
       "        text-align: right;\n",
       "    }\n",
       "</style>\n",
       "<table border=\"1\" class=\"dataframe\">\n",
       "  <thead>\n",
       "    <tr style=\"text-align: right;\">\n",
       "      <th></th>\n",
       "      <th>Province</th>\n",
       "      <th>Population (2011 census)</th>\n",
       "    </tr>\n",
       "  </thead>\n",
       "  <tbody>\n",
       "    <tr>\n",
       "      <th>0</th>\n",
       "      <td>—</td>\n",
       "      <td>1060138</td>\n",
       "    </tr>\n",
       "    <tr>\n",
       "      <th>1</th>\n",
       "      <td>Shirak</td>\n",
       "      <td>146908</td>\n",
       "    </tr>\n",
       "    <tr>\n",
       "      <th>2</th>\n",
       "      <td>Lori</td>\n",
       "      <td>137084</td>\n",
       "    </tr>\n",
       "    <tr>\n",
       "      <th>3</th>\n",
       "      <td>Kotayk</td>\n",
       "      <td>136225</td>\n",
       "    </tr>\n",
       "    <tr>\n",
       "      <th>4</th>\n",
       "      <td>Syunik</td>\n",
       "      <td>90418</td>\n",
       "    </tr>\n",
       "    <tr>\n",
       "      <th>5</th>\n",
       "      <td>Armavir</td>\n",
       "      <td>85050</td>\n",
       "    </tr>\n",
       "    <tr>\n",
       "      <th>6</th>\n",
       "      <td>Ararat</td>\n",
       "      <td>74103</td>\n",
       "    </tr>\n",
       "    <tr>\n",
       "      <th>7</th>\n",
       "      <td>Gegharkunik</td>\n",
       "      <td>71423</td>\n",
       "    </tr>\n",
       "    <tr>\n",
       "      <th>8</th>\n",
       "      <td>Tavush</td>\n",
       "      <td>54186</td>\n",
       "    </tr>\n",
       "    <tr>\n",
       "      <th>9</th>\n",
       "      <td>Aragatsotn</td>\n",
       "      <td>30595</td>\n",
       "    </tr>\n",
       "    <tr>\n",
       "      <th>10</th>\n",
       "      <td>Vayots Dzor</td>\n",
       "      <td>18449</td>\n",
       "    </tr>\n",
       "  </tbody>\n",
       "</table>\n",
       "</div>"
      ],
      "text/plain": [
       "       Province  Population (2011 census)\n",
       "0             —                   1060138\n",
       "1        Shirak                    146908\n",
       "2          Lori                    137084\n",
       "3        Kotayk                    136225\n",
       "4        Syunik                     90418\n",
       "5       Armavir                     85050\n",
       "6        Ararat                     74103\n",
       "7   Gegharkunik                     71423\n",
       "8        Tavush                     54186\n",
       "9    Aragatsotn                     30595\n",
       "10  Vayots Dzor                     18449"
      ]
     },
     "execution_count": 66,
     "metadata": {},
     "output_type": "execute_result"
    }
   ],
   "source": [
    "province_population"
   ]
  },
  {
   "cell_type": "code",
   "execution_count": 67,
   "id": "032b8c9a",
   "metadata": {},
   "outputs": [
    {
     "data": {
      "application/vnd.plotly.v1+json": {
       "config": {
        "plotlyServerURL": "https://plot.ly"
       },
       "data": [
        {
         "alignmentgroup": "True",
         "hovertemplate": "color=True<br>Province=%{x}<br>Population (2011 census)=%{y}<extra></extra>",
         "legendgroup": "True",
         "marker": {
          "color": "#636efa",
          "pattern": {
           "shape": ""
          }
         },
         "name": "True",
         "offsetgroup": "True",
         "orientation": "v",
         "showlegend": true,
         "textposition": "auto",
         "type": "bar",
         "x": [
          "—"
         ],
         "xaxis": "x",
         "y": [
          1060138
         ],
         "yaxis": "y"
        },
        {
         "alignmentgroup": "True",
         "hovertemplate": "color=False<br>Province=%{x}<br>Population (2011 census)=%{y}<extra></extra>",
         "legendgroup": "False",
         "marker": {
          "color": "#EF553B",
          "pattern": {
           "shape": ""
          }
         },
         "name": "False",
         "offsetgroup": "False",
         "orientation": "v",
         "showlegend": true,
         "textposition": "auto",
         "type": "bar",
         "x": [
          "Shirak",
          "Lori",
          "Kotayk",
          "Syunik",
          "Armavir",
          "Ararat",
          "Gegharkunik",
          "Tavush",
          "Aragatsotn",
          "Vayots Dzor"
         ],
         "xaxis": "x",
         "y": [
          146908,
          137084,
          136225,
          90418,
          85050,
          74103,
          71423,
          54186,
          30595,
          18449
         ],
         "yaxis": "y"
        }
       ],
       "layout": {
        "barmode": "relative",
        "legend": {
         "title": {
          "text": "color"
         },
         "tracegroupgap": 0
        },
        "margin": {
         "t": 60
        },
        "template": {
         "data": {
          "bar": [
           {
            "error_x": {
             "color": "#2a3f5f"
            },
            "error_y": {
             "color": "#2a3f5f"
            },
            "marker": {
             "line": {
              "color": "#E5ECF6",
              "width": 0.5
             },
             "pattern": {
              "fillmode": "overlay",
              "size": 10,
              "solidity": 0.2
             }
            },
            "type": "bar"
           }
          ],
          "barpolar": [
           {
            "marker": {
             "line": {
              "color": "#E5ECF6",
              "width": 0.5
             },
             "pattern": {
              "fillmode": "overlay",
              "size": 10,
              "solidity": 0.2
             }
            },
            "type": "barpolar"
           }
          ],
          "carpet": [
           {
            "aaxis": {
             "endlinecolor": "#2a3f5f",
             "gridcolor": "white",
             "linecolor": "white",
             "minorgridcolor": "white",
             "startlinecolor": "#2a3f5f"
            },
            "baxis": {
             "endlinecolor": "#2a3f5f",
             "gridcolor": "white",
             "linecolor": "white",
             "minorgridcolor": "white",
             "startlinecolor": "#2a3f5f"
            },
            "type": "carpet"
           }
          ],
          "choropleth": [
           {
            "colorbar": {
             "outlinewidth": 0,
             "ticks": ""
            },
            "type": "choropleth"
           }
          ],
          "contour": [
           {
            "colorbar": {
             "outlinewidth": 0,
             "ticks": ""
            },
            "colorscale": [
             [
              0,
              "#0d0887"
             ],
             [
              0.1111111111111111,
              "#46039f"
             ],
             [
              0.2222222222222222,
              "#7201a8"
             ],
             [
              0.3333333333333333,
              "#9c179e"
             ],
             [
              0.4444444444444444,
              "#bd3786"
             ],
             [
              0.5555555555555556,
              "#d8576b"
             ],
             [
              0.6666666666666666,
              "#ed7953"
             ],
             [
              0.7777777777777778,
              "#fb9f3a"
             ],
             [
              0.8888888888888888,
              "#fdca26"
             ],
             [
              1,
              "#f0f921"
             ]
            ],
            "type": "contour"
           }
          ],
          "contourcarpet": [
           {
            "colorbar": {
             "outlinewidth": 0,
             "ticks": ""
            },
            "type": "contourcarpet"
           }
          ],
          "heatmap": [
           {
            "colorbar": {
             "outlinewidth": 0,
             "ticks": ""
            },
            "colorscale": [
             [
              0,
              "#0d0887"
             ],
             [
              0.1111111111111111,
              "#46039f"
             ],
             [
              0.2222222222222222,
              "#7201a8"
             ],
             [
              0.3333333333333333,
              "#9c179e"
             ],
             [
              0.4444444444444444,
              "#bd3786"
             ],
             [
              0.5555555555555556,
              "#d8576b"
             ],
             [
              0.6666666666666666,
              "#ed7953"
             ],
             [
              0.7777777777777778,
              "#fb9f3a"
             ],
             [
              0.8888888888888888,
              "#fdca26"
             ],
             [
              1,
              "#f0f921"
             ]
            ],
            "type": "heatmap"
           }
          ],
          "heatmapgl": [
           {
            "colorbar": {
             "outlinewidth": 0,
             "ticks": ""
            },
            "colorscale": [
             [
              0,
              "#0d0887"
             ],
             [
              0.1111111111111111,
              "#46039f"
             ],
             [
              0.2222222222222222,
              "#7201a8"
             ],
             [
              0.3333333333333333,
              "#9c179e"
             ],
             [
              0.4444444444444444,
              "#bd3786"
             ],
             [
              0.5555555555555556,
              "#d8576b"
             ],
             [
              0.6666666666666666,
              "#ed7953"
             ],
             [
              0.7777777777777778,
              "#fb9f3a"
             ],
             [
              0.8888888888888888,
              "#fdca26"
             ],
             [
              1,
              "#f0f921"
             ]
            ],
            "type": "heatmapgl"
           }
          ],
          "histogram": [
           {
            "marker": {
             "pattern": {
              "fillmode": "overlay",
              "size": 10,
              "solidity": 0.2
             }
            },
            "type": "histogram"
           }
          ],
          "histogram2d": [
           {
            "colorbar": {
             "outlinewidth": 0,
             "ticks": ""
            },
            "colorscale": [
             [
              0,
              "#0d0887"
             ],
             [
              0.1111111111111111,
              "#46039f"
             ],
             [
              0.2222222222222222,
              "#7201a8"
             ],
             [
              0.3333333333333333,
              "#9c179e"
             ],
             [
              0.4444444444444444,
              "#bd3786"
             ],
             [
              0.5555555555555556,
              "#d8576b"
             ],
             [
              0.6666666666666666,
              "#ed7953"
             ],
             [
              0.7777777777777778,
              "#fb9f3a"
             ],
             [
              0.8888888888888888,
              "#fdca26"
             ],
             [
              1,
              "#f0f921"
             ]
            ],
            "type": "histogram2d"
           }
          ],
          "histogram2dcontour": [
           {
            "colorbar": {
             "outlinewidth": 0,
             "ticks": ""
            },
            "colorscale": [
             [
              0,
              "#0d0887"
             ],
             [
              0.1111111111111111,
              "#46039f"
             ],
             [
              0.2222222222222222,
              "#7201a8"
             ],
             [
              0.3333333333333333,
              "#9c179e"
             ],
             [
              0.4444444444444444,
              "#bd3786"
             ],
             [
              0.5555555555555556,
              "#d8576b"
             ],
             [
              0.6666666666666666,
              "#ed7953"
             ],
             [
              0.7777777777777778,
              "#fb9f3a"
             ],
             [
              0.8888888888888888,
              "#fdca26"
             ],
             [
              1,
              "#f0f921"
             ]
            ],
            "type": "histogram2dcontour"
           }
          ],
          "mesh3d": [
           {
            "colorbar": {
             "outlinewidth": 0,
             "ticks": ""
            },
            "type": "mesh3d"
           }
          ],
          "parcoords": [
           {
            "line": {
             "colorbar": {
              "outlinewidth": 0,
              "ticks": ""
             }
            },
            "type": "parcoords"
           }
          ],
          "pie": [
           {
            "automargin": true,
            "type": "pie"
           }
          ],
          "scatter": [
           {
            "fillpattern": {
             "fillmode": "overlay",
             "size": 10,
             "solidity": 0.2
            },
            "type": "scatter"
           }
          ],
          "scatter3d": [
           {
            "line": {
             "colorbar": {
              "outlinewidth": 0,
              "ticks": ""
             }
            },
            "marker": {
             "colorbar": {
              "outlinewidth": 0,
              "ticks": ""
             }
            },
            "type": "scatter3d"
           }
          ],
          "scattercarpet": [
           {
            "marker": {
             "colorbar": {
              "outlinewidth": 0,
              "ticks": ""
             }
            },
            "type": "scattercarpet"
           }
          ],
          "scattergeo": [
           {
            "marker": {
             "colorbar": {
              "outlinewidth": 0,
              "ticks": ""
             }
            },
            "type": "scattergeo"
           }
          ],
          "scattergl": [
           {
            "marker": {
             "colorbar": {
              "outlinewidth": 0,
              "ticks": ""
             }
            },
            "type": "scattergl"
           }
          ],
          "scattermapbox": [
           {
            "marker": {
             "colorbar": {
              "outlinewidth": 0,
              "ticks": ""
             }
            },
            "type": "scattermapbox"
           }
          ],
          "scatterpolar": [
           {
            "marker": {
             "colorbar": {
              "outlinewidth": 0,
              "ticks": ""
             }
            },
            "type": "scatterpolar"
           }
          ],
          "scatterpolargl": [
           {
            "marker": {
             "colorbar": {
              "outlinewidth": 0,
              "ticks": ""
             }
            },
            "type": "scatterpolargl"
           }
          ],
          "scatterternary": [
           {
            "marker": {
             "colorbar": {
              "outlinewidth": 0,
              "ticks": ""
             }
            },
            "type": "scatterternary"
           }
          ],
          "surface": [
           {
            "colorbar": {
             "outlinewidth": 0,
             "ticks": ""
            },
            "colorscale": [
             [
              0,
              "#0d0887"
             ],
             [
              0.1111111111111111,
              "#46039f"
             ],
             [
              0.2222222222222222,
              "#7201a8"
             ],
             [
              0.3333333333333333,
              "#9c179e"
             ],
             [
              0.4444444444444444,
              "#bd3786"
             ],
             [
              0.5555555555555556,
              "#d8576b"
             ],
             [
              0.6666666666666666,
              "#ed7953"
             ],
             [
              0.7777777777777778,
              "#fb9f3a"
             ],
             [
              0.8888888888888888,
              "#fdca26"
             ],
             [
              1,
              "#f0f921"
             ]
            ],
            "type": "surface"
           }
          ],
          "table": [
           {
            "cells": {
             "fill": {
              "color": "#EBF0F8"
             },
             "line": {
              "color": "white"
             }
            },
            "header": {
             "fill": {
              "color": "#C8D4E3"
             },
             "line": {
              "color": "white"
             }
            },
            "type": "table"
           }
          ]
         },
         "layout": {
          "annotationdefaults": {
           "arrowcolor": "#2a3f5f",
           "arrowhead": 0,
           "arrowwidth": 1
          },
          "autotypenumbers": "strict",
          "coloraxis": {
           "colorbar": {
            "outlinewidth": 0,
            "ticks": ""
           }
          },
          "colorscale": {
           "diverging": [
            [
             0,
             "#8e0152"
            ],
            [
             0.1,
             "#c51b7d"
            ],
            [
             0.2,
             "#de77ae"
            ],
            [
             0.3,
             "#f1b6da"
            ],
            [
             0.4,
             "#fde0ef"
            ],
            [
             0.5,
             "#f7f7f7"
            ],
            [
             0.6,
             "#e6f5d0"
            ],
            [
             0.7,
             "#b8e186"
            ],
            [
             0.8,
             "#7fbc41"
            ],
            [
             0.9,
             "#4d9221"
            ],
            [
             1,
             "#276419"
            ]
           ],
           "sequential": [
            [
             0,
             "#0d0887"
            ],
            [
             0.1111111111111111,
             "#46039f"
            ],
            [
             0.2222222222222222,
             "#7201a8"
            ],
            [
             0.3333333333333333,
             "#9c179e"
            ],
            [
             0.4444444444444444,
             "#bd3786"
            ],
            [
             0.5555555555555556,
             "#d8576b"
            ],
            [
             0.6666666666666666,
             "#ed7953"
            ],
            [
             0.7777777777777778,
             "#fb9f3a"
            ],
            [
             0.8888888888888888,
             "#fdca26"
            ],
            [
             1,
             "#f0f921"
            ]
           ],
           "sequentialminus": [
            [
             0,
             "#0d0887"
            ],
            [
             0.1111111111111111,
             "#46039f"
            ],
            [
             0.2222222222222222,
             "#7201a8"
            ],
            [
             0.3333333333333333,
             "#9c179e"
            ],
            [
             0.4444444444444444,
             "#bd3786"
            ],
            [
             0.5555555555555556,
             "#d8576b"
            ],
            [
             0.6666666666666666,
             "#ed7953"
            ],
            [
             0.7777777777777778,
             "#fb9f3a"
            ],
            [
             0.8888888888888888,
             "#fdca26"
            ],
            [
             1,
             "#f0f921"
            ]
           ]
          },
          "colorway": [
           "#636efa",
           "#EF553B",
           "#00cc96",
           "#ab63fa",
           "#FFA15A",
           "#19d3f3",
           "#FF6692",
           "#B6E880",
           "#FF97FF",
           "#FECB52"
          ],
          "font": {
           "color": "#2a3f5f"
          },
          "geo": {
           "bgcolor": "white",
           "lakecolor": "white",
           "landcolor": "#E5ECF6",
           "showlakes": true,
           "showland": true,
           "subunitcolor": "white"
          },
          "hoverlabel": {
           "align": "left"
          },
          "hovermode": "closest",
          "mapbox": {
           "style": "light"
          },
          "paper_bgcolor": "white",
          "plot_bgcolor": "#E5ECF6",
          "polar": {
           "angularaxis": {
            "gridcolor": "white",
            "linecolor": "white",
            "ticks": ""
           },
           "bgcolor": "#E5ECF6",
           "radialaxis": {
            "gridcolor": "white",
            "linecolor": "white",
            "ticks": ""
           }
          },
          "scene": {
           "xaxis": {
            "backgroundcolor": "#E5ECF6",
            "gridcolor": "white",
            "gridwidth": 2,
            "linecolor": "white",
            "showbackground": true,
            "ticks": "",
            "zerolinecolor": "white"
           },
           "yaxis": {
            "backgroundcolor": "#E5ECF6",
            "gridcolor": "white",
            "gridwidth": 2,
            "linecolor": "white",
            "showbackground": true,
            "ticks": "",
            "zerolinecolor": "white"
           },
           "zaxis": {
            "backgroundcolor": "#E5ECF6",
            "gridcolor": "white",
            "gridwidth": 2,
            "linecolor": "white",
            "showbackground": true,
            "ticks": "",
            "zerolinecolor": "white"
           }
          },
          "shapedefaults": {
           "line": {
            "color": "#2a3f5f"
           }
          },
          "ternary": {
           "aaxis": {
            "gridcolor": "white",
            "linecolor": "white",
            "ticks": ""
           },
           "baxis": {
            "gridcolor": "white",
            "linecolor": "white",
            "ticks": ""
           },
           "bgcolor": "#E5ECF6",
           "caxis": {
            "gridcolor": "white",
            "linecolor": "white",
            "ticks": ""
           }
          },
          "title": {
           "x": 0.05
          },
          "xaxis": {
           "automargin": true,
           "gridcolor": "white",
           "linecolor": "white",
           "ticks": "",
           "title": {
            "standoff": 15
           },
           "zerolinecolor": "white",
           "zerolinewidth": 2
          },
          "yaxis": {
           "automargin": true,
           "gridcolor": "white",
           "linecolor": "white",
           "ticks": "",
           "title": {
            "standoff": 15
           },
           "zerolinecolor": "white",
           "zerolinewidth": 2
          }
         }
        },
        "title": {
         "text": "Population of Province in Arm (2011 Census)"
        },
        "xaxis": {
         "anchor": "y",
         "domain": [
          0,
          1
         ],
         "title": {
          "text": "Province"
         }
        },
        "yaxis": {
         "anchor": "x",
         "domain": [
          0,
          1
         ],
         "title": {
          "text": "Population"
         }
        }
       }
      },
      "text/html": [
       "<div>                            <div id=\"28ed2515-0b4e-4bd3-82c0-2dd4a783bdb6\" class=\"plotly-graph-div\" style=\"height:525px; width:100%;\"></div>            <script type=\"text/javascript\">                require([\"plotly\"], function(Plotly) {                    window.PLOTLYENV=window.PLOTLYENV || {};                                    if (document.getElementById(\"28ed2515-0b4e-4bd3-82c0-2dd4a783bdb6\")) {                    Plotly.newPlot(                        \"28ed2515-0b4e-4bd3-82c0-2dd4a783bdb6\",                        [{\"alignmentgroup\":\"True\",\"hovertemplate\":\"color=True<br>Province=%{x}<br>Population (2011 census)=%{y}<extra></extra>\",\"legendgroup\":\"True\",\"marker\":{\"color\":\"#636efa\",\"pattern\":{\"shape\":\"\"}},\"name\":\"True\",\"offsetgroup\":\"True\",\"orientation\":\"v\",\"showlegend\":true,\"textposition\":\"auto\",\"x\":[\"\\u2014\"],\"xaxis\":\"x\",\"y\":[1060138],\"yaxis\":\"y\",\"type\":\"bar\"},{\"alignmentgroup\":\"True\",\"hovertemplate\":\"color=False<br>Province=%{x}<br>Population (2011 census)=%{y}<extra></extra>\",\"legendgroup\":\"False\",\"marker\":{\"color\":\"#EF553B\",\"pattern\":{\"shape\":\"\"}},\"name\":\"False\",\"offsetgroup\":\"False\",\"orientation\":\"v\",\"showlegend\":true,\"textposition\":\"auto\",\"x\":[\"Shirak\",\"Lori\",\"Kotayk\",\"Syunik\",\"Armavir\",\"Ararat\",\"Gegharkunik\",\"Tavush\",\"Aragatsotn\",\"Vayots Dzor\"],\"xaxis\":\"x\",\"y\":[146908,137084,136225,90418,85050,74103,71423,54186,30595,18449],\"yaxis\":\"y\",\"type\":\"bar\"}],                        {\"template\":{\"data\":{\"histogram2dcontour\":[{\"type\":\"histogram2dcontour\",\"colorbar\":{\"outlinewidth\":0,\"ticks\":\"\"},\"colorscale\":[[0.0,\"#0d0887\"],[0.1111111111111111,\"#46039f\"],[0.2222222222222222,\"#7201a8\"],[0.3333333333333333,\"#9c179e\"],[0.4444444444444444,\"#bd3786\"],[0.5555555555555556,\"#d8576b\"],[0.6666666666666666,\"#ed7953\"],[0.7777777777777778,\"#fb9f3a\"],[0.8888888888888888,\"#fdca26\"],[1.0,\"#f0f921\"]]}],\"choropleth\":[{\"type\":\"choropleth\",\"colorbar\":{\"outlinewidth\":0,\"ticks\":\"\"}}],\"histogram2d\":[{\"type\":\"histogram2d\",\"colorbar\":{\"outlinewidth\":0,\"ticks\":\"\"},\"colorscale\":[[0.0,\"#0d0887\"],[0.1111111111111111,\"#46039f\"],[0.2222222222222222,\"#7201a8\"],[0.3333333333333333,\"#9c179e\"],[0.4444444444444444,\"#bd3786\"],[0.5555555555555556,\"#d8576b\"],[0.6666666666666666,\"#ed7953\"],[0.7777777777777778,\"#fb9f3a\"],[0.8888888888888888,\"#fdca26\"],[1.0,\"#f0f921\"]]}],\"heatmap\":[{\"type\":\"heatmap\",\"colorbar\":{\"outlinewidth\":0,\"ticks\":\"\"},\"colorscale\":[[0.0,\"#0d0887\"],[0.1111111111111111,\"#46039f\"],[0.2222222222222222,\"#7201a8\"],[0.3333333333333333,\"#9c179e\"],[0.4444444444444444,\"#bd3786\"],[0.5555555555555556,\"#d8576b\"],[0.6666666666666666,\"#ed7953\"],[0.7777777777777778,\"#fb9f3a\"],[0.8888888888888888,\"#fdca26\"],[1.0,\"#f0f921\"]]}],\"heatmapgl\":[{\"type\":\"heatmapgl\",\"colorbar\":{\"outlinewidth\":0,\"ticks\":\"\"},\"colorscale\":[[0.0,\"#0d0887\"],[0.1111111111111111,\"#46039f\"],[0.2222222222222222,\"#7201a8\"],[0.3333333333333333,\"#9c179e\"],[0.4444444444444444,\"#bd3786\"],[0.5555555555555556,\"#d8576b\"],[0.6666666666666666,\"#ed7953\"],[0.7777777777777778,\"#fb9f3a\"],[0.8888888888888888,\"#fdca26\"],[1.0,\"#f0f921\"]]}],\"contourcarpet\":[{\"type\":\"contourcarpet\",\"colorbar\":{\"outlinewidth\":0,\"ticks\":\"\"}}],\"contour\":[{\"type\":\"contour\",\"colorbar\":{\"outlinewidth\":0,\"ticks\":\"\"},\"colorscale\":[[0.0,\"#0d0887\"],[0.1111111111111111,\"#46039f\"],[0.2222222222222222,\"#7201a8\"],[0.3333333333333333,\"#9c179e\"],[0.4444444444444444,\"#bd3786\"],[0.5555555555555556,\"#d8576b\"],[0.6666666666666666,\"#ed7953\"],[0.7777777777777778,\"#fb9f3a\"],[0.8888888888888888,\"#fdca26\"],[1.0,\"#f0f921\"]]}],\"surface\":[{\"type\":\"surface\",\"colorbar\":{\"outlinewidth\":0,\"ticks\":\"\"},\"colorscale\":[[0.0,\"#0d0887\"],[0.1111111111111111,\"#46039f\"],[0.2222222222222222,\"#7201a8\"],[0.3333333333333333,\"#9c179e\"],[0.4444444444444444,\"#bd3786\"],[0.5555555555555556,\"#d8576b\"],[0.6666666666666666,\"#ed7953\"],[0.7777777777777778,\"#fb9f3a\"],[0.8888888888888888,\"#fdca26\"],[1.0,\"#f0f921\"]]}],\"mesh3d\":[{\"type\":\"mesh3d\",\"colorbar\":{\"outlinewidth\":0,\"ticks\":\"\"}}],\"scatter\":[{\"fillpattern\":{\"fillmode\":\"overlay\",\"size\":10,\"solidity\":0.2},\"type\":\"scatter\"}],\"parcoords\":[{\"type\":\"parcoords\",\"line\":{\"colorbar\":{\"outlinewidth\":0,\"ticks\":\"\"}}}],\"scatterpolargl\":[{\"type\":\"scatterpolargl\",\"marker\":{\"colorbar\":{\"outlinewidth\":0,\"ticks\":\"\"}}}],\"bar\":[{\"error_x\":{\"color\":\"#2a3f5f\"},\"error_y\":{\"color\":\"#2a3f5f\"},\"marker\":{\"line\":{\"color\":\"#E5ECF6\",\"width\":0.5},\"pattern\":{\"fillmode\":\"overlay\",\"size\":10,\"solidity\":0.2}},\"type\":\"bar\"}],\"scattergeo\":[{\"type\":\"scattergeo\",\"marker\":{\"colorbar\":{\"outlinewidth\":0,\"ticks\":\"\"}}}],\"scatterpolar\":[{\"type\":\"scatterpolar\",\"marker\":{\"colorbar\":{\"outlinewidth\":0,\"ticks\":\"\"}}}],\"histogram\":[{\"marker\":{\"pattern\":{\"fillmode\":\"overlay\",\"size\":10,\"solidity\":0.2}},\"type\":\"histogram\"}],\"scattergl\":[{\"type\":\"scattergl\",\"marker\":{\"colorbar\":{\"outlinewidth\":0,\"ticks\":\"\"}}}],\"scatter3d\":[{\"type\":\"scatter3d\",\"line\":{\"colorbar\":{\"outlinewidth\":0,\"ticks\":\"\"}},\"marker\":{\"colorbar\":{\"outlinewidth\":0,\"ticks\":\"\"}}}],\"scattermapbox\":[{\"type\":\"scattermapbox\",\"marker\":{\"colorbar\":{\"outlinewidth\":0,\"ticks\":\"\"}}}],\"scatterternary\":[{\"type\":\"scatterternary\",\"marker\":{\"colorbar\":{\"outlinewidth\":0,\"ticks\":\"\"}}}],\"scattercarpet\":[{\"type\":\"scattercarpet\",\"marker\":{\"colorbar\":{\"outlinewidth\":0,\"ticks\":\"\"}}}],\"carpet\":[{\"aaxis\":{\"endlinecolor\":\"#2a3f5f\",\"gridcolor\":\"white\",\"linecolor\":\"white\",\"minorgridcolor\":\"white\",\"startlinecolor\":\"#2a3f5f\"},\"baxis\":{\"endlinecolor\":\"#2a3f5f\",\"gridcolor\":\"white\",\"linecolor\":\"white\",\"minorgridcolor\":\"white\",\"startlinecolor\":\"#2a3f5f\"},\"type\":\"carpet\"}],\"table\":[{\"cells\":{\"fill\":{\"color\":\"#EBF0F8\"},\"line\":{\"color\":\"white\"}},\"header\":{\"fill\":{\"color\":\"#C8D4E3\"},\"line\":{\"color\":\"white\"}},\"type\":\"table\"}],\"barpolar\":[{\"marker\":{\"line\":{\"color\":\"#E5ECF6\",\"width\":0.5},\"pattern\":{\"fillmode\":\"overlay\",\"size\":10,\"solidity\":0.2}},\"type\":\"barpolar\"}],\"pie\":[{\"automargin\":true,\"type\":\"pie\"}]},\"layout\":{\"autotypenumbers\":\"strict\",\"colorway\":[\"#636efa\",\"#EF553B\",\"#00cc96\",\"#ab63fa\",\"#FFA15A\",\"#19d3f3\",\"#FF6692\",\"#B6E880\",\"#FF97FF\",\"#FECB52\"],\"font\":{\"color\":\"#2a3f5f\"},\"hovermode\":\"closest\",\"hoverlabel\":{\"align\":\"left\"},\"paper_bgcolor\":\"white\",\"plot_bgcolor\":\"#E5ECF6\",\"polar\":{\"bgcolor\":\"#E5ECF6\",\"angularaxis\":{\"gridcolor\":\"white\",\"linecolor\":\"white\",\"ticks\":\"\"},\"radialaxis\":{\"gridcolor\":\"white\",\"linecolor\":\"white\",\"ticks\":\"\"}},\"ternary\":{\"bgcolor\":\"#E5ECF6\",\"aaxis\":{\"gridcolor\":\"white\",\"linecolor\":\"white\",\"ticks\":\"\"},\"baxis\":{\"gridcolor\":\"white\",\"linecolor\":\"white\",\"ticks\":\"\"},\"caxis\":{\"gridcolor\":\"white\",\"linecolor\":\"white\",\"ticks\":\"\"}},\"coloraxis\":{\"colorbar\":{\"outlinewidth\":0,\"ticks\":\"\"}},\"colorscale\":{\"sequential\":[[0.0,\"#0d0887\"],[0.1111111111111111,\"#46039f\"],[0.2222222222222222,\"#7201a8\"],[0.3333333333333333,\"#9c179e\"],[0.4444444444444444,\"#bd3786\"],[0.5555555555555556,\"#d8576b\"],[0.6666666666666666,\"#ed7953\"],[0.7777777777777778,\"#fb9f3a\"],[0.8888888888888888,\"#fdca26\"],[1.0,\"#f0f921\"]],\"sequentialminus\":[[0.0,\"#0d0887\"],[0.1111111111111111,\"#46039f\"],[0.2222222222222222,\"#7201a8\"],[0.3333333333333333,\"#9c179e\"],[0.4444444444444444,\"#bd3786\"],[0.5555555555555556,\"#d8576b\"],[0.6666666666666666,\"#ed7953\"],[0.7777777777777778,\"#fb9f3a\"],[0.8888888888888888,\"#fdca26\"],[1.0,\"#f0f921\"]],\"diverging\":[[0,\"#8e0152\"],[0.1,\"#c51b7d\"],[0.2,\"#de77ae\"],[0.3,\"#f1b6da\"],[0.4,\"#fde0ef\"],[0.5,\"#f7f7f7\"],[0.6,\"#e6f5d0\"],[0.7,\"#b8e186\"],[0.8,\"#7fbc41\"],[0.9,\"#4d9221\"],[1,\"#276419\"]]},\"xaxis\":{\"gridcolor\":\"white\",\"linecolor\":\"white\",\"ticks\":\"\",\"title\":{\"standoff\":15},\"zerolinecolor\":\"white\",\"automargin\":true,\"zerolinewidth\":2},\"yaxis\":{\"gridcolor\":\"white\",\"linecolor\":\"white\",\"ticks\":\"\",\"title\":{\"standoff\":15},\"zerolinecolor\":\"white\",\"automargin\":true,\"zerolinewidth\":2},\"scene\":{\"xaxis\":{\"backgroundcolor\":\"#E5ECF6\",\"gridcolor\":\"white\",\"linecolor\":\"white\",\"showbackground\":true,\"ticks\":\"\",\"zerolinecolor\":\"white\",\"gridwidth\":2},\"yaxis\":{\"backgroundcolor\":\"#E5ECF6\",\"gridcolor\":\"white\",\"linecolor\":\"white\",\"showbackground\":true,\"ticks\":\"\",\"zerolinecolor\":\"white\",\"gridwidth\":2},\"zaxis\":{\"backgroundcolor\":\"#E5ECF6\",\"gridcolor\":\"white\",\"linecolor\":\"white\",\"showbackground\":true,\"ticks\":\"\",\"zerolinecolor\":\"white\",\"gridwidth\":2}},\"shapedefaults\":{\"line\":{\"color\":\"#2a3f5f\"}},\"annotationdefaults\":{\"arrowcolor\":\"#2a3f5f\",\"arrowhead\":0,\"arrowwidth\":1},\"geo\":{\"bgcolor\":\"white\",\"landcolor\":\"#E5ECF6\",\"subunitcolor\":\"white\",\"showland\":true,\"showlakes\":true,\"lakecolor\":\"white\"},\"title\":{\"x\":0.05},\"mapbox\":{\"style\":\"light\"}}},\"xaxis\":{\"anchor\":\"y\",\"domain\":[0.0,1.0],\"title\":{\"text\":\"Province\"}},\"yaxis\":{\"anchor\":\"x\",\"domain\":[0.0,1.0],\"title\":{\"text\":\"Population\"}},\"legend\":{\"title\":{\"text\":\"color\"},\"tracegroupgap\":0},\"margin\":{\"t\":60},\"barmode\":\"relative\",\"title\":{\"text\":\"Population of Province in Arm (2011 Census)\"}},                        {\"responsive\": true}                    ).then(function(){\n",
       "                            \n",
       "var gd = document.getElementById('28ed2515-0b4e-4bd3-82c0-2dd4a783bdb6');\n",
       "var x = new MutationObserver(function (mutations, observer) {{\n",
       "        var display = window.getComputedStyle(gd).display;\n",
       "        if (!display || display === 'none') {{\n",
       "            console.log([gd, 'removed!']);\n",
       "            Plotly.purge(gd);\n",
       "            observer.disconnect();\n",
       "        }}\n",
       "}});\n",
       "\n",
       "// Listen for the removal of the full notebook cells\n",
       "var notebookContainer = gd.closest('#notebook-container');\n",
       "if (notebookContainer) {{\n",
       "    x.observe(notebookContainer, {childList: true});\n",
       "}}\n",
       "\n",
       "// Listen for the clearing of the current output cell\n",
       "var outputEl = gd.closest('.output');\n",
       "if (outputEl) {{\n",
       "    x.observe(outputEl, {childList: true});\n",
       "}}\n",
       "\n",
       "                        })                };                });            </script>        </div>"
      ]
     },
     "metadata": {},
     "output_type": "display_data"
    }
   ],
   "source": [
    "fig = px.bar(province_population,x='Province', y='Population (2011 census)',  color=province_population.index == 0)\n",
    "\n",
    "# Update layout\n",
    "fig.update_layout(title='Population of Province in Arm (2011 Census)',\n",
    "                  xaxis_title='Province',\n",
    "                  yaxis_title='Population')\n",
    "\n",
    "# Show the chart\n",
    "fig.show()"
   ]
  },
  {
   "cell_type": "code",
   "execution_count": 68,
   "id": "144ebedf",
   "metadata": {},
   "outputs": [
    {
     "data": {
      "application/vnd.plotly.v1+json": {
       "config": {
        "plotlyServerURL": "https://plot.ly"
       },
       "data": [
        {
         "alignmentgroup": "True",
         "hovertemplate": "City (Armenian name)=%{x}<br>Percentage Change=%{marker.color}<extra></extra>",
         "legendgroup": "",
         "marker": {
          "color": [
           3.65,
           3.23,
           2.25,
           1.95,
           1.9,
           0.82,
           0.18,
           0.04,
           null,
           null,
           null,
           null,
           null,
           null,
           null,
           null,
           null,
           null,
           null,
           null,
           null,
           null,
           null,
           null,
           null,
           null,
           null,
           null,
           null,
           null,
           null,
           null,
           null,
           null,
           null,
           null,
           null,
           null,
           null,
           null,
           null,
           null,
           null,
           null,
           null,
           3.65,
           3.23,
           2.25,
           1.95,
           1.9,
           0.82,
           0.18,
           0.04,
           null,
           null,
           null,
           null,
           null,
           null,
           null,
           null,
           null,
           null,
           null,
           null,
           null,
           null,
           null,
           null,
           null,
           null,
           null,
           null,
           null,
           null,
           null,
           null,
           null,
           null,
           null,
           null,
           null,
           null,
           null,
           null,
           null,
           null,
           null,
           null,
           null
          ],
          "coloraxis": "coloraxis",
          "pattern": {
           "shape": ""
          }
         },
         "name": "",
         "offsetgroup": "",
         "orientation": "v",
         "showlegend": false,
         "textposition": "auto",
         "type": "bar",
         "x": [
          "Vedi (Վեդի)",
          "Abovyan (Աբովյան)",
          "Yerevan (Երեւան)",
          "Yeghvard (Եղվարդ)",
          "Masis (Մասիս)",
          "Ararat (Արարատ)",
          "Charentsavan (Չարենցավան)",
          "Maralik (Մարալիկ)",
          "Gyumri (Գյումրի)",
          "Vanadzor (Վանաձոր)",
          "Vagharshapat (Վաղարշապատ)[a]",
          "Kapan (Կապան)",
          "Hrazdan (Հրազդան)",
          "Armavir (Արմավիր)",
          "Artashat (Արտաշատ)",
          "Ijevan (Իջևան)",
          "Gavar (Գավառ)",
          "Goris (Գորիս)",
          "Artik (Արթիկ)",
          "Sevan (Սևան)",
          "Ashtarak (Աշտարակ)",
          "Dilijan (Դիլիջան)",
          "Sisian (Սիսիան)",
          "Alaverdi (Ալավերդի)",
          "Stepanavan (Ստեփանավան)",
          "Martuni (Մարտունի)",
          "Spitak (Սպիտակ)",
          "Vardenis (Վարդենիս)",
          "Byureghavan (Բյուրեղավան)",
          "Nor Hachn (Նոր Հաճն)",
          "Metsamor (Մեծամոր)",
          "Berd (Բերդ)",
          "Yeghegnadzor (Եղեգնաձոր)",
          "Tashir (Տաշիր)",
          "Kajaran (Քաջարան)",
          "Aparan (Ապարան)",
          "Vayk (Վայք)",
          "Chambarak (Ճամբարակ)",
          "Noyemberyan (Նոյեմբերյան)",
          "Talin (Թալին)",
          "Jermuk (Ջերմուկ)",
          "Meghri (Մեղրի)",
          "Ayrum (Այրում)",
          "Akhtala (Ախթալա)",
          "Tumanyan (Թումանյան)",
          "Vedi (Վեդի)",
          "Abovyan (Աբովյան)",
          "Yerevan (Երեւան)",
          "Yeghvard (Եղվարդ)",
          "Masis (Մասիս)",
          "Ararat (Արարատ)",
          "Charentsavan (Չարենցավան)",
          "Maralik (Մարալիկ)",
          "Gyumri (Գյումրի)",
          "Vanadzor (Վանաձոր)",
          "Vagharshapat (Վաղարշապատ)[a]",
          "Kapan (Կապան)",
          "Hrazdan (Հրազդան)",
          "Armavir (Արմավիր)",
          "Artashat (Արտաշատ)",
          "Ijevan (Իջևան)",
          "Gavar (Գավառ)",
          "Goris (Գորիս)",
          "Artik (Արթիկ)",
          "Sevan (Սևան)",
          "Ashtarak (Աշտարակ)",
          "Dilijan (Դիլիջան)",
          "Sisian (Սիսիան)",
          "Alaverdi (Ալավերդի)",
          "Stepanavan (Ստեփանավան)",
          "Martuni (Մարտունի)",
          "Spitak (Սպիտակ)",
          "Vardenis (Վարդենիս)",
          "Byureghavan (Բյուրեղավան)",
          "Nor Hachn (Նոր Հաճն)",
          "Metsamor (Մեծամոր)",
          "Berd (Բերդ)",
          "Yeghegnadzor (Եղեգնաձոր)",
          "Tashir (Տաշիր)",
          "Kajaran (Քաջարան)",
          "Aparan (Ապարան)",
          "Vayk (Վայք)",
          "Chambarak (Ճամբարակ)",
          "Noyemberyan (Նոյեմբերյան)",
          "Talin (Թալին)",
          "Jermuk (Ջերմուկ)",
          "Meghri (Մեղրի)",
          "Ayrum (Այրում)",
          "Akhtala (Ախթալա)",
          "Tumanyan (Թումանյան)"
         ],
         "xaxis": "x",
         "y": [
          3.65,
          3.23,
          2.25,
          1.95,
          1.9,
          0.82,
          0.18,
          0.04,
          null,
          null,
          null,
          null,
          null,
          null,
          null,
          null,
          null,
          null,
          null,
          null,
          null,
          null,
          null,
          null,
          null,
          null,
          null,
          null,
          null,
          null,
          null,
          null,
          null,
          null,
          null,
          null,
          null,
          null,
          null,
          null,
          null,
          null,
          null,
          null,
          null,
          3.65,
          3.23,
          2.25,
          1.95,
          1.9,
          0.82,
          0.18,
          0.04,
          null,
          null,
          null,
          null,
          null,
          null,
          null,
          null,
          null,
          null,
          null,
          null,
          null,
          null,
          null,
          null,
          null,
          null,
          null,
          null,
          null,
          null,
          null,
          null,
          null,
          null,
          null,
          null,
          null,
          null,
          null,
          null,
          null,
          null,
          null,
          null,
          null
         ],
         "yaxis": "y"
        }
       ],
       "layout": {
        "barmode": "relative",
        "coloraxis": {
         "colorbar": {
          "title": {
           "text": "Percentage Change"
          }
         },
         "colorscale": [
          [
           0,
           "skyblue"
          ],
          [
           1,
           "darkblue"
          ]
         ]
        },
        "legend": {
         "tracegroupgap": 0
        },
        "template": {
         "data": {
          "bar": [
           {
            "error_x": {
             "color": "#2a3f5f"
            },
            "error_y": {
             "color": "#2a3f5f"
            },
            "marker": {
             "line": {
              "color": "#E5ECF6",
              "width": 0.5
             },
             "pattern": {
              "fillmode": "overlay",
              "size": 10,
              "solidity": 0.2
             }
            },
            "type": "bar"
           }
          ],
          "barpolar": [
           {
            "marker": {
             "line": {
              "color": "#E5ECF6",
              "width": 0.5
             },
             "pattern": {
              "fillmode": "overlay",
              "size": 10,
              "solidity": 0.2
             }
            },
            "type": "barpolar"
           }
          ],
          "carpet": [
           {
            "aaxis": {
             "endlinecolor": "#2a3f5f",
             "gridcolor": "white",
             "linecolor": "white",
             "minorgridcolor": "white",
             "startlinecolor": "#2a3f5f"
            },
            "baxis": {
             "endlinecolor": "#2a3f5f",
             "gridcolor": "white",
             "linecolor": "white",
             "minorgridcolor": "white",
             "startlinecolor": "#2a3f5f"
            },
            "type": "carpet"
           }
          ],
          "choropleth": [
           {
            "colorbar": {
             "outlinewidth": 0,
             "ticks": ""
            },
            "type": "choropleth"
           }
          ],
          "contour": [
           {
            "colorbar": {
             "outlinewidth": 0,
             "ticks": ""
            },
            "colorscale": [
             [
              0,
              "#0d0887"
             ],
             [
              0.1111111111111111,
              "#46039f"
             ],
             [
              0.2222222222222222,
              "#7201a8"
             ],
             [
              0.3333333333333333,
              "#9c179e"
             ],
             [
              0.4444444444444444,
              "#bd3786"
             ],
             [
              0.5555555555555556,
              "#d8576b"
             ],
             [
              0.6666666666666666,
              "#ed7953"
             ],
             [
              0.7777777777777778,
              "#fb9f3a"
             ],
             [
              0.8888888888888888,
              "#fdca26"
             ],
             [
              1,
              "#f0f921"
             ]
            ],
            "type": "contour"
           }
          ],
          "contourcarpet": [
           {
            "colorbar": {
             "outlinewidth": 0,
             "ticks": ""
            },
            "type": "contourcarpet"
           }
          ],
          "heatmap": [
           {
            "colorbar": {
             "outlinewidth": 0,
             "ticks": ""
            },
            "colorscale": [
             [
              0,
              "#0d0887"
             ],
             [
              0.1111111111111111,
              "#46039f"
             ],
             [
              0.2222222222222222,
              "#7201a8"
             ],
             [
              0.3333333333333333,
              "#9c179e"
             ],
             [
              0.4444444444444444,
              "#bd3786"
             ],
             [
              0.5555555555555556,
              "#d8576b"
             ],
             [
              0.6666666666666666,
              "#ed7953"
             ],
             [
              0.7777777777777778,
              "#fb9f3a"
             ],
             [
              0.8888888888888888,
              "#fdca26"
             ],
             [
              1,
              "#f0f921"
             ]
            ],
            "type": "heatmap"
           }
          ],
          "heatmapgl": [
           {
            "colorbar": {
             "outlinewidth": 0,
             "ticks": ""
            },
            "colorscale": [
             [
              0,
              "#0d0887"
             ],
             [
              0.1111111111111111,
              "#46039f"
             ],
             [
              0.2222222222222222,
              "#7201a8"
             ],
             [
              0.3333333333333333,
              "#9c179e"
             ],
             [
              0.4444444444444444,
              "#bd3786"
             ],
             [
              0.5555555555555556,
              "#d8576b"
             ],
             [
              0.6666666666666666,
              "#ed7953"
             ],
             [
              0.7777777777777778,
              "#fb9f3a"
             ],
             [
              0.8888888888888888,
              "#fdca26"
             ],
             [
              1,
              "#f0f921"
             ]
            ],
            "type": "heatmapgl"
           }
          ],
          "histogram": [
           {
            "marker": {
             "pattern": {
              "fillmode": "overlay",
              "size": 10,
              "solidity": 0.2
             }
            },
            "type": "histogram"
           }
          ],
          "histogram2d": [
           {
            "colorbar": {
             "outlinewidth": 0,
             "ticks": ""
            },
            "colorscale": [
             [
              0,
              "#0d0887"
             ],
             [
              0.1111111111111111,
              "#46039f"
             ],
             [
              0.2222222222222222,
              "#7201a8"
             ],
             [
              0.3333333333333333,
              "#9c179e"
             ],
             [
              0.4444444444444444,
              "#bd3786"
             ],
             [
              0.5555555555555556,
              "#d8576b"
             ],
             [
              0.6666666666666666,
              "#ed7953"
             ],
             [
              0.7777777777777778,
              "#fb9f3a"
             ],
             [
              0.8888888888888888,
              "#fdca26"
             ],
             [
              1,
              "#f0f921"
             ]
            ],
            "type": "histogram2d"
           }
          ],
          "histogram2dcontour": [
           {
            "colorbar": {
             "outlinewidth": 0,
             "ticks": ""
            },
            "colorscale": [
             [
              0,
              "#0d0887"
             ],
             [
              0.1111111111111111,
              "#46039f"
             ],
             [
              0.2222222222222222,
              "#7201a8"
             ],
             [
              0.3333333333333333,
              "#9c179e"
             ],
             [
              0.4444444444444444,
              "#bd3786"
             ],
             [
              0.5555555555555556,
              "#d8576b"
             ],
             [
              0.6666666666666666,
              "#ed7953"
             ],
             [
              0.7777777777777778,
              "#fb9f3a"
             ],
             [
              0.8888888888888888,
              "#fdca26"
             ],
             [
              1,
              "#f0f921"
             ]
            ],
            "type": "histogram2dcontour"
           }
          ],
          "mesh3d": [
           {
            "colorbar": {
             "outlinewidth": 0,
             "ticks": ""
            },
            "type": "mesh3d"
           }
          ],
          "parcoords": [
           {
            "line": {
             "colorbar": {
              "outlinewidth": 0,
              "ticks": ""
             }
            },
            "type": "parcoords"
           }
          ],
          "pie": [
           {
            "automargin": true,
            "type": "pie"
           }
          ],
          "scatter": [
           {
            "fillpattern": {
             "fillmode": "overlay",
             "size": 10,
             "solidity": 0.2
            },
            "type": "scatter"
           }
          ],
          "scatter3d": [
           {
            "line": {
             "colorbar": {
              "outlinewidth": 0,
              "ticks": ""
             }
            },
            "marker": {
             "colorbar": {
              "outlinewidth": 0,
              "ticks": ""
             }
            },
            "type": "scatter3d"
           }
          ],
          "scattercarpet": [
           {
            "marker": {
             "colorbar": {
              "outlinewidth": 0,
              "ticks": ""
             }
            },
            "type": "scattercarpet"
           }
          ],
          "scattergeo": [
           {
            "marker": {
             "colorbar": {
              "outlinewidth": 0,
              "ticks": ""
             }
            },
            "type": "scattergeo"
           }
          ],
          "scattergl": [
           {
            "marker": {
             "colorbar": {
              "outlinewidth": 0,
              "ticks": ""
             }
            },
            "type": "scattergl"
           }
          ],
          "scattermapbox": [
           {
            "marker": {
             "colorbar": {
              "outlinewidth": 0,
              "ticks": ""
             }
            },
            "type": "scattermapbox"
           }
          ],
          "scatterpolar": [
           {
            "marker": {
             "colorbar": {
              "outlinewidth": 0,
              "ticks": ""
             }
            },
            "type": "scatterpolar"
           }
          ],
          "scatterpolargl": [
           {
            "marker": {
             "colorbar": {
              "outlinewidth": 0,
              "ticks": ""
             }
            },
            "type": "scatterpolargl"
           }
          ],
          "scatterternary": [
           {
            "marker": {
             "colorbar": {
              "outlinewidth": 0,
              "ticks": ""
             }
            },
            "type": "scatterternary"
           }
          ],
          "surface": [
           {
            "colorbar": {
             "outlinewidth": 0,
             "ticks": ""
            },
            "colorscale": [
             [
              0,
              "#0d0887"
             ],
             [
              0.1111111111111111,
              "#46039f"
             ],
             [
              0.2222222222222222,
              "#7201a8"
             ],
             [
              0.3333333333333333,
              "#9c179e"
             ],
             [
              0.4444444444444444,
              "#bd3786"
             ],
             [
              0.5555555555555556,
              "#d8576b"
             ],
             [
              0.6666666666666666,
              "#ed7953"
             ],
             [
              0.7777777777777778,
              "#fb9f3a"
             ],
             [
              0.8888888888888888,
              "#fdca26"
             ],
             [
              1,
              "#f0f921"
             ]
            ],
            "type": "surface"
           }
          ],
          "table": [
           {
            "cells": {
             "fill": {
              "color": "#EBF0F8"
             },
             "line": {
              "color": "white"
             }
            },
            "header": {
             "fill": {
              "color": "#C8D4E3"
             },
             "line": {
              "color": "white"
             }
            },
            "type": "table"
           }
          ]
         },
         "layout": {
          "annotationdefaults": {
           "arrowcolor": "#2a3f5f",
           "arrowhead": 0,
           "arrowwidth": 1
          },
          "autotypenumbers": "strict",
          "coloraxis": {
           "colorbar": {
            "outlinewidth": 0,
            "ticks": ""
           }
          },
          "colorscale": {
           "diverging": [
            [
             0,
             "#8e0152"
            ],
            [
             0.1,
             "#c51b7d"
            ],
            [
             0.2,
             "#de77ae"
            ],
            [
             0.3,
             "#f1b6da"
            ],
            [
             0.4,
             "#fde0ef"
            ],
            [
             0.5,
             "#f7f7f7"
            ],
            [
             0.6,
             "#e6f5d0"
            ],
            [
             0.7,
             "#b8e186"
            ],
            [
             0.8,
             "#7fbc41"
            ],
            [
             0.9,
             "#4d9221"
            ],
            [
             1,
             "#276419"
            ]
           ],
           "sequential": [
            [
             0,
             "#0d0887"
            ],
            [
             0.1111111111111111,
             "#46039f"
            ],
            [
             0.2222222222222222,
             "#7201a8"
            ],
            [
             0.3333333333333333,
             "#9c179e"
            ],
            [
             0.4444444444444444,
             "#bd3786"
            ],
            [
             0.5555555555555556,
             "#d8576b"
            ],
            [
             0.6666666666666666,
             "#ed7953"
            ],
            [
             0.7777777777777778,
             "#fb9f3a"
            ],
            [
             0.8888888888888888,
             "#fdca26"
            ],
            [
             1,
             "#f0f921"
            ]
           ],
           "sequentialminus": [
            [
             0,
             "#0d0887"
            ],
            [
             0.1111111111111111,
             "#46039f"
            ],
            [
             0.2222222222222222,
             "#7201a8"
            ],
            [
             0.3333333333333333,
             "#9c179e"
            ],
            [
             0.4444444444444444,
             "#bd3786"
            ],
            [
             0.5555555555555556,
             "#d8576b"
            ],
            [
             0.6666666666666666,
             "#ed7953"
            ],
            [
             0.7777777777777778,
             "#fb9f3a"
            ],
            [
             0.8888888888888888,
             "#fdca26"
            ],
            [
             1,
             "#f0f921"
            ]
           ]
          },
          "colorway": [
           "#636efa",
           "#EF553B",
           "#00cc96",
           "#ab63fa",
           "#FFA15A",
           "#19d3f3",
           "#FF6692",
           "#B6E880",
           "#FF97FF",
           "#FECB52"
          ],
          "font": {
           "color": "#2a3f5f"
          },
          "geo": {
           "bgcolor": "white",
           "lakecolor": "white",
           "landcolor": "#E5ECF6",
           "showlakes": true,
           "showland": true,
           "subunitcolor": "white"
          },
          "hoverlabel": {
           "align": "left"
          },
          "hovermode": "closest",
          "mapbox": {
           "style": "light"
          },
          "paper_bgcolor": "white",
          "plot_bgcolor": "#E5ECF6",
          "polar": {
           "angularaxis": {
            "gridcolor": "white",
            "linecolor": "white",
            "ticks": ""
           },
           "bgcolor": "#E5ECF6",
           "radialaxis": {
            "gridcolor": "white",
            "linecolor": "white",
            "ticks": ""
           }
          },
          "scene": {
           "xaxis": {
            "backgroundcolor": "#E5ECF6",
            "gridcolor": "white",
            "gridwidth": 2,
            "linecolor": "white",
            "showbackground": true,
            "ticks": "",
            "zerolinecolor": "white"
           },
           "yaxis": {
            "backgroundcolor": "#E5ECF6",
            "gridcolor": "white",
            "gridwidth": 2,
            "linecolor": "white",
            "showbackground": true,
            "ticks": "",
            "zerolinecolor": "white"
           },
           "zaxis": {
            "backgroundcolor": "#E5ECF6",
            "gridcolor": "white",
            "gridwidth": 2,
            "linecolor": "white",
            "showbackground": true,
            "ticks": "",
            "zerolinecolor": "white"
           }
          },
          "shapedefaults": {
           "line": {
            "color": "#2a3f5f"
           }
          },
          "ternary": {
           "aaxis": {
            "gridcolor": "white",
            "linecolor": "white",
            "ticks": ""
           },
           "baxis": {
            "gridcolor": "white",
            "linecolor": "white",
            "ticks": ""
           },
           "bgcolor": "#E5ECF6",
           "caxis": {
            "gridcolor": "white",
            "linecolor": "white",
            "ticks": ""
           }
          },
          "title": {
           "x": 0.05
          },
          "xaxis": {
           "automargin": true,
           "gridcolor": "white",
           "linecolor": "white",
           "ticks": "",
           "title": {
            "standoff": 15
           },
           "zerolinecolor": "white",
           "zerolinewidth": 2
          },
          "yaxis": {
           "automargin": true,
           "gridcolor": "white",
           "linecolor": "white",
           "ticks": "",
           "title": {
            "standoff": 15
           },
           "zerolinecolor": "white",
           "zerolinewidth": 2
          }
         }
        },
        "title": {
         "text": "Population Growth Rates of Cities in Armenia"
        },
        "xaxis": {
         "anchor": "y",
         "domain": [
          0,
          1
         ],
         "tickangle": 45,
         "title": {
          "text": "City (Armenian name)"
         }
        },
        "yaxis": {
         "anchor": "x",
         "domain": [
          0,
          1
         ],
         "title": {
          "text": "Percentage Change"
         }
        }
       }
      },
      "text/html": [
       "<div>                            <div id=\"7b16c7b5-fd4d-4ac5-9531-7c64d8ac5b33\" class=\"plotly-graph-div\" style=\"height:525px; width:100%;\"></div>            <script type=\"text/javascript\">                require([\"plotly\"], function(Plotly) {                    window.PLOTLYENV=window.PLOTLYENV || {};                                    if (document.getElementById(\"7b16c7b5-fd4d-4ac5-9531-7c64d8ac5b33\")) {                    Plotly.newPlot(                        \"7b16c7b5-fd4d-4ac5-9531-7c64d8ac5b33\",                        [{\"alignmentgroup\":\"True\",\"hovertemplate\":\"City (Armenian name)=%{x}<br>Percentage Change=%{marker.color}<extra></extra>\",\"legendgroup\":\"\",\"marker\":{\"color\":[3.65,3.23,2.25,1.95,1.9,0.82,0.18,0.04,null,null,null,null,null,null,null,null,null,null,null,null,null,null,null,null,null,null,null,null,null,null,null,null,null,null,null,null,null,null,null,null,null,null,null,null,null,3.65,3.23,2.25,1.95,1.9,0.82,0.18,0.04,null,null,null,null,null,null,null,null,null,null,null,null,null,null,null,null,null,null,null,null,null,null,null,null,null,null,null,null,null,null,null,null,null,null,null,null,null],\"coloraxis\":\"coloraxis\",\"pattern\":{\"shape\":\"\"}},\"name\":\"\",\"offsetgroup\":\"\",\"orientation\":\"v\",\"showlegend\":false,\"textposition\":\"auto\",\"x\":[\"Vedi (\\u054e\\u0565\\u0564\\u056b)\",\"Abovyan (\\u0531\\u0562\\u0578\\u057e\\u0575\\u0561\\u0576)\",\"Yerevan (\\u0535\\u0580\\u0565\\u0582\\u0561\\u0576)\",\"Yeghvard (\\u0535\\u0572\\u057e\\u0561\\u0580\\u0564)\",\"Masis (\\u0544\\u0561\\u057d\\u056b\\u057d)\",\"Ararat (\\u0531\\u0580\\u0561\\u0580\\u0561\\u057f)\",\"Charentsavan (\\u0549\\u0561\\u0580\\u0565\\u0576\\u0581\\u0561\\u057e\\u0561\\u0576)\",\"Maralik (\\u0544\\u0561\\u0580\\u0561\\u056c\\u056b\\u056f)\",\"Gyumri (\\u0533\\u0575\\u0578\\u0582\\u0574\\u0580\\u056b)\",\"Vanadzor (\\u054e\\u0561\\u0576\\u0561\\u0571\\u0578\\u0580)\",\"Vagharshapat (\\u054e\\u0561\\u0572\\u0561\\u0580\\u0577\\u0561\\u057a\\u0561\\u057f)[a]\",\"Kapan (\\u053f\\u0561\\u057a\\u0561\\u0576)\",\"Hrazdan (\\u0540\\u0580\\u0561\\u0566\\u0564\\u0561\\u0576)\",\"Armavir (\\u0531\\u0580\\u0574\\u0561\\u057e\\u056b\\u0580)\",\"Artashat (\\u0531\\u0580\\u057f\\u0561\\u0577\\u0561\\u057f)\",\"Ijevan (\\u053b\\u057b\\u0587\\u0561\\u0576)\",\"Gavar (\\u0533\\u0561\\u057e\\u0561\\u057c)\",\"Goris (\\u0533\\u0578\\u0580\\u056b\\u057d)\",\"Artik (\\u0531\\u0580\\u0569\\u056b\\u056f)\",\"Sevan (\\u054d\\u0587\\u0561\\u0576)\",\"Ashtarak (\\u0531\\u0577\\u057f\\u0561\\u0580\\u0561\\u056f)\",\"Dilijan (\\u0534\\u056b\\u056c\\u056b\\u057b\\u0561\\u0576)\",\"Sisian (\\u054d\\u056b\\u057d\\u056b\\u0561\\u0576)\",\"Alaverdi (\\u0531\\u056c\\u0561\\u057e\\u0565\\u0580\\u0564\\u056b)\",\"Stepanavan (\\u054d\\u057f\\u0565\\u0583\\u0561\\u0576\\u0561\\u057e\\u0561\\u0576)\",\"Martuni (\\u0544\\u0561\\u0580\\u057f\\u0578\\u0582\\u0576\\u056b)\",\"Spitak (\\u054d\\u057a\\u056b\\u057f\\u0561\\u056f)\",\"Vardenis (\\u054e\\u0561\\u0580\\u0564\\u0565\\u0576\\u056b\\u057d)\",\"Byureghavan (\\u0532\\u0575\\u0578\\u0582\\u0580\\u0565\\u0572\\u0561\\u057e\\u0561\\u0576)\",\"Nor Hachn (\\u0546\\u0578\\u0580 \\u0540\\u0561\\u0573\\u0576)\",\"Metsamor (\\u0544\\u0565\\u056e\\u0561\\u0574\\u0578\\u0580)\",\"Berd (\\u0532\\u0565\\u0580\\u0564)\",\"Yeghegnadzor (\\u0535\\u0572\\u0565\\u0563\\u0576\\u0561\\u0571\\u0578\\u0580)\",\"Tashir (\\u054f\\u0561\\u0577\\u056b\\u0580)\",\"Kajaran (\\u0554\\u0561\\u057b\\u0561\\u0580\\u0561\\u0576)\",\"Aparan (\\u0531\\u057a\\u0561\\u0580\\u0561\\u0576)\",\"Vayk (\\u054e\\u0561\\u0575\\u0584)\",\"Chambarak (\\u0543\\u0561\\u0574\\u0562\\u0561\\u0580\\u0561\\u056f)\",\"Noyemberyan (\\u0546\\u0578\\u0575\\u0565\\u0574\\u0562\\u0565\\u0580\\u0575\\u0561\\u0576)\",\"Talin (\\u0539\\u0561\\u056c\\u056b\\u0576)\",\"Jermuk (\\u054b\\u0565\\u0580\\u0574\\u0578\\u0582\\u056f)\",\"Meghri (\\u0544\\u0565\\u0572\\u0580\\u056b)\",\"Ayrum (\\u0531\\u0575\\u0580\\u0578\\u0582\\u0574)\",\"Akhtala (\\u0531\\u056d\\u0569\\u0561\\u056c\\u0561)\",\"Tumanyan (\\u0539\\u0578\\u0582\\u0574\\u0561\\u0576\\u0575\\u0561\\u0576)\",\"Vedi (\\u054e\\u0565\\u0564\\u056b)\",\"Abovyan (\\u0531\\u0562\\u0578\\u057e\\u0575\\u0561\\u0576)\",\"Yerevan (\\u0535\\u0580\\u0565\\u0582\\u0561\\u0576)\",\"Yeghvard (\\u0535\\u0572\\u057e\\u0561\\u0580\\u0564)\",\"Masis (\\u0544\\u0561\\u057d\\u056b\\u057d)\",\"Ararat (\\u0531\\u0580\\u0561\\u0580\\u0561\\u057f)\",\"Charentsavan (\\u0549\\u0561\\u0580\\u0565\\u0576\\u0581\\u0561\\u057e\\u0561\\u0576)\",\"Maralik (\\u0544\\u0561\\u0580\\u0561\\u056c\\u056b\\u056f)\",\"Gyumri (\\u0533\\u0575\\u0578\\u0582\\u0574\\u0580\\u056b)\",\"Vanadzor (\\u054e\\u0561\\u0576\\u0561\\u0571\\u0578\\u0580)\",\"Vagharshapat (\\u054e\\u0561\\u0572\\u0561\\u0580\\u0577\\u0561\\u057a\\u0561\\u057f)[a]\",\"Kapan (\\u053f\\u0561\\u057a\\u0561\\u0576)\",\"Hrazdan (\\u0540\\u0580\\u0561\\u0566\\u0564\\u0561\\u0576)\",\"Armavir (\\u0531\\u0580\\u0574\\u0561\\u057e\\u056b\\u0580)\",\"Artashat (\\u0531\\u0580\\u057f\\u0561\\u0577\\u0561\\u057f)\",\"Ijevan (\\u053b\\u057b\\u0587\\u0561\\u0576)\",\"Gavar (\\u0533\\u0561\\u057e\\u0561\\u057c)\",\"Goris (\\u0533\\u0578\\u0580\\u056b\\u057d)\",\"Artik (\\u0531\\u0580\\u0569\\u056b\\u056f)\",\"Sevan (\\u054d\\u0587\\u0561\\u0576)\",\"Ashtarak (\\u0531\\u0577\\u057f\\u0561\\u0580\\u0561\\u056f)\",\"Dilijan (\\u0534\\u056b\\u056c\\u056b\\u057b\\u0561\\u0576)\",\"Sisian (\\u054d\\u056b\\u057d\\u056b\\u0561\\u0576)\",\"Alaverdi (\\u0531\\u056c\\u0561\\u057e\\u0565\\u0580\\u0564\\u056b)\",\"Stepanavan (\\u054d\\u057f\\u0565\\u0583\\u0561\\u0576\\u0561\\u057e\\u0561\\u0576)\",\"Martuni (\\u0544\\u0561\\u0580\\u057f\\u0578\\u0582\\u0576\\u056b)\",\"Spitak (\\u054d\\u057a\\u056b\\u057f\\u0561\\u056f)\",\"Vardenis (\\u054e\\u0561\\u0580\\u0564\\u0565\\u0576\\u056b\\u057d)\",\"Byureghavan (\\u0532\\u0575\\u0578\\u0582\\u0580\\u0565\\u0572\\u0561\\u057e\\u0561\\u0576)\",\"Nor Hachn (\\u0546\\u0578\\u0580 \\u0540\\u0561\\u0573\\u0576)\",\"Metsamor (\\u0544\\u0565\\u056e\\u0561\\u0574\\u0578\\u0580)\",\"Berd (\\u0532\\u0565\\u0580\\u0564)\",\"Yeghegnadzor (\\u0535\\u0572\\u0565\\u0563\\u0576\\u0561\\u0571\\u0578\\u0580)\",\"Tashir (\\u054f\\u0561\\u0577\\u056b\\u0580)\",\"Kajaran (\\u0554\\u0561\\u057b\\u0561\\u0580\\u0561\\u0576)\",\"Aparan (\\u0531\\u057a\\u0561\\u0580\\u0561\\u0576)\",\"Vayk (\\u054e\\u0561\\u0575\\u0584)\",\"Chambarak (\\u0543\\u0561\\u0574\\u0562\\u0561\\u0580\\u0561\\u056f)\",\"Noyemberyan (\\u0546\\u0578\\u0575\\u0565\\u0574\\u0562\\u0565\\u0580\\u0575\\u0561\\u0576)\",\"Talin (\\u0539\\u0561\\u056c\\u056b\\u0576)\",\"Jermuk (\\u054b\\u0565\\u0580\\u0574\\u0578\\u0582\\u056f)\",\"Meghri (\\u0544\\u0565\\u0572\\u0580\\u056b)\",\"Ayrum (\\u0531\\u0575\\u0580\\u0578\\u0582\\u0574)\",\"Akhtala (\\u0531\\u056d\\u0569\\u0561\\u056c\\u0561)\",\"Tumanyan (\\u0539\\u0578\\u0582\\u0574\\u0561\\u0576\\u0575\\u0561\\u0576)\"],\"xaxis\":\"x\",\"y\":[3.65,3.23,2.25,1.95,1.9,0.82,0.18,0.04,null,null,null,null,null,null,null,null,null,null,null,null,null,null,null,null,null,null,null,null,null,null,null,null,null,null,null,null,null,null,null,null,null,null,null,null,null,3.65,3.23,2.25,1.95,1.9,0.82,0.18,0.04,null,null,null,null,null,null,null,null,null,null,null,null,null,null,null,null,null,null,null,null,null,null,null,null,null,null,null,null,null,null,null,null,null,null,null,null,null],\"yaxis\":\"y\",\"type\":\"bar\"}],                        {\"template\":{\"data\":{\"histogram2dcontour\":[{\"type\":\"histogram2dcontour\",\"colorbar\":{\"outlinewidth\":0,\"ticks\":\"\"},\"colorscale\":[[0.0,\"#0d0887\"],[0.1111111111111111,\"#46039f\"],[0.2222222222222222,\"#7201a8\"],[0.3333333333333333,\"#9c179e\"],[0.4444444444444444,\"#bd3786\"],[0.5555555555555556,\"#d8576b\"],[0.6666666666666666,\"#ed7953\"],[0.7777777777777778,\"#fb9f3a\"],[0.8888888888888888,\"#fdca26\"],[1.0,\"#f0f921\"]]}],\"choropleth\":[{\"type\":\"choropleth\",\"colorbar\":{\"outlinewidth\":0,\"ticks\":\"\"}}],\"histogram2d\":[{\"type\":\"histogram2d\",\"colorbar\":{\"outlinewidth\":0,\"ticks\":\"\"},\"colorscale\":[[0.0,\"#0d0887\"],[0.1111111111111111,\"#46039f\"],[0.2222222222222222,\"#7201a8\"],[0.3333333333333333,\"#9c179e\"],[0.4444444444444444,\"#bd3786\"],[0.5555555555555556,\"#d8576b\"],[0.6666666666666666,\"#ed7953\"],[0.7777777777777778,\"#fb9f3a\"],[0.8888888888888888,\"#fdca26\"],[1.0,\"#f0f921\"]]}],\"heatmap\":[{\"type\":\"heatmap\",\"colorbar\":{\"outlinewidth\":0,\"ticks\":\"\"},\"colorscale\":[[0.0,\"#0d0887\"],[0.1111111111111111,\"#46039f\"],[0.2222222222222222,\"#7201a8\"],[0.3333333333333333,\"#9c179e\"],[0.4444444444444444,\"#bd3786\"],[0.5555555555555556,\"#d8576b\"],[0.6666666666666666,\"#ed7953\"],[0.7777777777777778,\"#fb9f3a\"],[0.8888888888888888,\"#fdca26\"],[1.0,\"#f0f921\"]]}],\"heatmapgl\":[{\"type\":\"heatmapgl\",\"colorbar\":{\"outlinewidth\":0,\"ticks\":\"\"},\"colorscale\":[[0.0,\"#0d0887\"],[0.1111111111111111,\"#46039f\"],[0.2222222222222222,\"#7201a8\"],[0.3333333333333333,\"#9c179e\"],[0.4444444444444444,\"#bd3786\"],[0.5555555555555556,\"#d8576b\"],[0.6666666666666666,\"#ed7953\"],[0.7777777777777778,\"#fb9f3a\"],[0.8888888888888888,\"#fdca26\"],[1.0,\"#f0f921\"]]}],\"contourcarpet\":[{\"type\":\"contourcarpet\",\"colorbar\":{\"outlinewidth\":0,\"ticks\":\"\"}}],\"contour\":[{\"type\":\"contour\",\"colorbar\":{\"outlinewidth\":0,\"ticks\":\"\"},\"colorscale\":[[0.0,\"#0d0887\"],[0.1111111111111111,\"#46039f\"],[0.2222222222222222,\"#7201a8\"],[0.3333333333333333,\"#9c179e\"],[0.4444444444444444,\"#bd3786\"],[0.5555555555555556,\"#d8576b\"],[0.6666666666666666,\"#ed7953\"],[0.7777777777777778,\"#fb9f3a\"],[0.8888888888888888,\"#fdca26\"],[1.0,\"#f0f921\"]]}],\"surface\":[{\"type\":\"surface\",\"colorbar\":{\"outlinewidth\":0,\"ticks\":\"\"},\"colorscale\":[[0.0,\"#0d0887\"],[0.1111111111111111,\"#46039f\"],[0.2222222222222222,\"#7201a8\"],[0.3333333333333333,\"#9c179e\"],[0.4444444444444444,\"#bd3786\"],[0.5555555555555556,\"#d8576b\"],[0.6666666666666666,\"#ed7953\"],[0.7777777777777778,\"#fb9f3a\"],[0.8888888888888888,\"#fdca26\"],[1.0,\"#f0f921\"]]}],\"mesh3d\":[{\"type\":\"mesh3d\",\"colorbar\":{\"outlinewidth\":0,\"ticks\":\"\"}}],\"scatter\":[{\"fillpattern\":{\"fillmode\":\"overlay\",\"size\":10,\"solidity\":0.2},\"type\":\"scatter\"}],\"parcoords\":[{\"type\":\"parcoords\",\"line\":{\"colorbar\":{\"outlinewidth\":0,\"ticks\":\"\"}}}],\"scatterpolargl\":[{\"type\":\"scatterpolargl\",\"marker\":{\"colorbar\":{\"outlinewidth\":0,\"ticks\":\"\"}}}],\"bar\":[{\"error_x\":{\"color\":\"#2a3f5f\"},\"error_y\":{\"color\":\"#2a3f5f\"},\"marker\":{\"line\":{\"color\":\"#E5ECF6\",\"width\":0.5},\"pattern\":{\"fillmode\":\"overlay\",\"size\":10,\"solidity\":0.2}},\"type\":\"bar\"}],\"scattergeo\":[{\"type\":\"scattergeo\",\"marker\":{\"colorbar\":{\"outlinewidth\":0,\"ticks\":\"\"}}}],\"scatterpolar\":[{\"type\":\"scatterpolar\",\"marker\":{\"colorbar\":{\"outlinewidth\":0,\"ticks\":\"\"}}}],\"histogram\":[{\"marker\":{\"pattern\":{\"fillmode\":\"overlay\",\"size\":10,\"solidity\":0.2}},\"type\":\"histogram\"}],\"scattergl\":[{\"type\":\"scattergl\",\"marker\":{\"colorbar\":{\"outlinewidth\":0,\"ticks\":\"\"}}}],\"scatter3d\":[{\"type\":\"scatter3d\",\"line\":{\"colorbar\":{\"outlinewidth\":0,\"ticks\":\"\"}},\"marker\":{\"colorbar\":{\"outlinewidth\":0,\"ticks\":\"\"}}}],\"scattermapbox\":[{\"type\":\"scattermapbox\",\"marker\":{\"colorbar\":{\"outlinewidth\":0,\"ticks\":\"\"}}}],\"scatterternary\":[{\"type\":\"scatterternary\",\"marker\":{\"colorbar\":{\"outlinewidth\":0,\"ticks\":\"\"}}}],\"scattercarpet\":[{\"type\":\"scattercarpet\",\"marker\":{\"colorbar\":{\"outlinewidth\":0,\"ticks\":\"\"}}}],\"carpet\":[{\"aaxis\":{\"endlinecolor\":\"#2a3f5f\",\"gridcolor\":\"white\",\"linecolor\":\"white\",\"minorgridcolor\":\"white\",\"startlinecolor\":\"#2a3f5f\"},\"baxis\":{\"endlinecolor\":\"#2a3f5f\",\"gridcolor\":\"white\",\"linecolor\":\"white\",\"minorgridcolor\":\"white\",\"startlinecolor\":\"#2a3f5f\"},\"type\":\"carpet\"}],\"table\":[{\"cells\":{\"fill\":{\"color\":\"#EBF0F8\"},\"line\":{\"color\":\"white\"}},\"header\":{\"fill\":{\"color\":\"#C8D4E3\"},\"line\":{\"color\":\"white\"}},\"type\":\"table\"}],\"barpolar\":[{\"marker\":{\"line\":{\"color\":\"#E5ECF6\",\"width\":0.5},\"pattern\":{\"fillmode\":\"overlay\",\"size\":10,\"solidity\":0.2}},\"type\":\"barpolar\"}],\"pie\":[{\"automargin\":true,\"type\":\"pie\"}]},\"layout\":{\"autotypenumbers\":\"strict\",\"colorway\":[\"#636efa\",\"#EF553B\",\"#00cc96\",\"#ab63fa\",\"#FFA15A\",\"#19d3f3\",\"#FF6692\",\"#B6E880\",\"#FF97FF\",\"#FECB52\"],\"font\":{\"color\":\"#2a3f5f\"},\"hovermode\":\"closest\",\"hoverlabel\":{\"align\":\"left\"},\"paper_bgcolor\":\"white\",\"plot_bgcolor\":\"#E5ECF6\",\"polar\":{\"bgcolor\":\"#E5ECF6\",\"angularaxis\":{\"gridcolor\":\"white\",\"linecolor\":\"white\",\"ticks\":\"\"},\"radialaxis\":{\"gridcolor\":\"white\",\"linecolor\":\"white\",\"ticks\":\"\"}},\"ternary\":{\"bgcolor\":\"#E5ECF6\",\"aaxis\":{\"gridcolor\":\"white\",\"linecolor\":\"white\",\"ticks\":\"\"},\"baxis\":{\"gridcolor\":\"white\",\"linecolor\":\"white\",\"ticks\":\"\"},\"caxis\":{\"gridcolor\":\"white\",\"linecolor\":\"white\",\"ticks\":\"\"}},\"coloraxis\":{\"colorbar\":{\"outlinewidth\":0,\"ticks\":\"\"}},\"colorscale\":{\"sequential\":[[0.0,\"#0d0887\"],[0.1111111111111111,\"#46039f\"],[0.2222222222222222,\"#7201a8\"],[0.3333333333333333,\"#9c179e\"],[0.4444444444444444,\"#bd3786\"],[0.5555555555555556,\"#d8576b\"],[0.6666666666666666,\"#ed7953\"],[0.7777777777777778,\"#fb9f3a\"],[0.8888888888888888,\"#fdca26\"],[1.0,\"#f0f921\"]],\"sequentialminus\":[[0.0,\"#0d0887\"],[0.1111111111111111,\"#46039f\"],[0.2222222222222222,\"#7201a8\"],[0.3333333333333333,\"#9c179e\"],[0.4444444444444444,\"#bd3786\"],[0.5555555555555556,\"#d8576b\"],[0.6666666666666666,\"#ed7953\"],[0.7777777777777778,\"#fb9f3a\"],[0.8888888888888888,\"#fdca26\"],[1.0,\"#f0f921\"]],\"diverging\":[[0,\"#8e0152\"],[0.1,\"#c51b7d\"],[0.2,\"#de77ae\"],[0.3,\"#f1b6da\"],[0.4,\"#fde0ef\"],[0.5,\"#f7f7f7\"],[0.6,\"#e6f5d0\"],[0.7,\"#b8e186\"],[0.8,\"#7fbc41\"],[0.9,\"#4d9221\"],[1,\"#276419\"]]},\"xaxis\":{\"gridcolor\":\"white\",\"linecolor\":\"white\",\"ticks\":\"\",\"title\":{\"standoff\":15},\"zerolinecolor\":\"white\",\"automargin\":true,\"zerolinewidth\":2},\"yaxis\":{\"gridcolor\":\"white\",\"linecolor\":\"white\",\"ticks\":\"\",\"title\":{\"standoff\":15},\"zerolinecolor\":\"white\",\"automargin\":true,\"zerolinewidth\":2},\"scene\":{\"xaxis\":{\"backgroundcolor\":\"#E5ECF6\",\"gridcolor\":\"white\",\"linecolor\":\"white\",\"showbackground\":true,\"ticks\":\"\",\"zerolinecolor\":\"white\",\"gridwidth\":2},\"yaxis\":{\"backgroundcolor\":\"#E5ECF6\",\"gridcolor\":\"white\",\"linecolor\":\"white\",\"showbackground\":true,\"ticks\":\"\",\"zerolinecolor\":\"white\",\"gridwidth\":2},\"zaxis\":{\"backgroundcolor\":\"#E5ECF6\",\"gridcolor\":\"white\",\"linecolor\":\"white\",\"showbackground\":true,\"ticks\":\"\",\"zerolinecolor\":\"white\",\"gridwidth\":2}},\"shapedefaults\":{\"line\":{\"color\":\"#2a3f5f\"}},\"annotationdefaults\":{\"arrowcolor\":\"#2a3f5f\",\"arrowhead\":0,\"arrowwidth\":1},\"geo\":{\"bgcolor\":\"white\",\"landcolor\":\"#E5ECF6\",\"subunitcolor\":\"white\",\"showland\":true,\"showlakes\":true,\"lakecolor\":\"white\"},\"title\":{\"x\":0.05},\"mapbox\":{\"style\":\"light\"}}},\"xaxis\":{\"anchor\":\"y\",\"domain\":[0.0,1.0],\"title\":{\"text\":\"City (Armenian name)\"},\"tickangle\":45},\"yaxis\":{\"anchor\":\"x\",\"domain\":[0.0,1.0],\"title\":{\"text\":\"Percentage Change\"}},\"coloraxis\":{\"colorbar\":{\"title\":{\"text\":\"Percentage Change\"}},\"colorscale\":[[0.0,\"skyblue\"],[1.0,\"darkblue\"]]},\"legend\":{\"tracegroupgap\":0},\"title\":{\"text\":\"Population Growth Rates of Cities in Armenia\"},\"barmode\":\"relative\"},                        {\"responsive\": true}                    ).then(function(){\n",
       "                            \n",
       "var gd = document.getElementById('7b16c7b5-fd4d-4ac5-9531-7c64d8ac5b33');\n",
       "var x = new MutationObserver(function (mutations, observer) {{\n",
       "        var display = window.getComputedStyle(gd).display;\n",
       "        if (!display || display === 'none') {{\n",
       "            console.log([gd, 'removed!']);\n",
       "            Plotly.purge(gd);\n",
       "            observer.disconnect();\n",
       "        }}\n",
       "}});\n",
       "\n",
       "// Listen for the removal of the full notebook cells\n",
       "var notebookContainer = gd.closest('#notebook-container');\n",
       "if (notebookContainer) {{\n",
       "    x.observe(notebookContainer, {childList: true});\n",
       "}}\n",
       "\n",
       "// Listen for the clearing of the current output cell\n",
       "var outputEl = gd.closest('.output');\n",
       "if (outputEl) {{\n",
       "    x.observe(outputEl, {childList: true});\n",
       "}}\n",
       "\n",
       "                        })                };                });            </script>        </div>"
      ]
     },
     "metadata": {},
     "output_type": "display_data"
    }
   ],
   "source": [
    "import plotly.express as px\n",
    "\n",
    "# Selecting the highest and lowest population growth cities\n",
    "highest_population_growth = Arm_Population.nlargest(46, 'Change (2011–2020)')\n",
    "lowest_population_growth = Arm_Population.nsmallest(46, 'Change (2011–2020)').sort_values(by=\"Change (2011–2020)\",ascending=False)\n",
    "\n",
    "# Concatenating the highest and lowest population growth cities\n",
    "population_growth = pd.concat([highest_population_growth, lowest_population_growth])\n",
    "\n",
    "# Creating a bar chart using Plotly Express\n",
    "fig = px.bar(population_growth, \n",
    "             x='City (Armenian name)', \n",
    "             y='Change (2011–2020)', \n",
    "             color='Change (2011–2020)',\n",
    "             color_continuous_scale=['skyblue','darkblue'],\n",
    "             labels={'Change (2011–2020)': 'Percentage Change'},\n",
    "             title='Population Growth Rates of Cities in Armenia')\n",
    "\n",
    "# Rotating x-axis labels for better readability\n",
    "fig.update_layout(xaxis_tickangle=45)\n",
    "# Showing the plot\n",
    "fig.show()"
   ]
  },
  {
   "cell_type": "code",
   "execution_count": 69,
   "id": "cd1ab27f",
   "metadata": {},
   "outputs": [],
   "source": [
    "Arm_Population.to_csv(\"Arm_population.csv\",index=False)"
   ]
  },
  {
   "cell_type": "code",
   "execution_count": null,
   "id": "b483d319",
   "metadata": {},
   "outputs": [],
   "source": []
  },
  {
   "cell_type": "code",
   "execution_count": null,
   "id": "6a544aec",
   "metadata": {},
   "outputs": [],
   "source": []
  },
  {
   "cell_type": "code",
   "execution_count": null,
   "id": "6987dbbe",
   "metadata": {},
   "outputs": [],
   "source": []
  }
 ],
 "metadata": {
  "kernelspec": {
   "display_name": "Python 3 (ipykernel)",
   "language": "python",
   "name": "python3"
  },
  "language_info": {
   "codemirror_mode": {
    "name": "ipython",
    "version": 3
   },
   "file_extension": ".py",
   "mimetype": "text/x-python",
   "name": "python",
   "nbconvert_exporter": "python",
   "pygments_lexer": "ipython3",
   "version": "3.11.5"
  }
 },
 "nbformat": 4,
 "nbformat_minor": 5
}
