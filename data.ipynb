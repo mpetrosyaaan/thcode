{
 "cells": [
  {
   "cell_type": "code",
   "execution_count": 34,
   "id": "93e09889",
   "metadata": {},
   "outputs": [
    {
     "data": {
      "text/html": [
       "<div>\n",
       "<style scoped>\n",
       "    .dataframe tbody tr th:only-of-type {\n",
       "        vertical-align: middle;\n",
       "    }\n",
       "\n",
       "    .dataframe tbody tr th {\n",
       "        vertical-align: top;\n",
       "    }\n",
       "\n",
       "    .dataframe thead th {\n",
       "        text-align: right;\n",
       "    }\n",
       "</style>\n",
       "<table border=\"1\" class=\"dataframe\">\n",
       "  <thead>\n",
       "    <tr style=\"text-align: right;\">\n",
       "      <th></th>\n",
       "      <th>states</th>\n",
       "      <th>states_code</th>\n",
       "      <th>id</th>\n",
       "      <th>year</th>\n",
       "      <th>population</th>\n",
       "    </tr>\n",
       "  </thead>\n",
       "  <tbody>\n",
       "    <tr>\n",
       "      <th>0</th>\n",
       "      <td>Yerevan</td>\n",
       "      <td>AM-ER</td>\n",
       "      <td>1</td>\n",
       "      <td>2011</td>\n",
       "      <td>1060138</td>\n",
       "    </tr>\n",
       "    <tr>\n",
       "      <th>1</th>\n",
       "      <td>Yerevan</td>\n",
       "      <td>AM-ER</td>\n",
       "      <td>1</td>\n",
       "      <td>2012</td>\n",
       "      <td>1061044</td>\n",
       "    </tr>\n",
       "    <tr>\n",
       "      <th>2</th>\n",
       "      <td>Yerevan</td>\n",
       "      <td>AM-ER</td>\n",
       "      <td>1</td>\n",
       "      <td>2013</td>\n",
       "      <td>1066264</td>\n",
       "    </tr>\n",
       "    <tr>\n",
       "      <th>3</th>\n",
       "      <td>Yerevan</td>\n",
       "      <td>AM-ER</td>\n",
       "      <td>1</td>\n",
       "      <td>2014</td>\n",
       "      <td>1068306</td>\n",
       "    </tr>\n",
       "    <tr>\n",
       "      <th>4</th>\n",
       "      <td>Yerevan</td>\n",
       "      <td>AM-ER</td>\n",
       "      <td>1</td>\n",
       "      <td>2015</td>\n",
       "      <td>1071511</td>\n",
       "    </tr>\n",
       "    <tr>\n",
       "      <th>...</th>\n",
       "      <td>...</td>\n",
       "      <td>...</td>\n",
       "      <td>...</td>\n",
       "      <td>...</td>\n",
       "      <td>...</td>\n",
       "    </tr>\n",
       "    <tr>\n",
       "      <th>138</th>\n",
       "      <td>Tavush</td>\n",
       "      <td>AM-TV</td>\n",
       "      <td>11</td>\n",
       "      <td>2019</td>\n",
       "      <td>122242</td>\n",
       "    </tr>\n",
       "    <tr>\n",
       "      <th>139</th>\n",
       "      <td>Tavush</td>\n",
       "      <td>AM-TV</td>\n",
       "      <td>11</td>\n",
       "      <td>2020</td>\n",
       "      <td>121475</td>\n",
       "    </tr>\n",
       "    <tr>\n",
       "      <th>140</th>\n",
       "      <td>Tavush</td>\n",
       "      <td>AM-TV</td>\n",
       "      <td>11</td>\n",
       "      <td>2021</td>\n",
       "      <td>120534</td>\n",
       "    </tr>\n",
       "    <tr>\n",
       "      <th>141</th>\n",
       "      <td>Tavush</td>\n",
       "      <td>AM-TV</td>\n",
       "      <td>11</td>\n",
       "      <td>2022</td>\n",
       "      <td>119759</td>\n",
       "    </tr>\n",
       "    <tr>\n",
       "      <th>142</th>\n",
       "      <td>Tavush</td>\n",
       "      <td>AM-TV</td>\n",
       "      <td>11</td>\n",
       "      <td>2023</td>\n",
       "      <td>119802</td>\n",
       "    </tr>\n",
       "  </tbody>\n",
       "</table>\n",
       "<p>143 rows × 5 columns</p>\n",
       "</div>"
      ],
      "text/plain": [
       "      states states_code  id  year  population\n",
       "0    Yerevan       AM-ER   1  2011     1060138\n",
       "1    Yerevan       AM-ER   1  2012     1061044\n",
       "2    Yerevan       AM-ER   1  2013     1066264\n",
       "3    Yerevan       AM-ER   1  2014     1068306\n",
       "4    Yerevan       AM-ER   1  2015     1071511\n",
       "..       ...         ...  ..   ...         ...\n",
       "138   Tavush       AM-TV  11  2019      122242\n",
       "139   Tavush       AM-TV  11  2020      121475\n",
       "140   Tavush       AM-TV  11  2021      120534\n",
       "141   Tavush       AM-TV  11  2022      119759\n",
       "142   Tavush       AM-TV  11  2023      119802\n",
       "\n",
       "[143 rows x 5 columns]"
      ]
     },
     "execution_count": 34,
     "metadata": {},
     "output_type": "execute_result"
    }
   ],
   "source": [
    "import pandas as pd\n",
    "\n",
    "df = pd.read_csv('https://raw.githubusercontent.com/mpetrosyaaan/thcode/main/data/datathesis.csv',delimiter=';')\n",
    "df\n",
    "     "
   ]
  },
  {
   "cell_type": "code",
   "execution_count": 35,
   "id": "975e2ff6",
   "metadata": {},
   "outputs": [
    {
     "data": {
      "text/html": [
       "<div>\n",
       "<style scoped>\n",
       "    .dataframe tbody tr th:only-of-type {\n",
       "        vertical-align: middle;\n",
       "    }\n",
       "\n",
       "    .dataframe tbody tr th {\n",
       "        vertical-align: top;\n",
       "    }\n",
       "\n",
       "    .dataframe thead th {\n",
       "        text-align: right;\n",
       "    }\n",
       "</style>\n",
       "<table border=\"1\" class=\"dataframe\">\n",
       "  <thead>\n",
       "    <tr style=\"text-align: right;\">\n",
       "      <th></th>\n",
       "      <th>states</th>\n",
       "      <th>states_code</th>\n",
       "      <th>id</th>\n",
       "      <th>year</th>\n",
       "      <th>population</th>\n",
       "    </tr>\n",
       "  </thead>\n",
       "  <tbody>\n",
       "    <tr>\n",
       "      <th>12</th>\n",
       "      <td>Yerevan</td>\n",
       "      <td>AM-ER</td>\n",
       "      <td>1</td>\n",
       "      <td>2023</td>\n",
       "      <td>1098866</td>\n",
       "    </tr>\n",
       "    <tr>\n",
       "      <th>25</th>\n",
       "      <td>Aragatsotn</td>\n",
       "      <td>AM-AG</td>\n",
       "      <td>2</td>\n",
       "      <td>2023</td>\n",
       "      <td>125687</td>\n",
       "    </tr>\n",
       "    <tr>\n",
       "      <th>38</th>\n",
       "      <td>Ararat</td>\n",
       "      <td>AM-AR</td>\n",
       "      <td>3</td>\n",
       "      <td>2023</td>\n",
       "      <td>259277</td>\n",
       "    </tr>\n",
       "    <tr>\n",
       "      <th>51</th>\n",
       "      <td>Armavir</td>\n",
       "      <td>AM-AV</td>\n",
       "      <td>4</td>\n",
       "      <td>2023</td>\n",
       "      <td>266656</td>\n",
       "    </tr>\n",
       "    <tr>\n",
       "      <th>64</th>\n",
       "      <td>Gegharkunik</td>\n",
       "      <td>AM-GR</td>\n",
       "      <td>5</td>\n",
       "      <td>2023</td>\n",
       "      <td>228711</td>\n",
       "    </tr>\n",
       "    <tr>\n",
       "      <th>77</th>\n",
       "      <td>Lori</td>\n",
       "      <td>AM-LO</td>\n",
       "      <td>6</td>\n",
       "      <td>2023</td>\n",
       "      <td>211582</td>\n",
       "    </tr>\n",
       "    <tr>\n",
       "      <th>90</th>\n",
       "      <td>Kotayk</td>\n",
       "      <td>AM-KT</td>\n",
       "      <td>7</td>\n",
       "      <td>2023</td>\n",
       "      <td>253857</td>\n",
       "    </tr>\n",
       "    <tr>\n",
       "      <th>103</th>\n",
       "      <td>Shirak</td>\n",
       "      <td>AM-SH</td>\n",
       "      <td>8</td>\n",
       "      <td>2023</td>\n",
       "      <td>230476</td>\n",
       "    </tr>\n",
       "    <tr>\n",
       "      <th>116</th>\n",
       "      <td>Syunik</td>\n",
       "      <td>AM-SU</td>\n",
       "      <td>9</td>\n",
       "      <td>2023</td>\n",
       "      <td>134555</td>\n",
       "    </tr>\n",
       "    <tr>\n",
       "      <th>129</th>\n",
       "      <td>VayotsDzor</td>\n",
       "      <td>AM-VD</td>\n",
       "      <td>10</td>\n",
       "      <td>2023</td>\n",
       "      <td>47661</td>\n",
       "    </tr>\n",
       "    <tr>\n",
       "      <th>142</th>\n",
       "      <td>Tavush</td>\n",
       "      <td>AM-TV</td>\n",
       "      <td>11</td>\n",
       "      <td>2023</td>\n",
       "      <td>119802</td>\n",
       "    </tr>\n",
       "  </tbody>\n",
       "</table>\n",
       "</div>"
      ],
      "text/plain": [
       "          states states_code  id  year  population\n",
       "12       Yerevan       AM-ER   1  2023     1098866\n",
       "25    Aragatsotn       AM-AG   2  2023      125687\n",
       "38        Ararat       AM-AR   3  2023      259277\n",
       "51       Armavir       AM-AV   4  2023      266656\n",
       "64   Gegharkunik       AM-GR   5  2023      228711\n",
       "77          Lori       AM-LO   6  2023      211582\n",
       "90        Kotayk       AM-KT   7  2023      253857\n",
       "103       Shirak       AM-SH   8  2023      230476\n",
       "116       Syunik       AM-SU   9  2023      134555\n",
       "129   VayotsDzor       AM-VD  10  2023       47661\n",
       "142       Tavush       AM-TV  11  2023      119802"
      ]
     },
     "execution_count": 35,
     "metadata": {},
     "output_type": "execute_result"
    }
   ],
   "source": [
    "# Subset dataframe by year\n",
    "selected_year = 2023\n",
    "df_selected_year = df[df.year == selected_year]\n",
    "df_selected_year"
   ]
  },
  {
   "cell_type": "code",
   "execution_count": 36,
   "id": "b288c429",
   "metadata": {},
   "outputs": [
    {
     "data": {
      "text/html": [
       "<div>\n",
       "<style scoped>\n",
       "    .dataframe tbody tr th:only-of-type {\n",
       "        vertical-align: middle;\n",
       "    }\n",
       "\n",
       "    .dataframe tbody tr th {\n",
       "        vertical-align: top;\n",
       "    }\n",
       "\n",
       "    .dataframe thead th {\n",
       "        text-align: right;\n",
       "    }\n",
       "</style>\n",
       "<table border=\"1\" class=\"dataframe\">\n",
       "  <thead>\n",
       "    <tr style=\"text-align: right;\">\n",
       "      <th></th>\n",
       "      <th>states</th>\n",
       "      <th>states_code</th>\n",
       "      <th>id</th>\n",
       "      <th>year</th>\n",
       "      <th>population</th>\n",
       "    </tr>\n",
       "  </thead>\n",
       "  <tbody>\n",
       "    <tr>\n",
       "      <th>12</th>\n",
       "      <td>Yerevan</td>\n",
       "      <td>AM-ER</td>\n",
       "      <td>1</td>\n",
       "      <td>2023</td>\n",
       "      <td>1098866</td>\n",
       "    </tr>\n",
       "    <tr>\n",
       "      <th>51</th>\n",
       "      <td>Armavir</td>\n",
       "      <td>AM-AV</td>\n",
       "      <td>4</td>\n",
       "      <td>2023</td>\n",
       "      <td>266656</td>\n",
       "    </tr>\n",
       "    <tr>\n",
       "      <th>38</th>\n",
       "      <td>Ararat</td>\n",
       "      <td>AM-AR</td>\n",
       "      <td>3</td>\n",
       "      <td>2023</td>\n",
       "      <td>259277</td>\n",
       "    </tr>\n",
       "    <tr>\n",
       "      <th>90</th>\n",
       "      <td>Kotayk</td>\n",
       "      <td>AM-KT</td>\n",
       "      <td>7</td>\n",
       "      <td>2023</td>\n",
       "      <td>253857</td>\n",
       "    </tr>\n",
       "    <tr>\n",
       "      <th>103</th>\n",
       "      <td>Shirak</td>\n",
       "      <td>AM-SH</td>\n",
       "      <td>8</td>\n",
       "      <td>2023</td>\n",
       "      <td>230476</td>\n",
       "    </tr>\n",
       "    <tr>\n",
       "      <th>64</th>\n",
       "      <td>Gegharkunik</td>\n",
       "      <td>AM-GR</td>\n",
       "      <td>5</td>\n",
       "      <td>2023</td>\n",
       "      <td>228711</td>\n",
       "    </tr>\n",
       "    <tr>\n",
       "      <th>77</th>\n",
       "      <td>Lori</td>\n",
       "      <td>AM-LO</td>\n",
       "      <td>6</td>\n",
       "      <td>2023</td>\n",
       "      <td>211582</td>\n",
       "    </tr>\n",
       "    <tr>\n",
       "      <th>116</th>\n",
       "      <td>Syunik</td>\n",
       "      <td>AM-SU</td>\n",
       "      <td>9</td>\n",
       "      <td>2023</td>\n",
       "      <td>134555</td>\n",
       "    </tr>\n",
       "    <tr>\n",
       "      <th>25</th>\n",
       "      <td>Aragatsotn</td>\n",
       "      <td>AM-AG</td>\n",
       "      <td>2</td>\n",
       "      <td>2023</td>\n",
       "      <td>125687</td>\n",
       "    </tr>\n",
       "    <tr>\n",
       "      <th>142</th>\n",
       "      <td>Tavush</td>\n",
       "      <td>AM-TV</td>\n",
       "      <td>11</td>\n",
       "      <td>2023</td>\n",
       "      <td>119802</td>\n",
       "    </tr>\n",
       "    <tr>\n",
       "      <th>129</th>\n",
       "      <td>VayotsDzor</td>\n",
       "      <td>AM-VD</td>\n",
       "      <td>10</td>\n",
       "      <td>2023</td>\n",
       "      <td>47661</td>\n",
       "    </tr>\n",
       "  </tbody>\n",
       "</table>\n",
       "</div>"
      ],
      "text/plain": [
       "          states states_code  id  year  population\n",
       "12       Yerevan       AM-ER   1  2023     1098866\n",
       "51       Armavir       AM-AV   4  2023      266656\n",
       "38        Ararat       AM-AR   3  2023      259277\n",
       "90        Kotayk       AM-KT   7  2023      253857\n",
       "103       Shirak       AM-SH   8  2023      230476\n",
       "64   Gegharkunik       AM-GR   5  2023      228711\n",
       "77          Lori       AM-LO   6  2023      211582\n",
       "116       Syunik       AM-SU   9  2023      134555\n",
       "25    Aragatsotn       AM-AG   2  2023      125687\n",
       "142       Tavush       AM-TV  11  2023      119802\n",
       "129   VayotsDzor       AM-VD  10  2023       47661"
      ]
     },
     "execution_count": 36,
     "metadata": {},
     "output_type": "execute_result"
    }
   ],
   "source": [
    "# Sort by year\n",
    "df_selected_year_sorted = df_selected_year.sort_values(by=\"population\", ascending=False)\n",
    "df_selected_year_sorted\n"
   ]
  },
  {
   "cell_type": "code",
   "execution_count": 37,
   "id": "484956bc",
   "metadata": {},
   "outputs": [
    {
     "data": {
      "text/html": [
       "<div>\n",
       "<style scoped>\n",
       "    .dataframe tbody tr th:only-of-type {\n",
       "        vertical-align: middle;\n",
       "    }\n",
       "\n",
       "    .dataframe tbody tr th {\n",
       "        vertical-align: top;\n",
       "    }\n",
       "\n",
       "    .dataframe thead th {\n",
       "        text-align: right;\n",
       "    }\n",
       "</style>\n",
       "<table border=\"1\" class=\"dataframe\">\n",
       "  <thead>\n",
       "    <tr style=\"text-align: right;\">\n",
       "      <th></th>\n",
       "      <th>states</th>\n",
       "      <th>id</th>\n",
       "      <th>population</th>\n",
       "      <th>population_difference</th>\n",
       "      <th>population_difference_absolute</th>\n",
       "    </tr>\n",
       "  </thead>\n",
       "  <tbody>\n",
       "    <tr>\n",
       "      <th>0</th>\n",
       "      <td>Yerevan</td>\n",
       "      <td>1</td>\n",
       "      <td>1098866</td>\n",
       "      <td>6088</td>\n",
       "      <td>6088</td>\n",
       "    </tr>\n",
       "    <tr>\n",
       "      <th>6</th>\n",
       "      <td>Kotayk</td>\n",
       "      <td>7</td>\n",
       "      <td>253857</td>\n",
       "      <td>2781</td>\n",
       "      <td>2781</td>\n",
       "    </tr>\n",
       "    <tr>\n",
       "      <th>2</th>\n",
       "      <td>Ararat</td>\n",
       "      <td>3</td>\n",
       "      <td>259277</td>\n",
       "      <td>2662</td>\n",
       "      <td>2662</td>\n",
       "    </tr>\n",
       "    <tr>\n",
       "      <th>3</th>\n",
       "      <td>Armavir</td>\n",
       "      <td>4</td>\n",
       "      <td>266656</td>\n",
       "      <td>2273</td>\n",
       "      <td>2273</td>\n",
       "    </tr>\n",
       "    <tr>\n",
       "      <th>1</th>\n",
       "      <td>Aragatsotn</td>\n",
       "      <td>2</td>\n",
       "      <td>125687</td>\n",
       "      <td>1041</td>\n",
       "      <td>1041</td>\n",
       "    </tr>\n",
       "    <tr>\n",
       "      <th>4</th>\n",
       "      <td>Gegharkunik</td>\n",
       "      <td>5</td>\n",
       "      <td>228711</td>\n",
       "      <td>933</td>\n",
       "      <td>933</td>\n",
       "    </tr>\n",
       "    <tr>\n",
       "      <th>7</th>\n",
       "      <td>Shirak</td>\n",
       "      <td>8</td>\n",
       "      <td>230476</td>\n",
       "      <td>136</td>\n",
       "      <td>136</td>\n",
       "    </tr>\n",
       "    <tr>\n",
       "      <th>9</th>\n",
       "      <td>VayotsDzor</td>\n",
       "      <td>10</td>\n",
       "      <td>47661</td>\n",
       "      <td>77</td>\n",
       "      <td>77</td>\n",
       "    </tr>\n",
       "    <tr>\n",
       "      <th>10</th>\n",
       "      <td>Tavush</td>\n",
       "      <td>11</td>\n",
       "      <td>119802</td>\n",
       "      <td>43</td>\n",
       "      <td>43</td>\n",
       "    </tr>\n",
       "    <tr>\n",
       "      <th>5</th>\n",
       "      <td>Lori</td>\n",
       "      <td>6</td>\n",
       "      <td>211582</td>\n",
       "      <td>-95</td>\n",
       "      <td>95</td>\n",
       "    </tr>\n",
       "    <tr>\n",
       "      <th>8</th>\n",
       "      <td>Syunik</td>\n",
       "      <td>9</td>\n",
       "      <td>134555</td>\n",
       "      <td>-176</td>\n",
       "      <td>176</td>\n",
       "    </tr>\n",
       "  </tbody>\n",
       "</table>\n",
       "</div>"
      ],
      "text/plain": [
       "         states  id  population  population_difference  \\\n",
       "0       Yerevan   1     1098866                   6088   \n",
       "6        Kotayk   7      253857                   2781   \n",
       "2        Ararat   3      259277                   2662   \n",
       "3       Armavir   4      266656                   2273   \n",
       "1    Aragatsotn   2      125687                   1041   \n",
       "4   Gegharkunik   5      228711                    933   \n",
       "7        Shirak   8      230476                    136   \n",
       "9    VayotsDzor  10       47661                     77   \n",
       "10       Tavush  11      119802                     43   \n",
       "5          Lori   6      211582                    -95   \n",
       "8        Syunik   9      134555                   -176   \n",
       "\n",
       "    population_difference_absolute  \n",
       "0                             6088  \n",
       "6                             2781  \n",
       "2                             2662  \n",
       "3                             2273  \n",
       "1                             1041  \n",
       "4                              933  \n",
       "7                              136  \n",
       "9                               77  \n",
       "10                              43  \n",
       "5                               95  \n",
       "8                              176  "
      ]
     },
     "execution_count": 37,
     "metadata": {},
     "output_type": "execute_result"
    }
   ],
   "source": [
    "# Calculate population difference between selected and previous year\n",
    "def calculate_population_difference(input_df, input_year):\n",
    "  selected_year_data = input_df[input_df['year'] == input_year].reset_index()\n",
    "  previous_year_data = input_df[input_df['year'] == input_year - 1].reset_index()\n",
    "  selected_year_data['population_difference'] = selected_year_data.population.sub(previous_year_data.population, fill_value=0)\n",
    "  selected_year_data['population_difference_absolute'] = abs(selected_year_data['population_difference'])\n",
    "  return pd.concat([selected_year_data.states, selected_year_data.id, selected_year_data.population, selected_year_data.population_difference, selected_year_data.population_difference_absolute], axis=1).sort_values(by=\"population_difference\", ascending=False)\n",
    "\n",
    "df_population_difference_sorted = calculate_population_difference(df, selected_year)\n",
    "df_population_difference_sorted"
   ]
  },
  {
   "cell_type": "code",
   "execution_count": 38,
   "id": "78ae0a6b",
   "metadata": {},
   "outputs": [
    {
     "data": {
      "text/html": [
       "<div>\n",
       "<style scoped>\n",
       "    .dataframe tbody tr th:only-of-type {\n",
       "        vertical-align: middle;\n",
       "    }\n",
       "\n",
       "    .dataframe tbody tr th {\n",
       "        vertical-align: top;\n",
       "    }\n",
       "\n",
       "    .dataframe thead th {\n",
       "        text-align: right;\n",
       "    }\n",
       "</style>\n",
       "<table border=\"1\" class=\"dataframe\">\n",
       "  <thead>\n",
       "    <tr style=\"text-align: right;\">\n",
       "      <th></th>\n",
       "      <th>states</th>\n",
       "      <th>id</th>\n",
       "      <th>population</th>\n",
       "      <th>population_difference</th>\n",
       "      <th>population_difference_absolute</th>\n",
       "    </tr>\n",
       "  </thead>\n",
       "  <tbody>\n",
       "    <tr>\n",
       "      <th>0</th>\n",
       "      <td>Yerevan</td>\n",
       "      <td>1</td>\n",
       "      <td>1098866</td>\n",
       "      <td>6088</td>\n",
       "      <td>6088</td>\n",
       "    </tr>\n",
       "    <tr>\n",
       "      <th>6</th>\n",
       "      <td>Kotayk</td>\n",
       "      <td>7</td>\n",
       "      <td>253857</td>\n",
       "      <td>2781</td>\n",
       "      <td>2781</td>\n",
       "    </tr>\n",
       "    <tr>\n",
       "      <th>2</th>\n",
       "      <td>Ararat</td>\n",
       "      <td>3</td>\n",
       "      <td>259277</td>\n",
       "      <td>2662</td>\n",
       "      <td>2662</td>\n",
       "    </tr>\n",
       "    <tr>\n",
       "      <th>3</th>\n",
       "      <td>Armavir</td>\n",
       "      <td>4</td>\n",
       "      <td>266656</td>\n",
       "      <td>2273</td>\n",
       "      <td>2273</td>\n",
       "    </tr>\n",
       "    <tr>\n",
       "      <th>1</th>\n",
       "      <td>Aragatsotn</td>\n",
       "      <td>2</td>\n",
       "      <td>125687</td>\n",
       "      <td>1041</td>\n",
       "      <td>1041</td>\n",
       "    </tr>\n",
       "  </tbody>\n",
       "</table>\n",
       "</div>"
      ],
      "text/plain": [
       "       states  id  population  population_difference  \\\n",
       "0     Yerevan   1     1098866                   6088   \n",
       "6      Kotayk   7      253857                   2781   \n",
       "2      Ararat   3      259277                   2662   \n",
       "3     Armavir   4      266656                   2273   \n",
       "1  Aragatsotn   2      125687                   1041   \n",
       "\n",
       "   population_difference_absolute  \n",
       "0                            6088  \n",
       "6                            2781  \n",
       "2                            2662  \n",
       "3                            2273  \n",
       "1                            1041  "
      ]
     },
     "execution_count": 38,
     "metadata": {},
     "output_type": "execute_result"
    }
   ],
   "source": [
    "# Filter states with population difference > 1000\n",
    "df_greater_1000 = df_population_difference_sorted[df_population_difference_sorted.population_difference_absolute > 1000]\n",
    "df_greater_1000"
   ]
  },
  {
   "cell_type": "code",
   "execution_count": 39,
   "id": "fd89b9b4",
   "metadata": {},
   "outputs": [
    {
     "data": {
      "text/plain": [
       "45"
      ]
     },
     "execution_count": 39,
     "metadata": {},
     "output_type": "execute_result"
    }
   ],
   "source": [
    "# % of States with population difference > 1000\n",
    "int((len(df_greater_1000)/df_population_difference_sorted.states.nunique())*100)"
   ]
  },
  {
   "cell_type": "markdown",
   "id": "f21d2777",
   "metadata": {},
   "source": [
    "Plots\n",
    "Heatmap"
   ]
  },
  {
   "cell_type": "code",
   "execution_count": 40,
   "id": "d7456c49",
   "metadata": {},
   "outputs": [
    {
     "data": {
      "text/html": [
       "\n",
       "<style>\n",
       "  #altair-viz-9566618390a44d799174284ee3ae0c65.vega-embed {\n",
       "    width: 100%;\n",
       "    display: flex;\n",
       "  }\n",
       "\n",
       "  #altair-viz-9566618390a44d799174284ee3ae0c65.vega-embed details,\n",
       "  #altair-viz-9566618390a44d799174284ee3ae0c65.vega-embed details summary {\n",
       "    position: relative;\n",
       "  }\n",
       "</style>\n",
       "<div id=\"altair-viz-9566618390a44d799174284ee3ae0c65\"></div>\n",
       "<script type=\"text/javascript\">\n",
       "  var VEGA_DEBUG = (typeof VEGA_DEBUG == \"undefined\") ? {} : VEGA_DEBUG;\n",
       "  (function(spec, embedOpt){\n",
       "    let outputDiv = document.currentScript.previousElementSibling;\n",
       "    if (outputDiv.id !== \"altair-viz-9566618390a44d799174284ee3ae0c65\") {\n",
       "      outputDiv = document.getElementById(\"altair-viz-9566618390a44d799174284ee3ae0c65\");\n",
       "    }\n",
       "    const paths = {\n",
       "      \"vega\": \"https://cdn.jsdelivr.net/npm/vega@5?noext\",\n",
       "      \"vega-lib\": \"https://cdn.jsdelivr.net/npm/vega-lib?noext\",\n",
       "      \"vega-lite\": \"https://cdn.jsdelivr.net/npm/vega-lite@5.17.0?noext\",\n",
       "      \"vega-embed\": \"https://cdn.jsdelivr.net/npm/vega-embed@6?noext\",\n",
       "    };\n",
       "\n",
       "    function maybeLoadScript(lib, version) {\n",
       "      var key = `${lib.replace(\"-\", \"\")}_version`;\n",
       "      return (VEGA_DEBUG[key] == version) ?\n",
       "        Promise.resolve(paths[lib]) :\n",
       "        new Promise(function(resolve, reject) {\n",
       "          var s = document.createElement('script');\n",
       "          document.getElementsByTagName(\"head\")[0].appendChild(s);\n",
       "          s.async = true;\n",
       "          s.onload = () => {\n",
       "            VEGA_DEBUG[key] = version;\n",
       "            return resolve(paths[lib]);\n",
       "          };\n",
       "          s.onerror = () => reject(`Error loading script: ${paths[lib]}`);\n",
       "          s.src = paths[lib];\n",
       "        });\n",
       "    }\n",
       "\n",
       "    function showError(err) {\n",
       "      outputDiv.innerHTML = `<div class=\"error\" style=\"color:red;\">${err}</div>`;\n",
       "      throw err;\n",
       "    }\n",
       "\n",
       "    function displayChart(vegaEmbed) {\n",
       "      vegaEmbed(outputDiv, spec, embedOpt)\n",
       "        .catch(err => showError(`Javascript Error: ${err.message}<br>This usually means there's a typo in your chart specification. See the javascript console for the full traceback.`));\n",
       "    }\n",
       "\n",
       "    if(typeof define === \"function\" && define.amd) {\n",
       "      requirejs.config({paths});\n",
       "      require([\"vega-embed\"], displayChart, err => showError(`Error loading script: ${err.message}`));\n",
       "    } else {\n",
       "      maybeLoadScript(\"vega\", \"5\")\n",
       "        .then(() => maybeLoadScript(\"vega-lite\", \"5.17.0\"))\n",
       "        .then(() => maybeLoadScript(\"vega-embed\", \"6\"))\n",
       "        .catch(showError)\n",
       "        .then(() => displayChart(vegaEmbed));\n",
       "    }\n",
       "  })({\"usermeta\": {\"embedOptions\": {\"theme\": \"dark\"}}, \"config\": {\"view\": {\"continuousWidth\": 300, \"continuousHeight\": 300}, \"axis\": {\"labelFontSize\": 12, \"titleFontSize\": 12}}, \"data\": {\"name\": \"data-186aeee74722495b8f416d4da77d5110\"}, \"mark\": {\"type\": \"rect\"}, \"encoding\": {\"color\": {\"aggregate\": \"max\", \"field\": \"population\", \"legend\": {\"title\": \" \"}, \"scale\": {\"scheme\": \"blueorange\"}, \"type\": \"quantitative\"}, \"stroke\": {\"value\": \"black\"}, \"strokeWidth\": {\"value\": 0.25}, \"x\": {\"axis\": {\"title\": \"States\", \"titleFontSize\": 16, \"titleFontWeight\": 900, \"titlePadding\": 15}, \"field\": \"states\", \"type\": \"ordinal\"}, \"y\": {\"axis\": {\"labelAngle\": 0, \"title\": \"Year\", \"titleFontSize\": 16, \"titleFontWeight\": 900, \"titlePadding\": 15}, \"field\": \"year\", \"type\": \"ordinal\"}}, \"width\": 900, \"$schema\": \"https://vega.github.io/schema/vega-lite/v5.17.0.json\", \"datasets\": {\"data-186aeee74722495b8f416d4da77d5110\": [{\"states\": \"Yerevan\", \"states_code\": \"AM-ER\", \"id\": 1, \"year\": 2011, \"population\": 1060138}, {\"states\": \"Yerevan\", \"states_code\": \"AM-ER\", \"id\": 1, \"year\": 2012, \"population\": 1061044}, {\"states\": \"Yerevan\", \"states_code\": \"AM-ER\", \"id\": 1, \"year\": 2013, \"population\": 1066264}, {\"states\": \"Yerevan\", \"states_code\": \"AM-ER\", \"id\": 1, \"year\": 2014, \"population\": 1068306}, {\"states\": \"Yerevan\", \"states_code\": \"AM-ER\", \"id\": 1, \"year\": 2015, \"population\": 1071511}, {\"states\": \"Yerevan\", \"states_code\": \"AM-ER\", \"id\": 1, \"year\": 2016, \"population\": 1073660}, {\"states\": \"Yerevan\", \"states_code\": \"AM-ER\", \"id\": 1, \"year\": 2017, \"population\": 1075841}, {\"states\": \"Yerevan\", \"states_code\": \"AM-ER\", \"id\": 1, \"year\": 2018, \"population\": 1077590}, {\"states\": \"Yerevan\", \"states_code\": \"AM-ER\", \"id\": 1, \"year\": 2019, \"population\": 1081874}, {\"states\": \"Yerevan\", \"states_code\": \"AM-ER\", \"id\": 1, \"year\": 2020, \"population\": 1084024}, {\"states\": \"Yerevan\", \"states_code\": \"AM-ER\", \"id\": 1, \"year\": 2021, \"population\": 1091747}, {\"states\": \"Yerevan\", \"states_code\": \"AM-ER\", \"id\": 1, \"year\": 2022, \"population\": 1092778}, {\"states\": \"Yerevan\", \"states_code\": \"AM-ER\", \"id\": 1, \"year\": 2023, \"population\": 1098866}, {\"states\": \"Aragatsotn\", \"states_code\": \"AM-AG\", \"id\": 2, \"year\": 2011, \"population\": 132925}, {\"states\": \"Aragatsotn\", \"states_code\": \"AM-AG\", \"id\": 2, \"year\": 2012, \"population\": 133063}, {\"states\": \"Aragatsotn\", \"states_code\": \"AM-AG\", \"id\": 2, \"year\": 2013, \"population\": 133070}, {\"states\": \"Aragatsotn\", \"states_code\": \"AM-AG\", \"id\": 2, \"year\": 2014, \"population\": 132305}, {\"states\": \"Aragatsotn\", \"states_code\": \"AM-AG\", \"id\": 2, \"year\": 2015, \"population\": 131332}, {\"states\": \"Aragatsotn\", \"states_code\": \"AM-AG\", \"id\": 2, \"year\": 2016, \"population\": 129774}, {\"states\": \"Aragatsotn\", \"states_code\": \"AM-AG\", \"id\": 2, \"year\": 2017, \"population\": 128518}, {\"states\": \"Aragatsotn\", \"states_code\": \"AM-AG\", \"id\": 2, \"year\": 2018, \"population\": 127146}, {\"states\": \"Aragatsotn\", \"states_code\": \"AM-AG\", \"id\": 2, \"year\": 2019, \"population\": 125440}, {\"states\": \"Aragatsotn\", \"states_code\": \"AM-AG\", \"id\": 2, \"year\": 2020, \"population\": 124721}, {\"states\": \"Aragatsotn\", \"states_code\": \"AM-AG\", \"id\": 2, \"year\": 2021, \"population\": 124446}, {\"states\": \"Aragatsotn\", \"states_code\": \"AM-AG\", \"id\": 2, \"year\": 2022, \"population\": 124646}, {\"states\": \"Aragatsotn\", \"states_code\": \"AM-AG\", \"id\": 2, \"year\": 2023, \"population\": 125687}, {\"states\": \"Ararat\", \"states_code\": \"AM-AR\", \"id\": 3, \"year\": 2011, \"population\": 260367}, {\"states\": \"Ararat\", \"states_code\": \"AM-AR\", \"id\": 3, \"year\": 2012, \"population\": 260634}, {\"states\": \"Ararat\", \"states_code\": \"AM-AR\", \"id\": 3, \"year\": 2013, \"population\": 261335}, {\"states\": \"Ararat\", \"states_code\": \"AM-AR\", \"id\": 3, \"year\": 2014, \"population\": 260787}, {\"states\": \"Ararat\", \"states_code\": \"AM-AR\", \"id\": 3, \"year\": 2015, \"population\": 260102}, {\"states\": \"Ararat\", \"states_code\": \"AM-AR\", \"id\": 3, \"year\": 2016, \"population\": 258911}, {\"states\": \"Ararat\", \"states_code\": \"AM-AR\", \"id\": 3, \"year\": 2017, \"population\": 258407}, {\"states\": \"Ararat\", \"states_code\": \"AM-AR\", \"id\": 3, \"year\": 2018, \"population\": 257804}, {\"states\": \"Ararat\", \"states_code\": \"AM-AR\", \"id\": 3, \"year\": 2019, \"population\": 256688}, {\"states\": \"Ararat\", \"states_code\": \"AM-AR\", \"id\": 3, \"year\": 2020, \"population\": 256570}, {\"states\": \"Ararat\", \"states_code\": \"AM-AR\", \"id\": 3, \"year\": 2021, \"population\": 256630}, {\"states\": \"Ararat\", \"states_code\": \"AM-AR\", \"id\": 3, \"year\": 2022, \"population\": 256615}, {\"states\": \"Ararat\", \"states_code\": \"AM-AR\", \"id\": 3, \"year\": 2023, \"population\": 259277}, {\"states\": \"Armavir\", \"states_code\": \"AM-AV\", \"id\": 4, \"year\": 2011, \"population\": 265770}, {\"states\": \"Armavir\", \"states_code\": \"AM-AV\", \"id\": 4, \"year\": 2012, \"population\": 266151}, {\"states\": \"Armavir\", \"states_code\": \"AM-AV\", \"id\": 4, \"year\": 2013, \"population\": 267101}, {\"states\": \"Armavir\", \"states_code\": \"AM-AV\", \"id\": 4, \"year\": 2014, \"population\": 267187}, {\"states\": \"Armavir\", \"states_code\": \"AM-AV\", \"id\": 4, \"year\": 2015, \"population\": 267002}, {\"states\": \"Armavir\", \"states_code\": \"AM-AV\", \"id\": 4, \"year\": 2016, \"population\": 266613}, {\"states\": \"Armavir\", \"states_code\": \"AM-AV\", \"id\": 4, \"year\": 2017, \"population\": 265759}, {\"states\": \"Armavir\", \"states_code\": \"AM-AV\", \"id\": 4, \"year\": 2018, \"population\": 264617}, {\"states\": \"Armavir\", \"states_code\": \"AM-AV\", \"id\": 4, \"year\": 2019, \"population\": 263900}, {\"states\": \"Armavir\", \"states_code\": \"AM-AV\", \"id\": 4, \"year\": 2020, \"population\": 263863}, {\"states\": \"Armavir\", \"states_code\": \"AM-AV\", \"id\": 4, \"year\": 2021, \"population\": 263944}, {\"states\": \"Armavir\", \"states_code\": \"AM-AV\", \"id\": 4, \"year\": 2022, \"population\": 264383}, {\"states\": \"Armavir\", \"states_code\": \"AM-AV\", \"id\": 4, \"year\": 2023, \"population\": 266656}, {\"states\": \"Gegharkunik\", \"states_code\": \"AM-GR\", \"id\": 5, \"year\": 2011, \"population\": 235075}, {\"states\": \"Gegharkunik\", \"states_code\": \"AM-GR\", \"id\": 5, \"year\": 2012, \"population\": 235380}, {\"states\": \"Gegharkunik\", \"states_code\": \"AM-GR\", \"id\": 5, \"year\": 2013, \"population\": 235587}, {\"states\": \"Gegharkunik\", \"states_code\": \"AM-GR\", \"id\": 5, \"year\": 2014, \"population\": 234079}, {\"states\": \"Gegharkunik\", \"states_code\": \"AM-GR\", \"id\": 5, \"year\": 2015, \"population\": 232988}, {\"states\": \"Gegharkunik\", \"states_code\": \"AM-GR\", \"id\": 5, \"year\": 2016, \"population\": 231794}, {\"states\": \"Gegharkunik\", \"states_code\": \"AM-GR\", \"id\": 5, \"year\": 2017, \"population\": 230715}, {\"states\": \"Gegharkunik\", \"states_code\": \"AM-GR\", \"id\": 5, \"year\": 2018, \"population\": 229711}, {\"states\": \"Gegharkunik\", \"states_code\": \"AM-GR\", \"id\": 5, \"year\": 2019, \"population\": 228256}, {\"states\": \"Gegharkunik\", \"states_code\": \"AM-GR\", \"id\": 5, \"year\": 2020, \"population\": 227632}, {\"states\": \"Gegharkunik\", \"states_code\": \"AM-GR\", \"id\": 5, \"year\": 2021, \"population\": 227269}, {\"states\": \"Gegharkunik\", \"states_code\": \"AM-GR\", \"id\": 5, \"year\": 2022, \"population\": 227778}, {\"states\": \"Gegharkunik\", \"states_code\": \"AM-GR\", \"id\": 5, \"year\": 2023, \"population\": 228711}, {\"states\": \"Lori\", \"states_code\": \"AM-LO\", \"id\": 6, \"year\": 2011, \"population\": 235537}, {\"states\": \"Lori\", \"states_code\": \"AM-LO\", \"id\": 6, \"year\": 2012, \"population\": 235660}, {\"states\": \"Lori\", \"states_code\": \"AM-LO\", \"id\": 6, \"year\": 2013, \"population\": 234663}, {\"states\": \"Lori\", \"states_code\": \"AM-LO\", \"id\": 6, \"year\": 2014, \"population\": 230760}, {\"states\": \"Lori\", \"states_code\": \"AM-LO\", \"id\": 6, \"year\": 2015, \"population\": 227999}, {\"states\": \"Lori\", \"states_code\": \"AM-LO\", \"id\": 6, \"year\": 2016, \"population\": 224954}, {\"states\": \"Lori\", \"states_code\": \"AM-LO\", \"id\": 6, \"year\": 2017, \"population\": 221098}, {\"states\": \"Lori\", \"states_code\": \"AM-LO\", \"id\": 6, \"year\": 2018, \"population\": 217363}, {\"states\": \"Lori\", \"states_code\": \"AM-LO\", \"id\": 6, \"year\": 2019, \"population\": 215471}, {\"states\": \"Lori\", \"states_code\": \"AM-LO\", \"id\": 6, \"year\": 2020, \"population\": 213315}, {\"states\": \"Lori\", \"states_code\": \"AM-LO\", \"id\": 6, \"year\": 2021, \"population\": 212566}, {\"states\": \"Lori\", \"states_code\": \"AM-LO\", \"id\": 6, \"year\": 2022, \"population\": 211677}, {\"states\": \"Lori\", \"states_code\": \"AM-LO\", \"id\": 6, \"year\": 2023, \"population\": 211582}, {\"states\": \"Kotayk\", \"states_code\": \"AM-KT\", \"id\": 7, \"year\": 2011, \"population\": 254397}, {\"states\": \"Kotayk\", \"states_code\": \"AM-KT\", \"id\": 7, \"year\": 2012, \"population\": 254616}, {\"states\": \"Kotayk\", \"states_code\": \"AM-KT\", \"id\": 7, \"year\": 2013, \"population\": 255353}, {\"states\": \"Kotayk\", \"states_code\": \"AM-KT\", \"id\": 7, \"year\": 2014, \"population\": 254997}, {\"states\": \"Kotayk\", \"states_code\": \"AM-KT\", \"id\": 7, \"year\": 2015, \"population\": 254990}, {\"states\": \"Kotayk\", \"states_code\": \"AM-KT\", \"id\": 7, \"year\": 2016, \"population\": 253898}, {\"states\": \"Kotayk\", \"states_code\": \"AM-KT\", \"id\": 7, \"year\": 2017, \"population\": 252830}, {\"states\": \"Kotayk\", \"states_code\": \"AM-KT\", \"id\": 7, \"year\": 2018, \"population\": 251598}, {\"states\": \"Kotayk\", \"states_code\": \"AM-KT\", \"id\": 7, \"year\": 2019, \"population\": 251609}, {\"states\": \"Kotayk\", \"states_code\": \"AM-KT\", \"id\": 7, \"year\": 2020, \"population\": 250909}, {\"states\": \"Kotayk\", \"states_code\": \"AM-KT\", \"id\": 7, \"year\": 2021, \"population\": 251177}, {\"states\": \"Kotayk\", \"states_code\": \"AM-KT\", \"id\": 7, \"year\": 2022, \"population\": 251076}, {\"states\": \"Kotayk\", \"states_code\": \"AM-KT\", \"id\": 7, \"year\": 2023, \"population\": 253857}, {\"states\": \"Shirak\", \"states_code\": \"AM-SH\", \"id\": 8, \"year\": 2011, \"population\": 251941}, {\"states\": \"Shirak\", \"states_code\": \"AM-SH\", \"id\": 8, \"year\": 2012, \"population\": 252093}, {\"states\": \"Shirak\", \"states_code\": \"AM-SH\", \"id\": 8, \"year\": 2013, \"population\": 251267}, {\"states\": \"Shirak\", \"states_code\": \"AM-SH\", \"id\": 8, \"year\": 2014, \"population\": 248381}, {\"states\": \"Shirak\", \"states_code\": \"AM-SH\", \"id\": 8, \"year\": 2015, \"population\": 246409}, {\"states\": \"Shirak\", \"states_code\": \"AM-SH\", \"id\": 8, \"year\": 2016, \"population\": 243152}, {\"states\": \"Shirak\", \"states_code\": \"AM-SH\", \"id\": 8, \"year\": 2017, \"population\": 239278}, {\"states\": \"Shirak\", \"states_code\": \"AM-SH\", \"id\": 8, \"year\": 2018, \"population\": 235380}, {\"states\": \"Shirak\", \"states_code\": \"AM-SH\", \"id\": 8, \"year\": 2019, \"population\": 233245}, {\"states\": \"Shirak\", \"states_code\": \"AM-SH\", \"id\": 8, \"year\": 2020, \"population\": 231365}, {\"states\": \"Shirak\", \"states_code\": \"AM-SH\", \"id\": 8, \"year\": 2021, \"population\": 230963}, {\"states\": \"Shirak\", \"states_code\": \"AM-SH\", \"id\": 8, \"year\": 2022, \"population\": 230340}, {\"states\": \"Shirak\", \"states_code\": \"AM-SH\", \"id\": 8, \"year\": 2023, \"population\": 230476}, {\"states\": \"Syunik\", \"states_code\": \"AM-SU\", \"id\": 9, \"year\": 2011, \"population\": 141771}, {\"states\": \"Syunik\", \"states_code\": \"AM-SU\", \"id\": 9, \"year\": 2012, \"population\": 141747}, {\"states\": \"Syunik\", \"states_code\": \"AM-SU\", \"id\": 9, \"year\": 2013, \"population\": 141645}, {\"states\": \"Syunik\", \"states_code\": \"AM-SU\", \"id\": 9, \"year\": 2014, \"population\": 141001}, {\"states\": \"Syunik\", \"states_code\": \"AM-SU\", \"id\": 9, \"year\": 2015, \"population\": 140182}, {\"states\": \"Syunik\", \"states_code\": \"AM-SU\", \"id\": 9, \"year\": 2016, \"population\": 139471}, {\"states\": \"Syunik\", \"states_code\": \"AM-SU\", \"id\": 9, \"year\": 2017, \"population\": 138953}, {\"states\": \"Syunik\", \"states_code\": \"AM-SU\", \"id\": 9, \"year\": 2018, \"population\": 138397}, {\"states\": \"Syunik\", \"states_code\": \"AM-SU\", \"id\": 9, \"year\": 2019, \"population\": 137574}, {\"states\": \"Syunik\", \"states_code\": \"AM-SU\", \"id\": 9, \"year\": 2020, \"population\": 137312}, {\"states\": \"Syunik\", \"states_code\": \"AM-SU\", \"id\": 9, \"year\": 2021, \"population\": 135851}, {\"states\": \"Syunik\", \"states_code\": \"AM-SU\", \"id\": 9, \"year\": 2022, \"population\": 134731}, {\"states\": \"Syunik\", \"states_code\": \"AM-SU\", \"id\": 9, \"year\": 2023, \"population\": 134555}, {\"states\": \"VayotsDzor\", \"states_code\": \"AM-VD\", \"id\": 10, \"year\": 2011, \"population\": 52324}, {\"states\": \"VayotsDzor\", \"states_code\": \"AM-VD\", \"id\": 10, \"year\": 2012, \"population\": 52367}, {\"states\": \"VayotsDzor\", \"states_code\": \"AM-VD\", \"id\": 10, \"year\": 2013, \"population\": 52252}, {\"states\": \"VayotsDzor\", \"states_code\": \"AM-VD\", \"id\": 10, \"year\": 2014, \"population\": 51702}, {\"states\": \"VayotsDzor\", \"states_code\": \"AM-VD\", \"id\": 10, \"year\": 2015, \"population\": 51406}, {\"states\": \"VayotsDzor\", \"states_code\": \"AM-VD\", \"id\": 10, \"year\": 2016, \"population\": 50836}, {\"states\": \"VayotsDzor\", \"states_code\": \"AM-VD\", \"id\": 10, \"year\": 2017, \"population\": 50277}, {\"states\": \"VayotsDzor\", \"states_code\": \"AM-VD\", \"id\": 10, \"year\": 2018, \"population\": 49633}, {\"states\": \"VayotsDzor\", \"states_code\": \"AM-VD\", \"id\": 10, \"year\": 2019, \"population\": 48970}, {\"states\": \"VayotsDzor\", \"states_code\": \"AM-VD\", \"id\": 10, \"year\": 2020, \"population\": 48508}, {\"states\": \"VayotsDzor\", \"states_code\": \"AM-VD\", \"id\": 10, \"year\": 2021, \"population\": 48124}, {\"states\": \"VayotsDzor\", \"states_code\": \"AM-VD\", \"id\": 10, \"year\": 2022, \"population\": 47584}, {\"states\": \"VayotsDzor\", \"states_code\": \"AM-VD\", \"id\": 10, \"year\": 2023, \"population\": 47661}, {\"states\": \"Tavush\", \"states_code\": \"AM-TV\", \"id\": 11, \"year\": 2011, \"population\": 128609}, {\"states\": \"Tavush\", \"states_code\": \"AM-TV\", \"id\": 11, \"year\": 2012, \"population\": 128621}, {\"states\": \"Tavush\", \"states_code\": \"AM-TV\", \"id\": 11, \"year\": 2013, \"population\": 128342}, {\"states\": \"Tavush\", \"states_code\": \"AM-TV\", \"id\": 11, \"year\": 2014, \"population\": 127574}, {\"states\": \"Tavush\", \"states_code\": \"AM-TV\", \"id\": 11, \"year\": 2015, \"population\": 126677}, {\"states\": \"Tavush\", \"states_code\": \"AM-TV\", \"id\": 11, \"year\": 2016, \"population\": 125514}, {\"states\": \"Tavush\", \"states_code\": \"AM-TV\", \"id\": 11, \"year\": 2017, \"population\": 124475}, {\"states\": \"Tavush\", \"states_code\": \"AM-TV\", \"id\": 11, \"year\": 2018, \"population\": 123493}, {\"states\": \"Tavush\", \"states_code\": \"AM-TV\", \"id\": 11, \"year\": 2019, \"population\": 122242}, {\"states\": \"Tavush\", \"states_code\": \"AM-TV\", \"id\": 11, \"year\": 2020, \"population\": 121475}, {\"states\": \"Tavush\", \"states_code\": \"AM-TV\", \"id\": 11, \"year\": 2021, \"population\": 120534}, {\"states\": \"Tavush\", \"states_code\": \"AM-TV\", \"id\": 11, \"year\": 2022, \"population\": 119759}, {\"states\": \"Tavush\", \"states_code\": \"AM-TV\", \"id\": 11, \"year\": 2023, \"population\": 119802}]}}, {\"mode\": \"vega-lite\"});\n",
       "</script>"
      ],
      "text/plain": [
       "alt.Chart(...)"
      ]
     },
     "execution_count": 40,
     "metadata": {},
     "output_type": "execute_result"
    }
   ],
   "source": [
    "import altair as alt\n",
    "\n",
    "alt.themes.enable(\"dark\")\n",
    "\n",
    "heatmap = alt.Chart(df).mark_rect().encode(\n",
    "        y=alt.Y('year:O', axis=alt.Axis(title=\"Year\", titleFontSize=16, titlePadding=15, titleFontWeight=900, labelAngle=0)),\n",
    "        x=alt.X('states:O', axis=alt.Axis(title=\"States\", titleFontSize=16, titlePadding=15, titleFontWeight=900)),\n",
    "        color=alt.Color('max(population):Q',\n",
    "                         legend=alt.Legend(title=\" \"),\n",
    "                         scale=alt.Scale(scheme=\"blueorange\")),\n",
    "        stroke=alt.value('black'),\n",
    "        strokeWidth=alt.value(0.25),\n",
    "        #tooltip=[\n",
    "        #    alt.Tooltip('year:O', title='Year'),\n",
    "        #    alt.Tooltip('population:Q', title='Population')\n",
    "        #]\n",
    "    ).properties(width=900\n",
    "    #).configure_legend(orient='bottom', titleFontSize=16, labelFontSize=14, titlePadding=0\n",
    "    #).configure_axisX(labelFontSize=14)\n",
    "    ).configure_axis(\n",
    "    labelFontSize=12,\n",
    "    titleFontSize=12\n",
    "    )\n",
    "\n",
    "heatmap"
   ]
  },
  {
   "cell_type": "markdown",
   "id": "ebdf2838",
   "metadata": {},
   "source": [
    "Choropleth"
   ]
  },
  {
   "cell_type": "code",
   "execution_count": 41,
   "id": "0fd61db2",
   "metadata": {},
   "outputs": [
    {
     "data": {
      "text/html": [
       "\n",
       "<style>\n",
       "  #altair-viz-908f4abfc13043a29e89acda4b3409a0.vega-embed {\n",
       "    width: 100%;\n",
       "    display: flex;\n",
       "  }\n",
       "\n",
       "  #altair-viz-908f4abfc13043a29e89acda4b3409a0.vega-embed details,\n",
       "  #altair-viz-908f4abfc13043a29e89acda4b3409a0.vega-embed details summary {\n",
       "    position: relative;\n",
       "  }\n",
       "</style>\n",
       "<div id=\"altair-viz-908f4abfc13043a29e89acda4b3409a0\"></div>\n",
       "<script type=\"text/javascript\">\n",
       "  var VEGA_DEBUG = (typeof VEGA_DEBUG == \"undefined\") ? {} : VEGA_DEBUG;\n",
       "  (function(spec, embedOpt){\n",
       "    let outputDiv = document.currentScript.previousElementSibling;\n",
       "    if (outputDiv.id !== \"altair-viz-908f4abfc13043a29e89acda4b3409a0\") {\n",
       "      outputDiv = document.getElementById(\"altair-viz-908f4abfc13043a29e89acda4b3409a0\");\n",
       "    }\n",
       "    const paths = {\n",
       "      \"vega\": \"https://cdn.jsdelivr.net/npm/vega@5?noext\",\n",
       "      \"vega-lib\": \"https://cdn.jsdelivr.net/npm/vega-lib?noext\",\n",
       "      \"vega-lite\": \"https://cdn.jsdelivr.net/npm/vega-lite@5.17.0?noext\",\n",
       "      \"vega-embed\": \"https://cdn.jsdelivr.net/npm/vega-embed@6?noext\",\n",
       "    };\n",
       "\n",
       "    function maybeLoadScript(lib, version) {\n",
       "      var key = `${lib.replace(\"-\", \"\")}_version`;\n",
       "      return (VEGA_DEBUG[key] == version) ?\n",
       "        Promise.resolve(paths[lib]) :\n",
       "        new Promise(function(resolve, reject) {\n",
       "          var s = document.createElement('script');\n",
       "          document.getElementsByTagName(\"head\")[0].appendChild(s);\n",
       "          s.async = true;\n",
       "          s.onload = () => {\n",
       "            VEGA_DEBUG[key] = version;\n",
       "            return resolve(paths[lib]);\n",
       "          };\n",
       "          s.onerror = () => reject(`Error loading script: ${paths[lib]}`);\n",
       "          s.src = paths[lib];\n",
       "        });\n",
       "    }\n",
       "\n",
       "    function showError(err) {\n",
       "      outputDiv.innerHTML = `<div class=\"error\" style=\"color:red;\">${err}</div>`;\n",
       "      throw err;\n",
       "    }\n",
       "\n",
       "    function displayChart(vegaEmbed) {\n",
       "      vegaEmbed(outputDiv, spec, embedOpt)\n",
       "        .catch(err => showError(`Javascript Error: ${err.message}<br>This usually means there's a typo in your chart specification. See the javascript console for the full traceback.`));\n",
       "    }\n",
       "\n",
       "    if(typeof define === \"function\" && define.amd) {\n",
       "      requirejs.config({paths});\n",
       "      require([\"vega-embed\"], displayChart, err => showError(`Error loading script: ${err.message}`));\n",
       "    } else {\n",
       "      maybeLoadScript(\"vega\", \"5\")\n",
       "        .then(() => maybeLoadScript(\"vega-lite\", \"5.17.0\"))\n",
       "        .then(() => maybeLoadScript(\"vega-embed\", \"6\"))\n",
       "        .catch(showError)\n",
       "        .then(() => displayChart(vegaEmbed));\n",
       "    }\n",
       "  })({\"usermeta\": {\"embedOptions\": {\"theme\": \"dark\"}}, \"config\": {\"view\": {\"continuousWidth\": 300, \"continuousHeight\": 300}}, \"data\": {\"url\": \"https://cdn.jsdelivr.net/npm/vega-datasets@v1.29.0/data/us-10m.json\", \"format\": {\"feature\": \"states\", \"type\": \"topojson\"}}, \"mark\": {\"type\": \"geoshape\"}, \"encoding\": {\"color\": {\"field\": \"population\", \"scale\": {\"scheme\": \"blues\"}, \"type\": \"quantitative\"}, \"stroke\": {\"value\": \"#154360\"}}, \"height\": 300, \"projection\": {\"type\": \"albersUsa\"}, \"transform\": [{\"lookup\": \"id\", \"from\": {\"data\": {\"name\": \"data-67246e4352a81a79c78fb239e8b53520\"}, \"key\": \"id\", \"fields\": [\"states\", \"states_code\", \"id\", \"year\", \"population\"]}}], \"width\": 500, \"$schema\": \"https://vega.github.io/schema/vega-lite/v5.17.0.json\", \"datasets\": {\"data-67246e4352a81a79c78fb239e8b53520\": [{\"states\": \"Yerevan\", \"states_code\": \"AM-ER\", \"id\": 1, \"year\": 2023, \"population\": 1098866}, {\"states\": \"Aragatsotn\", \"states_code\": \"AM-AG\", \"id\": 2, \"year\": 2023, \"population\": 125687}, {\"states\": \"Ararat\", \"states_code\": \"AM-AR\", \"id\": 3, \"year\": 2023, \"population\": 259277}, {\"states\": \"Armavir\", \"states_code\": \"AM-AV\", \"id\": 4, \"year\": 2023, \"population\": 266656}, {\"states\": \"Gegharkunik\", \"states_code\": \"AM-GR\", \"id\": 5, \"year\": 2023, \"population\": 228711}, {\"states\": \"Lori\", \"states_code\": \"AM-LO\", \"id\": 6, \"year\": 2023, \"population\": 211582}, {\"states\": \"Kotayk\", \"states_code\": \"AM-KT\", \"id\": 7, \"year\": 2023, \"population\": 253857}, {\"states\": \"Shirak\", \"states_code\": \"AM-SH\", \"id\": 8, \"year\": 2023, \"population\": 230476}, {\"states\": \"Syunik\", \"states_code\": \"AM-SU\", \"id\": 9, \"year\": 2023, \"population\": 134555}, {\"states\": \"VayotsDzor\", \"states_code\": \"AM-VD\", \"id\": 10, \"year\": 2023, \"population\": 47661}, {\"states\": \"Tavush\", \"states_code\": \"AM-TV\", \"id\": 11, \"year\": 2023, \"population\": 119802}]}}, {\"mode\": \"vega-lite\"});\n",
       "</script>"
      ],
      "text/plain": [
       "alt.Chart(...)"
      ]
     },
     "execution_count": 41,
     "metadata": {},
     "output_type": "execute_result"
    }
   ],
   "source": [
    "# Choropleth via Altair\n",
    "import altair as alt\n",
    "from vega_datasets import data\n",
    "\n",
    "alt.themes.enable(\"dark\")\n",
    "\n",
    "states = alt.topo_feature(data.us_10m.url, 'states')\n",
    "\n",
    "alt.Chart(states).mark_geoshape().encode(\n",
    "    color=alt.Color('population:Q', scale=alt.Scale(scheme='blues')),   # scale=color_scale\n",
    "    stroke=alt.value('#154360')\n",
    ").transform_lookup(\n",
    "    lookup='id',\n",
    "    from_=alt.LookupData(df_selected_year, 'id', list(df_selected_year.columns))\n",
    ").properties(\n",
    "    width=500,\n",
    "    height=300\n",
    ").project(\n",
    "    type='albersUsa'\n",
    ")"
   ]
  },
  {
   "cell_type": "code",
   "execution_count": 42,
   "id": "845c923c",
   "metadata": {},
   "outputs": [
    {
     "data": {
      "application/vnd.plotly.v1+json": {
       "config": {
        "plotlyServerURL": "https://plot.ly"
       },
       "data": [
        {
         "coloraxis": "coloraxis",
         "geo": "geo",
         "hovertemplate": "states_code=%{location}<br>Population=%{z}<extra></extra>",
         "locationmode": "USA-states",
         "locations": [
          "AM-ER",
          "AM-AG",
          "AM-AR",
          "AM-AV",
          "AM-GR",
          "AM-LO",
          "AM-KT",
          "AM-SH",
          "AM-SU",
          "AM-VD",
          "AM-TV"
         ],
         "name": "",
         "type": "choropleth",
         "z": [
          1098866,
          125687,
          259277,
          266656,
          228711,
          211582,
          253857,
          230476,
          134555,
          47661,
          119802
         ]
        }
       ],
       "layout": {
        "coloraxis": {
         "cmax": 1098866,
         "cmin": 0,
         "colorbar": {
          "title": {
           "text": "Population"
          }
         },
         "colorscale": [
          [
           0,
           "rgb(247,251,255)"
          ],
          [
           0.125,
           "rgb(222,235,247)"
          ],
          [
           0.25,
           "rgb(198,219,239)"
          ],
          [
           0.375,
           "rgb(158,202,225)"
          ],
          [
           0.5,
           "rgb(107,174,214)"
          ],
          [
           0.625,
           "rgb(66,146,198)"
          ],
          [
           0.75,
           "rgb(33,113,181)"
          ],
          [
           0.875,
           "rgb(8,81,156)"
          ],
          [
           1,
           "rgb(8,48,107)"
          ]
         ]
        },
        "geo": {
         "center": {},
         "domain": {
          "x": [
           0,
           1
          ],
          "y": [
           0,
           1
          ]
         },
         "scope": "usa"
        },
        "height": 350,
        "legend": {
         "tracegroupgap": 0
        },
        "margin": {
         "b": 0,
         "l": 0,
         "r": 0,
         "t": 0
        },
        "paper_bgcolor": "rgba(0, 0, 0, 0)",
        "plot_bgcolor": "rgba(0, 0, 0, 0)",
        "template": {
         "data": {
          "bar": [
           {
            "error_x": {
             "color": "#f2f5fa"
            },
            "error_y": {
             "color": "#f2f5fa"
            },
            "marker": {
             "line": {
              "color": "rgb(17,17,17)",
              "width": 0.5
             },
             "pattern": {
              "fillmode": "overlay",
              "size": 10,
              "solidity": 0.2
             }
            },
            "type": "bar"
           }
          ],
          "barpolar": [
           {
            "marker": {
             "line": {
              "color": "rgb(17,17,17)",
              "width": 0.5
             },
             "pattern": {
              "fillmode": "overlay",
              "size": 10,
              "solidity": 0.2
             }
            },
            "type": "barpolar"
           }
          ],
          "carpet": [
           {
            "aaxis": {
             "endlinecolor": "#A2B1C6",
             "gridcolor": "#506784",
             "linecolor": "#506784",
             "minorgridcolor": "#506784",
             "startlinecolor": "#A2B1C6"
            },
            "baxis": {
             "endlinecolor": "#A2B1C6",
             "gridcolor": "#506784",
             "linecolor": "#506784",
             "minorgridcolor": "#506784",
             "startlinecolor": "#A2B1C6"
            },
            "type": "carpet"
           }
          ],
          "choropleth": [
           {
            "colorbar": {
             "outlinewidth": 0,
             "ticks": ""
            },
            "type": "choropleth"
           }
          ],
          "contour": [
           {
            "colorbar": {
             "outlinewidth": 0,
             "ticks": ""
            },
            "colorscale": [
             [
              0,
              "#0d0887"
             ],
             [
              0.1111111111111111,
              "#46039f"
             ],
             [
              0.2222222222222222,
              "#7201a8"
             ],
             [
              0.3333333333333333,
              "#9c179e"
             ],
             [
              0.4444444444444444,
              "#bd3786"
             ],
             [
              0.5555555555555556,
              "#d8576b"
             ],
             [
              0.6666666666666666,
              "#ed7953"
             ],
             [
              0.7777777777777778,
              "#fb9f3a"
             ],
             [
              0.8888888888888888,
              "#fdca26"
             ],
             [
              1,
              "#f0f921"
             ]
            ],
            "type": "contour"
           }
          ],
          "contourcarpet": [
           {
            "colorbar": {
             "outlinewidth": 0,
             "ticks": ""
            },
            "type": "contourcarpet"
           }
          ],
          "heatmap": [
           {
            "colorbar": {
             "outlinewidth": 0,
             "ticks": ""
            },
            "colorscale": [
             [
              0,
              "#0d0887"
             ],
             [
              0.1111111111111111,
              "#46039f"
             ],
             [
              0.2222222222222222,
              "#7201a8"
             ],
             [
              0.3333333333333333,
              "#9c179e"
             ],
             [
              0.4444444444444444,
              "#bd3786"
             ],
             [
              0.5555555555555556,
              "#d8576b"
             ],
             [
              0.6666666666666666,
              "#ed7953"
             ],
             [
              0.7777777777777778,
              "#fb9f3a"
             ],
             [
              0.8888888888888888,
              "#fdca26"
             ],
             [
              1,
              "#f0f921"
             ]
            ],
            "type": "heatmap"
           }
          ],
          "heatmapgl": [
           {
            "colorbar": {
             "outlinewidth": 0,
             "ticks": ""
            },
            "colorscale": [
             [
              0,
              "#0d0887"
             ],
             [
              0.1111111111111111,
              "#46039f"
             ],
             [
              0.2222222222222222,
              "#7201a8"
             ],
             [
              0.3333333333333333,
              "#9c179e"
             ],
             [
              0.4444444444444444,
              "#bd3786"
             ],
             [
              0.5555555555555556,
              "#d8576b"
             ],
             [
              0.6666666666666666,
              "#ed7953"
             ],
             [
              0.7777777777777778,
              "#fb9f3a"
             ],
             [
              0.8888888888888888,
              "#fdca26"
             ],
             [
              1,
              "#f0f921"
             ]
            ],
            "type": "heatmapgl"
           }
          ],
          "histogram": [
           {
            "marker": {
             "pattern": {
              "fillmode": "overlay",
              "size": 10,
              "solidity": 0.2
             }
            },
            "type": "histogram"
           }
          ],
          "histogram2d": [
           {
            "colorbar": {
             "outlinewidth": 0,
             "ticks": ""
            },
            "colorscale": [
             [
              0,
              "#0d0887"
             ],
             [
              0.1111111111111111,
              "#46039f"
             ],
             [
              0.2222222222222222,
              "#7201a8"
             ],
             [
              0.3333333333333333,
              "#9c179e"
             ],
             [
              0.4444444444444444,
              "#bd3786"
             ],
             [
              0.5555555555555556,
              "#d8576b"
             ],
             [
              0.6666666666666666,
              "#ed7953"
             ],
             [
              0.7777777777777778,
              "#fb9f3a"
             ],
             [
              0.8888888888888888,
              "#fdca26"
             ],
             [
              1,
              "#f0f921"
             ]
            ],
            "type": "histogram2d"
           }
          ],
          "histogram2dcontour": [
           {
            "colorbar": {
             "outlinewidth": 0,
             "ticks": ""
            },
            "colorscale": [
             [
              0,
              "#0d0887"
             ],
             [
              0.1111111111111111,
              "#46039f"
             ],
             [
              0.2222222222222222,
              "#7201a8"
             ],
             [
              0.3333333333333333,
              "#9c179e"
             ],
             [
              0.4444444444444444,
              "#bd3786"
             ],
             [
              0.5555555555555556,
              "#d8576b"
             ],
             [
              0.6666666666666666,
              "#ed7953"
             ],
             [
              0.7777777777777778,
              "#fb9f3a"
             ],
             [
              0.8888888888888888,
              "#fdca26"
             ],
             [
              1,
              "#f0f921"
             ]
            ],
            "type": "histogram2dcontour"
           }
          ],
          "mesh3d": [
           {
            "colorbar": {
             "outlinewidth": 0,
             "ticks": ""
            },
            "type": "mesh3d"
           }
          ],
          "parcoords": [
           {
            "line": {
             "colorbar": {
              "outlinewidth": 0,
              "ticks": ""
             }
            },
            "type": "parcoords"
           }
          ],
          "pie": [
           {
            "automargin": true,
            "type": "pie"
           }
          ],
          "scatter": [
           {
            "marker": {
             "line": {
              "color": "#283442"
             }
            },
            "type": "scatter"
           }
          ],
          "scatter3d": [
           {
            "line": {
             "colorbar": {
              "outlinewidth": 0,
              "ticks": ""
             }
            },
            "marker": {
             "colorbar": {
              "outlinewidth": 0,
              "ticks": ""
             }
            },
            "type": "scatter3d"
           }
          ],
          "scattercarpet": [
           {
            "marker": {
             "colorbar": {
              "outlinewidth": 0,
              "ticks": ""
             }
            },
            "type": "scattercarpet"
           }
          ],
          "scattergeo": [
           {
            "marker": {
             "colorbar": {
              "outlinewidth": 0,
              "ticks": ""
             }
            },
            "type": "scattergeo"
           }
          ],
          "scattergl": [
           {
            "marker": {
             "line": {
              "color": "#283442"
             }
            },
            "type": "scattergl"
           }
          ],
          "scattermapbox": [
           {
            "marker": {
             "colorbar": {
              "outlinewidth": 0,
              "ticks": ""
             }
            },
            "type": "scattermapbox"
           }
          ],
          "scatterpolar": [
           {
            "marker": {
             "colorbar": {
              "outlinewidth": 0,
              "ticks": ""
             }
            },
            "type": "scatterpolar"
           }
          ],
          "scatterpolargl": [
           {
            "marker": {
             "colorbar": {
              "outlinewidth": 0,
              "ticks": ""
             }
            },
            "type": "scatterpolargl"
           }
          ],
          "scatterternary": [
           {
            "marker": {
             "colorbar": {
              "outlinewidth": 0,
              "ticks": ""
             }
            },
            "type": "scatterternary"
           }
          ],
          "surface": [
           {
            "colorbar": {
             "outlinewidth": 0,
             "ticks": ""
            },
            "colorscale": [
             [
              0,
              "#0d0887"
             ],
             [
              0.1111111111111111,
              "#46039f"
             ],
             [
              0.2222222222222222,
              "#7201a8"
             ],
             [
              0.3333333333333333,
              "#9c179e"
             ],
             [
              0.4444444444444444,
              "#bd3786"
             ],
             [
              0.5555555555555556,
              "#d8576b"
             ],
             [
              0.6666666666666666,
              "#ed7953"
             ],
             [
              0.7777777777777778,
              "#fb9f3a"
             ],
             [
              0.8888888888888888,
              "#fdca26"
             ],
             [
              1,
              "#f0f921"
             ]
            ],
            "type": "surface"
           }
          ],
          "table": [
           {
            "cells": {
             "fill": {
              "color": "#506784"
             },
             "line": {
              "color": "rgb(17,17,17)"
             }
            },
            "header": {
             "fill": {
              "color": "#2a3f5f"
             },
             "line": {
              "color": "rgb(17,17,17)"
             }
            },
            "type": "table"
           }
          ]
         },
         "layout": {
          "annotationdefaults": {
           "arrowcolor": "#f2f5fa",
           "arrowhead": 0,
           "arrowwidth": 1
          },
          "autotypenumbers": "strict",
          "coloraxis": {
           "colorbar": {
            "outlinewidth": 0,
            "ticks": ""
           }
          },
          "colorscale": {
           "diverging": [
            [
             0,
             "#8e0152"
            ],
            [
             0.1,
             "#c51b7d"
            ],
            [
             0.2,
             "#de77ae"
            ],
            [
             0.3,
             "#f1b6da"
            ],
            [
             0.4,
             "#fde0ef"
            ],
            [
             0.5,
             "#f7f7f7"
            ],
            [
             0.6,
             "#e6f5d0"
            ],
            [
             0.7,
             "#b8e186"
            ],
            [
             0.8,
             "#7fbc41"
            ],
            [
             0.9,
             "#4d9221"
            ],
            [
             1,
             "#276419"
            ]
           ],
           "sequential": [
            [
             0,
             "#0d0887"
            ],
            [
             0.1111111111111111,
             "#46039f"
            ],
            [
             0.2222222222222222,
             "#7201a8"
            ],
            [
             0.3333333333333333,
             "#9c179e"
            ],
            [
             0.4444444444444444,
             "#bd3786"
            ],
            [
             0.5555555555555556,
             "#d8576b"
            ],
            [
             0.6666666666666666,
             "#ed7953"
            ],
            [
             0.7777777777777778,
             "#fb9f3a"
            ],
            [
             0.8888888888888888,
             "#fdca26"
            ],
            [
             1,
             "#f0f921"
            ]
           ],
           "sequentialminus": [
            [
             0,
             "#0d0887"
            ],
            [
             0.1111111111111111,
             "#46039f"
            ],
            [
             0.2222222222222222,
             "#7201a8"
            ],
            [
             0.3333333333333333,
             "#9c179e"
            ],
            [
             0.4444444444444444,
             "#bd3786"
            ],
            [
             0.5555555555555556,
             "#d8576b"
            ],
            [
             0.6666666666666666,
             "#ed7953"
            ],
            [
             0.7777777777777778,
             "#fb9f3a"
            ],
            [
             0.8888888888888888,
             "#fdca26"
            ],
            [
             1,
             "#f0f921"
            ]
           ]
          },
          "colorway": [
           "#636efa",
           "#EF553B",
           "#00cc96",
           "#ab63fa",
           "#FFA15A",
           "#19d3f3",
           "#FF6692",
           "#B6E880",
           "#FF97FF",
           "#FECB52"
          ],
          "font": {
           "color": "#f2f5fa"
          },
          "geo": {
           "bgcolor": "rgb(17,17,17)",
           "lakecolor": "rgb(17,17,17)",
           "landcolor": "rgb(17,17,17)",
           "showlakes": true,
           "showland": true,
           "subunitcolor": "#506784"
          },
          "hoverlabel": {
           "align": "left"
          },
          "hovermode": "closest",
          "mapbox": {
           "style": "dark"
          },
          "paper_bgcolor": "rgb(17,17,17)",
          "plot_bgcolor": "rgb(17,17,17)",
          "polar": {
           "angularaxis": {
            "gridcolor": "#506784",
            "linecolor": "#506784",
            "ticks": ""
           },
           "bgcolor": "rgb(17,17,17)",
           "radialaxis": {
            "gridcolor": "#506784",
            "linecolor": "#506784",
            "ticks": ""
           }
          },
          "scene": {
           "xaxis": {
            "backgroundcolor": "rgb(17,17,17)",
            "gridcolor": "#506784",
            "gridwidth": 2,
            "linecolor": "#506784",
            "showbackground": true,
            "ticks": "",
            "zerolinecolor": "#C8D4E3"
           },
           "yaxis": {
            "backgroundcolor": "rgb(17,17,17)",
            "gridcolor": "#506784",
            "gridwidth": 2,
            "linecolor": "#506784",
            "showbackground": true,
            "ticks": "",
            "zerolinecolor": "#C8D4E3"
           },
           "zaxis": {
            "backgroundcolor": "rgb(17,17,17)",
            "gridcolor": "#506784",
            "gridwidth": 2,
            "linecolor": "#506784",
            "showbackground": true,
            "ticks": "",
            "zerolinecolor": "#C8D4E3"
           }
          },
          "shapedefaults": {
           "line": {
            "color": "#f2f5fa"
           }
          },
          "sliderdefaults": {
           "bgcolor": "#C8D4E3",
           "bordercolor": "rgb(17,17,17)",
           "borderwidth": 1,
           "tickwidth": 0
          },
          "ternary": {
           "aaxis": {
            "gridcolor": "#506784",
            "linecolor": "#506784",
            "ticks": ""
           },
           "baxis": {
            "gridcolor": "#506784",
            "linecolor": "#506784",
            "ticks": ""
           },
           "bgcolor": "rgb(17,17,17)",
           "caxis": {
            "gridcolor": "#506784",
            "linecolor": "#506784",
            "ticks": ""
           }
          },
          "title": {
           "x": 0.05
          },
          "updatemenudefaults": {
           "bgcolor": "#506784",
           "borderwidth": 0
          },
          "xaxis": {
           "automargin": true,
           "gridcolor": "#283442",
           "linecolor": "#506784",
           "ticks": "",
           "title": {
            "standoff": 15
           },
           "zerolinecolor": "#283442",
           "zerolinewidth": 2
          },
          "yaxis": {
           "automargin": true,
           "gridcolor": "#283442",
           "linecolor": "#506784",
           "ticks": "",
           "title": {
            "standoff": 15
           },
           "zerolinecolor": "#283442",
           "zerolinewidth": 2
          }
         }
        }
       }
      },
      "text/html": [
       "<div>                            <div id=\"d9a16c4f-e01c-48ea-9078-dd675ffa198d\" class=\"plotly-graph-div\" style=\"height:350px; width:100%;\"></div>            <script type=\"text/javascript\">                require([\"plotly\"], function(Plotly) {                    window.PLOTLYENV=window.PLOTLYENV || {};                                    if (document.getElementById(\"d9a16c4f-e01c-48ea-9078-dd675ffa198d\")) {                    Plotly.newPlot(                        \"d9a16c4f-e01c-48ea-9078-dd675ffa198d\",                        [{\"coloraxis\":\"coloraxis\",\"geo\":\"geo\",\"hovertemplate\":\"states_code=%{location}<br>Population=%{z}<extra></extra>\",\"locationmode\":\"USA-states\",\"locations\":[\"AM-ER\",\"AM-AG\",\"AM-AR\",\"AM-AV\",\"AM-GR\",\"AM-LO\",\"AM-KT\",\"AM-SH\",\"AM-SU\",\"AM-VD\",\"AM-TV\"],\"name\":\"\",\"z\":[1098866,125687,259277,266656,228711,211582,253857,230476,134555,47661,119802],\"type\":\"choropleth\"}],                        {\"template\":{\"data\":{\"barpolar\":[{\"marker\":{\"line\":{\"color\":\"rgb(17,17,17)\",\"width\":0.5},\"pattern\":{\"fillmode\":\"overlay\",\"size\":10,\"solidity\":0.2}},\"type\":\"barpolar\"}],\"bar\":[{\"error_x\":{\"color\":\"#f2f5fa\"},\"error_y\":{\"color\":\"#f2f5fa\"},\"marker\":{\"line\":{\"color\":\"rgb(17,17,17)\",\"width\":0.5},\"pattern\":{\"fillmode\":\"overlay\",\"size\":10,\"solidity\":0.2}},\"type\":\"bar\"}],\"carpet\":[{\"aaxis\":{\"endlinecolor\":\"#A2B1C6\",\"gridcolor\":\"#506784\",\"linecolor\":\"#506784\",\"minorgridcolor\":\"#506784\",\"startlinecolor\":\"#A2B1C6\"},\"baxis\":{\"endlinecolor\":\"#A2B1C6\",\"gridcolor\":\"#506784\",\"linecolor\":\"#506784\",\"minorgridcolor\":\"#506784\",\"startlinecolor\":\"#A2B1C6\"},\"type\":\"carpet\"}],\"choropleth\":[{\"colorbar\":{\"outlinewidth\":0,\"ticks\":\"\"},\"type\":\"choropleth\"}],\"contourcarpet\":[{\"colorbar\":{\"outlinewidth\":0,\"ticks\":\"\"},\"type\":\"contourcarpet\"}],\"contour\":[{\"colorbar\":{\"outlinewidth\":0,\"ticks\":\"\"},\"colorscale\":[[0.0,\"#0d0887\"],[0.1111111111111111,\"#46039f\"],[0.2222222222222222,\"#7201a8\"],[0.3333333333333333,\"#9c179e\"],[0.4444444444444444,\"#bd3786\"],[0.5555555555555556,\"#d8576b\"],[0.6666666666666666,\"#ed7953\"],[0.7777777777777778,\"#fb9f3a\"],[0.8888888888888888,\"#fdca26\"],[1.0,\"#f0f921\"]],\"type\":\"contour\"}],\"heatmapgl\":[{\"colorbar\":{\"outlinewidth\":0,\"ticks\":\"\"},\"colorscale\":[[0.0,\"#0d0887\"],[0.1111111111111111,\"#46039f\"],[0.2222222222222222,\"#7201a8\"],[0.3333333333333333,\"#9c179e\"],[0.4444444444444444,\"#bd3786\"],[0.5555555555555556,\"#d8576b\"],[0.6666666666666666,\"#ed7953\"],[0.7777777777777778,\"#fb9f3a\"],[0.8888888888888888,\"#fdca26\"],[1.0,\"#f0f921\"]],\"type\":\"heatmapgl\"}],\"heatmap\":[{\"colorbar\":{\"outlinewidth\":0,\"ticks\":\"\"},\"colorscale\":[[0.0,\"#0d0887\"],[0.1111111111111111,\"#46039f\"],[0.2222222222222222,\"#7201a8\"],[0.3333333333333333,\"#9c179e\"],[0.4444444444444444,\"#bd3786\"],[0.5555555555555556,\"#d8576b\"],[0.6666666666666666,\"#ed7953\"],[0.7777777777777778,\"#fb9f3a\"],[0.8888888888888888,\"#fdca26\"],[1.0,\"#f0f921\"]],\"type\":\"heatmap\"}],\"histogram2dcontour\":[{\"colorbar\":{\"outlinewidth\":0,\"ticks\":\"\"},\"colorscale\":[[0.0,\"#0d0887\"],[0.1111111111111111,\"#46039f\"],[0.2222222222222222,\"#7201a8\"],[0.3333333333333333,\"#9c179e\"],[0.4444444444444444,\"#bd3786\"],[0.5555555555555556,\"#d8576b\"],[0.6666666666666666,\"#ed7953\"],[0.7777777777777778,\"#fb9f3a\"],[0.8888888888888888,\"#fdca26\"],[1.0,\"#f0f921\"]],\"type\":\"histogram2dcontour\"}],\"histogram2d\":[{\"colorbar\":{\"outlinewidth\":0,\"ticks\":\"\"},\"colorscale\":[[0.0,\"#0d0887\"],[0.1111111111111111,\"#46039f\"],[0.2222222222222222,\"#7201a8\"],[0.3333333333333333,\"#9c179e\"],[0.4444444444444444,\"#bd3786\"],[0.5555555555555556,\"#d8576b\"],[0.6666666666666666,\"#ed7953\"],[0.7777777777777778,\"#fb9f3a\"],[0.8888888888888888,\"#fdca26\"],[1.0,\"#f0f921\"]],\"type\":\"histogram2d\"}],\"histogram\":[{\"marker\":{\"pattern\":{\"fillmode\":\"overlay\",\"size\":10,\"solidity\":0.2}},\"type\":\"histogram\"}],\"mesh3d\":[{\"colorbar\":{\"outlinewidth\":0,\"ticks\":\"\"},\"type\":\"mesh3d\"}],\"parcoords\":[{\"line\":{\"colorbar\":{\"outlinewidth\":0,\"ticks\":\"\"}},\"type\":\"parcoords\"}],\"pie\":[{\"automargin\":true,\"type\":\"pie\"}],\"scatter3d\":[{\"line\":{\"colorbar\":{\"outlinewidth\":0,\"ticks\":\"\"}},\"marker\":{\"colorbar\":{\"outlinewidth\":0,\"ticks\":\"\"}},\"type\":\"scatter3d\"}],\"scattercarpet\":[{\"marker\":{\"colorbar\":{\"outlinewidth\":0,\"ticks\":\"\"}},\"type\":\"scattercarpet\"}],\"scattergeo\":[{\"marker\":{\"colorbar\":{\"outlinewidth\":0,\"ticks\":\"\"}},\"type\":\"scattergeo\"}],\"scattergl\":[{\"marker\":{\"line\":{\"color\":\"#283442\"}},\"type\":\"scattergl\"}],\"scattermapbox\":[{\"marker\":{\"colorbar\":{\"outlinewidth\":0,\"ticks\":\"\"}},\"type\":\"scattermapbox\"}],\"scatterpolargl\":[{\"marker\":{\"colorbar\":{\"outlinewidth\":0,\"ticks\":\"\"}},\"type\":\"scatterpolargl\"}],\"scatterpolar\":[{\"marker\":{\"colorbar\":{\"outlinewidth\":0,\"ticks\":\"\"}},\"type\":\"scatterpolar\"}],\"scatter\":[{\"marker\":{\"line\":{\"color\":\"#283442\"}},\"type\":\"scatter\"}],\"scatterternary\":[{\"marker\":{\"colorbar\":{\"outlinewidth\":0,\"ticks\":\"\"}},\"type\":\"scatterternary\"}],\"surface\":[{\"colorbar\":{\"outlinewidth\":0,\"ticks\":\"\"},\"colorscale\":[[0.0,\"#0d0887\"],[0.1111111111111111,\"#46039f\"],[0.2222222222222222,\"#7201a8\"],[0.3333333333333333,\"#9c179e\"],[0.4444444444444444,\"#bd3786\"],[0.5555555555555556,\"#d8576b\"],[0.6666666666666666,\"#ed7953\"],[0.7777777777777778,\"#fb9f3a\"],[0.8888888888888888,\"#fdca26\"],[1.0,\"#f0f921\"]],\"type\":\"surface\"}],\"table\":[{\"cells\":{\"fill\":{\"color\":\"#506784\"},\"line\":{\"color\":\"rgb(17,17,17)\"}},\"header\":{\"fill\":{\"color\":\"#2a3f5f\"},\"line\":{\"color\":\"rgb(17,17,17)\"}},\"type\":\"table\"}]},\"layout\":{\"annotationdefaults\":{\"arrowcolor\":\"#f2f5fa\",\"arrowhead\":0,\"arrowwidth\":1},\"autotypenumbers\":\"strict\",\"coloraxis\":{\"colorbar\":{\"outlinewidth\":0,\"ticks\":\"\"}},\"colorscale\":{\"diverging\":[[0,\"#8e0152\"],[0.1,\"#c51b7d\"],[0.2,\"#de77ae\"],[0.3,\"#f1b6da\"],[0.4,\"#fde0ef\"],[0.5,\"#f7f7f7\"],[0.6,\"#e6f5d0\"],[0.7,\"#b8e186\"],[0.8,\"#7fbc41\"],[0.9,\"#4d9221\"],[1,\"#276419\"]],\"sequential\":[[0.0,\"#0d0887\"],[0.1111111111111111,\"#46039f\"],[0.2222222222222222,\"#7201a8\"],[0.3333333333333333,\"#9c179e\"],[0.4444444444444444,\"#bd3786\"],[0.5555555555555556,\"#d8576b\"],[0.6666666666666666,\"#ed7953\"],[0.7777777777777778,\"#fb9f3a\"],[0.8888888888888888,\"#fdca26\"],[1.0,\"#f0f921\"]],\"sequentialminus\":[[0.0,\"#0d0887\"],[0.1111111111111111,\"#46039f\"],[0.2222222222222222,\"#7201a8\"],[0.3333333333333333,\"#9c179e\"],[0.4444444444444444,\"#bd3786\"],[0.5555555555555556,\"#d8576b\"],[0.6666666666666666,\"#ed7953\"],[0.7777777777777778,\"#fb9f3a\"],[0.8888888888888888,\"#fdca26\"],[1.0,\"#f0f921\"]]},\"colorway\":[\"#636efa\",\"#EF553B\",\"#00cc96\",\"#ab63fa\",\"#FFA15A\",\"#19d3f3\",\"#FF6692\",\"#B6E880\",\"#FF97FF\",\"#FECB52\"],\"font\":{\"color\":\"#f2f5fa\"},\"geo\":{\"bgcolor\":\"rgb(17,17,17)\",\"lakecolor\":\"rgb(17,17,17)\",\"landcolor\":\"rgb(17,17,17)\",\"showlakes\":true,\"showland\":true,\"subunitcolor\":\"#506784\"},\"hoverlabel\":{\"align\":\"left\"},\"hovermode\":\"closest\",\"mapbox\":{\"style\":\"dark\"},\"paper_bgcolor\":\"rgb(17,17,17)\",\"plot_bgcolor\":\"rgb(17,17,17)\",\"polar\":{\"angularaxis\":{\"gridcolor\":\"#506784\",\"linecolor\":\"#506784\",\"ticks\":\"\"},\"bgcolor\":\"rgb(17,17,17)\",\"radialaxis\":{\"gridcolor\":\"#506784\",\"linecolor\":\"#506784\",\"ticks\":\"\"}},\"scene\":{\"xaxis\":{\"backgroundcolor\":\"rgb(17,17,17)\",\"gridcolor\":\"#506784\",\"gridwidth\":2,\"linecolor\":\"#506784\",\"showbackground\":true,\"ticks\":\"\",\"zerolinecolor\":\"#C8D4E3\"},\"yaxis\":{\"backgroundcolor\":\"rgb(17,17,17)\",\"gridcolor\":\"#506784\",\"gridwidth\":2,\"linecolor\":\"#506784\",\"showbackground\":true,\"ticks\":\"\",\"zerolinecolor\":\"#C8D4E3\"},\"zaxis\":{\"backgroundcolor\":\"rgb(17,17,17)\",\"gridcolor\":\"#506784\",\"gridwidth\":2,\"linecolor\":\"#506784\",\"showbackground\":true,\"ticks\":\"\",\"zerolinecolor\":\"#C8D4E3\"}},\"shapedefaults\":{\"line\":{\"color\":\"#f2f5fa\"}},\"sliderdefaults\":{\"bgcolor\":\"#C8D4E3\",\"bordercolor\":\"rgb(17,17,17)\",\"borderwidth\":1,\"tickwidth\":0},\"ternary\":{\"aaxis\":{\"gridcolor\":\"#506784\",\"linecolor\":\"#506784\",\"ticks\":\"\"},\"baxis\":{\"gridcolor\":\"#506784\",\"linecolor\":\"#506784\",\"ticks\":\"\"},\"bgcolor\":\"rgb(17,17,17)\",\"caxis\":{\"gridcolor\":\"#506784\",\"linecolor\":\"#506784\",\"ticks\":\"\"}},\"title\":{\"x\":0.05},\"updatemenudefaults\":{\"bgcolor\":\"#506784\",\"borderwidth\":0},\"xaxis\":{\"automargin\":true,\"gridcolor\":\"#283442\",\"linecolor\":\"#506784\",\"ticks\":\"\",\"title\":{\"standoff\":15},\"zerolinecolor\":\"#283442\",\"zerolinewidth\":2},\"yaxis\":{\"automargin\":true,\"gridcolor\":\"#283442\",\"linecolor\":\"#506784\",\"ticks\":\"\",\"title\":{\"standoff\":15},\"zerolinecolor\":\"#283442\",\"zerolinewidth\":2}}},\"geo\":{\"domain\":{\"x\":[0.0,1.0],\"y\":[0.0,1.0]},\"center\":{},\"scope\":\"usa\"},\"coloraxis\":{\"colorbar\":{\"title\":{\"text\":\"Population\"}},\"colorscale\":[[0.0,\"rgb(247,251,255)\"],[0.125,\"rgb(222,235,247)\"],[0.25,\"rgb(198,219,239)\"],[0.375,\"rgb(158,202,225)\"],[0.5,\"rgb(107,174,214)\"],[0.625,\"rgb(66,146,198)\"],[0.75,\"rgb(33,113,181)\"],[0.875,\"rgb(8,81,156)\"],[1.0,\"rgb(8,48,107)\"]],\"cmin\":0,\"cmax\":1098866},\"legend\":{\"tracegroupgap\":0},\"margin\":{\"t\":0,\"l\":0,\"r\":0,\"b\":0},\"plot_bgcolor\":\"rgba(0, 0, 0, 0)\",\"paper_bgcolor\":\"rgba(0, 0, 0, 0)\",\"height\":350},                        {\"responsive\": true}                    ).then(function(){\n",
       "                            \n",
       "var gd = document.getElementById('d9a16c4f-e01c-48ea-9078-dd675ffa198d');\n",
       "var x = new MutationObserver(function (mutations, observer) {{\n",
       "        var display = window.getComputedStyle(gd).display;\n",
       "        if (!display || display === 'none') {{\n",
       "            console.log([gd, 'removed!']);\n",
       "            Plotly.purge(gd);\n",
       "            observer.disconnect();\n",
       "        }}\n",
       "}});\n",
       "\n",
       "// Listen for the removal of the full notebook cells\n",
       "var notebookContainer = gd.closest('#notebook-container');\n",
       "if (notebookContainer) {{\n",
       "    x.observe(notebookContainer, {childList: true});\n",
       "}}\n",
       "\n",
       "// Listen for the clearing of the current output cell\n",
       "var outputEl = gd.closest('.output');\n",
       "if (outputEl) {{\n",
       "    x.observe(outputEl, {childList: true});\n",
       "}}\n",
       "\n",
       "                        })                };                });            </script>        </div>"
      ]
     },
     "metadata": {},
     "output_type": "display_data"
    }
   ],
   "source": [
    "# Choropleth via Plotly\n",
    "import plotly.express as px\n",
    "\n",
    "choropleth = px.choropleth(df_selected_year, locations='states_code', color='population', locationmode=\"USA-states\",\n",
    "                               color_continuous_scale='blues',\n",
    "                               range_color=(0, max(df_selected_year.population)),\n",
    "                               scope=\"usa\",\n",
    "                               labels={'population':'Population'}\n",
    "                              )\n",
    "choropleth.update_layout(\n",
    "        template='plotly_dark',\n",
    "        plot_bgcolor='rgba(0, 0, 0, 0)',\n",
    "        paper_bgcolor='rgba(0, 0, 0, 0)',\n",
    "        margin=dict(l=0, r=0, t=0, b=0),\n",
    "        height=350\n",
    "    )\n",
    "\n",
    "choropleth\n",
    "     \n"
   ]
  },
  {
   "cell_type": "code",
   "execution_count": null,
   "id": "f8eaeb9a",
   "metadata": {},
   "outputs": [],
   "source": []
  },
  {
   "cell_type": "code",
   "execution_count": null,
   "id": "808436ef",
   "metadata": {},
   "outputs": [],
   "source": []
  },
  {
   "cell_type": "code",
   "execution_count": null,
   "id": "7e725557",
   "metadata": {},
   "outputs": [],
   "source": []
  }
 ],
 "metadata": {
  "kernelspec": {
   "display_name": "Python 3 (ipykernel)",
   "language": "python",
   "name": "python3"
  },
  "language_info": {
   "codemirror_mode": {
    "name": "ipython",
    "version": 3
   },
   "file_extension": ".py",
   "mimetype": "text/x-python",
   "name": "python",
   "nbconvert_exporter": "python",
   "pygments_lexer": "ipython3",
   "version": "3.11.5"
  }
 },
 "nbformat": 4,
 "nbformat_minor": 5
}
